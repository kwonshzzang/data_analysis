{
 "cells": [
  {
   "cell_type": "markdown",
   "source": [
    "## 학습목표\n",
    "- 데이터프레임 groupby 이해하기"
   ],
   "metadata": {
    "collapsed": false
   }
  },
  {
   "cell_type": "code",
   "execution_count": 1,
   "outputs": [],
   "source": [
    "import pandas as pd\n",
    "import numpy as np"
   ],
   "metadata": {
    "collapsed": false
   }
  },
  {
   "cell_type": "markdown",
   "source": [
    "### group by\n",
    "- 아래의 세 단계를 적용하여 데이터를 그룹화(grouping) (SQL의 group by와 개념적으로는 동일, 사용법은 유사)\n",
    "    - 데이터 분할\n",
    "    - operation 적용\n",
    "    - 데이터 병합"
   ],
   "metadata": {
    "collapsed": false
   }
  },
  {
   "cell_type": "code",
   "execution_count": 2,
   "outputs": [
    {
     "data": {
      "text/plain": "   PassengerId  Survived  Pclass  \\\n0            1         0       3   \n1            2         1       1   \n2            3         1       3   \n3            4         1       1   \n4            5         0       3   \n\n                                                Name     Sex   Age  SibSp  \\\n0                            Braund, Mr. Owen Harris    male  22.0      1   \n1  Cumings, Mrs. John Bradley (Florence Briggs Th...  female  38.0      1   \n2                             Heikkinen, Miss. Laina  female  26.0      0   \n3       Futrelle, Mrs. Jacques Heath (Lily May Peel)  female  35.0      1   \n4                           Allen, Mr. William Henry    male  35.0      0   \n\n   Parch            Ticket     Fare Cabin Embarked  \n0      0         A/5 21171   7.2500   NaN        S  \n1      0          PC 17599  71.2833   C85        C  \n2      0  STON/O2. 3101282   7.9250   NaN        S  \n3      0            113803  53.1000  C123        S  \n4      0            373450   8.0500   NaN        S  ",
      "text/html": "<div>\n<style scoped>\n    .dataframe tbody tr th:only-of-type {\n        vertical-align: middle;\n    }\n\n    .dataframe tbody tr th {\n        vertical-align: top;\n    }\n\n    .dataframe thead th {\n        text-align: right;\n    }\n</style>\n<table border=\"1\" class=\"dataframe\">\n  <thead>\n    <tr style=\"text-align: right;\">\n      <th></th>\n      <th>PassengerId</th>\n      <th>Survived</th>\n      <th>Pclass</th>\n      <th>Name</th>\n      <th>Sex</th>\n      <th>Age</th>\n      <th>SibSp</th>\n      <th>Parch</th>\n      <th>Ticket</th>\n      <th>Fare</th>\n      <th>Cabin</th>\n      <th>Embarked</th>\n    </tr>\n  </thead>\n  <tbody>\n    <tr>\n      <th>0</th>\n      <td>1</td>\n      <td>0</td>\n      <td>3</td>\n      <td>Braund, Mr. Owen Harris</td>\n      <td>male</td>\n      <td>22.0</td>\n      <td>1</td>\n      <td>0</td>\n      <td>A/5 21171</td>\n      <td>7.2500</td>\n      <td>NaN</td>\n      <td>S</td>\n    </tr>\n    <tr>\n      <th>1</th>\n      <td>2</td>\n      <td>1</td>\n      <td>1</td>\n      <td>Cumings, Mrs. John Bradley (Florence Briggs Th...</td>\n      <td>female</td>\n      <td>38.0</td>\n      <td>1</td>\n      <td>0</td>\n      <td>PC 17599</td>\n      <td>71.2833</td>\n      <td>C85</td>\n      <td>C</td>\n    </tr>\n    <tr>\n      <th>2</th>\n      <td>3</td>\n      <td>1</td>\n      <td>3</td>\n      <td>Heikkinen, Miss. Laina</td>\n      <td>female</td>\n      <td>26.0</td>\n      <td>0</td>\n      <td>0</td>\n      <td>STON/O2. 3101282</td>\n      <td>7.9250</td>\n      <td>NaN</td>\n      <td>S</td>\n    </tr>\n    <tr>\n      <th>3</th>\n      <td>4</td>\n      <td>1</td>\n      <td>1</td>\n      <td>Futrelle, Mrs. Jacques Heath (Lily May Peel)</td>\n      <td>female</td>\n      <td>35.0</td>\n      <td>1</td>\n      <td>0</td>\n      <td>113803</td>\n      <td>53.1000</td>\n      <td>C123</td>\n      <td>S</td>\n    </tr>\n    <tr>\n      <th>4</th>\n      <td>5</td>\n      <td>0</td>\n      <td>3</td>\n      <td>Allen, Mr. William Henry</td>\n      <td>male</td>\n      <td>35.0</td>\n      <td>0</td>\n      <td>0</td>\n      <td>373450</td>\n      <td>8.0500</td>\n      <td>NaN</td>\n      <td>S</td>\n    </tr>\n  </tbody>\n</table>\n</div>"
     },
     "execution_count": 2,
     "metadata": {},
     "output_type": "execute_result"
    }
   ],
   "source": [
    "df = pd.read_csv('./data/train.csv')\n",
    "df.head()"
   ],
   "metadata": {
    "collapsed": false
   }
  },
  {
   "cell_type": "markdown",
   "source": [
    "### GroupBy groups 속성\n",
    "- 각 그룹과 그룹에 속한 index를 dict 형태로 표현"
   ],
   "metadata": {
    "collapsed": false
   }
  },
  {
   "cell_type": "code",
   "execution_count": 3,
   "outputs": [
    {
     "data": {
      "text/plain": "<pandas.core.groupby.generic.DataFrameGroupBy object at 0x7fe6011df700>"
     },
     "execution_count": 3,
     "metadata": {},
     "output_type": "execute_result"
    }
   ],
   "source": [
    "class_group = df.groupby('Pclass')\n",
    "class_group"
   ],
   "metadata": {
    "collapsed": false
   }
  },
  {
   "cell_type": "code",
   "execution_count": 5,
   "outputs": [
    {
     "data": {
      "text/plain": "{1: [1, 3, 6, 11, 23, 27, 30, 31, 34, 35, 52, 54, 55, 61, 62, 64, 83, 88, 92, 96, 97, 102, 110, 118, 124, 136, 137, 139, 151, 155, 166, 168, 170, 174, 177, 185, 187, 194, 195, 209, 215, 218, 224, 230, 245, 248, 252, 256, 257, 258, 262, 263, 268, 269, 270, 273, 275, 284, 290, 291, 295, 297, 298, 299, 305, 306, 307, 309, 310, 311, 318, 319, 325, 329, 331, 332, 334, 336, 337, 339, 341, 351, 356, 366, 369, 370, 373, 375, 377, 380, 383, 390, 393, 412, 430, 434, 435, 438, 445, 447, ...], 2: [9, 15, 17, 20, 21, 33, 41, 43, 53, 56, 58, 66, 70, 72, 78, 84, 98, 99, 117, 120, 122, 123, 133, 134, 135, 144, 145, 148, 149, 150, 161, 178, 181, 183, 190, 191, 193, 199, 211, 213, 217, 219, 221, 226, 228, 232, 234, 236, 237, 238, 239, 242, 247, 249, 259, 265, 272, 277, 288, 292, 303, 308, 312, 314, 316, 317, 322, 323, 327, 340, 342, 343, 344, 345, 346, 357, 361, 385, 387, 389, 397, 398, 399, 405, 407, 413, 416, 417, 418, 426, 427, 432, 437, 439, 440, 443, 446, 450, 458, 463, ...], 3: [0, 2, 4, 5, 7, 8, 10, 12, 13, 14, 16, 18, 19, 22, 24, 25, 26, 28, 29, 32, 36, 37, 38, 39, 40, 42, 44, 45, 46, 47, 48, 49, 50, 51, 57, 59, 60, 63, 65, 67, 68, 69, 71, 73, 74, 75, 76, 77, 79, 80, 81, 82, 85, 86, 87, 89, 90, 91, 93, 94, 95, 100, 101, 103, 104, 105, 106, 107, 108, 109, 111, 112, 113, 114, 115, 116, 119, 121, 125, 126, 127, 128, 129, 130, 131, 132, 138, 140, 141, 142, 143, 146, 147, 152, 153, 154, 156, 157, 158, 159, ...]}"
     },
     "execution_count": 5,
     "metadata": {},
     "output_type": "execute_result"
    }
   ],
   "source": [
    "class_group.groups"
   ],
   "metadata": {
    "collapsed": false
   }
  },
  {
   "cell_type": "code",
   "execution_count": 6,
   "outputs": [
    {
     "data": {
      "text/plain": "{'female': [1, 2, 3, 8, 9, 10, 11, 14, 15, 18, 19, 22, 24, 25, 28, 31, 32, 38, 39, 40, 41, 43, 44, 47, 49, 52, 53, 56, 58, 61, 66, 68, 71, 79, 82, 84, 85, 88, 98, 100, 106, 109, 111, 113, 114, 119, 123, 128, 132, 133, 136, 140, 141, 142, 147, 151, 156, 161, 166, 167, 172, 177, 180, 184, 186, 190, 192, 194, 195, 198, 199, 205, 208, 211, 215, 216, 218, 229, 230, 233, 235, 237, 240, 241, 246, 247, 251, 254, 255, 256, 257, 258, 259, 264, 268, 269, 272, 274, 275, 276, ...], 'male': [0, 4, 5, 6, 7, 12, 13, 16, 17, 20, 21, 23, 26, 27, 29, 30, 33, 34, 35, 36, 37, 42, 45, 46, 48, 50, 51, 54, 55, 57, 59, 60, 62, 63, 64, 65, 67, 69, 70, 72, 73, 74, 75, 76, 77, 78, 80, 81, 83, 86, 87, 89, 90, 91, 92, 93, 94, 95, 96, 97, 99, 101, 102, 103, 104, 105, 107, 108, 110, 112, 115, 116, 117, 118, 120, 121, 122, 124, 125, 126, 127, 129, 130, 131, 134, 135, 137, 138, 139, 143, 144, 145, 146, 148, 149, 150, 152, 153, 154, 155, ...]}"
     },
     "execution_count": 6,
     "metadata": {},
     "output_type": "execute_result"
    }
   ],
   "source": [
    "gender_group = df.groupby('Sex')\n",
    "gender_group.groups"
   ],
   "metadata": {
    "collapsed": false
   }
  },
  {
   "cell_type": "markdown",
   "source": [
    "### grouping 함수\n",
    "- 그룹 데이터에 적용 가능한 통계함수(NaN은 제외하여 연산)\n",
    "- count - 데이터 개수\n",
    "- sum - 데이터의 합\n",
    "- mean, std, var - 평균, 표준편차, 분산\n",
    "- min, max - 최소, 최대값"
   ],
   "metadata": {
    "collapsed": false
   }
  },
  {
   "cell_type": "code",
   "execution_count": 7,
   "outputs": [
    {
     "data": {
      "text/plain": "        PassengerId  Survived  Name  Sex  Age  SibSp  Parch  Ticket  Fare  \\\nPclass                                                                      \n1               216       216   216  216  186    216    216     216   216   \n2               184       184   184  184  173    184    184     184   184   \n3               491       491   491  491  355    491    491     491   491   \n\n        Cabin  Embarked  \nPclass                   \n1         176       214  \n2          16       184  \n3          12       491  ",
      "text/html": "<div>\n<style scoped>\n    .dataframe tbody tr th:only-of-type {\n        vertical-align: middle;\n    }\n\n    .dataframe tbody tr th {\n        vertical-align: top;\n    }\n\n    .dataframe thead th {\n        text-align: right;\n    }\n</style>\n<table border=\"1\" class=\"dataframe\">\n  <thead>\n    <tr style=\"text-align: right;\">\n      <th></th>\n      <th>PassengerId</th>\n      <th>Survived</th>\n      <th>Name</th>\n      <th>Sex</th>\n      <th>Age</th>\n      <th>SibSp</th>\n      <th>Parch</th>\n      <th>Ticket</th>\n      <th>Fare</th>\n      <th>Cabin</th>\n      <th>Embarked</th>\n    </tr>\n    <tr>\n      <th>Pclass</th>\n      <th></th>\n      <th></th>\n      <th></th>\n      <th></th>\n      <th></th>\n      <th></th>\n      <th></th>\n      <th></th>\n      <th></th>\n      <th></th>\n      <th></th>\n    </tr>\n  </thead>\n  <tbody>\n    <tr>\n      <th>1</th>\n      <td>216</td>\n      <td>216</td>\n      <td>216</td>\n      <td>216</td>\n      <td>186</td>\n      <td>216</td>\n      <td>216</td>\n      <td>216</td>\n      <td>216</td>\n      <td>176</td>\n      <td>214</td>\n    </tr>\n    <tr>\n      <th>2</th>\n      <td>184</td>\n      <td>184</td>\n      <td>184</td>\n      <td>184</td>\n      <td>173</td>\n      <td>184</td>\n      <td>184</td>\n      <td>184</td>\n      <td>184</td>\n      <td>16</td>\n      <td>184</td>\n    </tr>\n    <tr>\n      <th>3</th>\n      <td>491</td>\n      <td>491</td>\n      <td>491</td>\n      <td>491</td>\n      <td>355</td>\n      <td>491</td>\n      <td>491</td>\n      <td>491</td>\n      <td>491</td>\n      <td>12</td>\n      <td>491</td>\n    </tr>\n  </tbody>\n</table>\n</div>"
     },
     "execution_count": 7,
     "metadata": {},
     "output_type": "execute_result"
    }
   ],
   "source": [
    "class_group.count()"
   ],
   "metadata": {
    "collapsed": false
   }
  },
  {
   "cell_type": "code",
   "execution_count": 8,
   "outputs": [
    {
     "data": {
      "text/plain": "        PassengerId  Survived      Age  SibSp  Parch        Fare\nPclass                                                          \n1             99705       136  7111.42     90     77  18177.4125\n2             82056        87  5168.83     74     70   3801.8417\n3            215625       119  8924.92    302    193   6714.6951",
      "text/html": "<div>\n<style scoped>\n    .dataframe tbody tr th:only-of-type {\n        vertical-align: middle;\n    }\n\n    .dataframe tbody tr th {\n        vertical-align: top;\n    }\n\n    .dataframe thead th {\n        text-align: right;\n    }\n</style>\n<table border=\"1\" class=\"dataframe\">\n  <thead>\n    <tr style=\"text-align: right;\">\n      <th></th>\n      <th>PassengerId</th>\n      <th>Survived</th>\n      <th>Age</th>\n      <th>SibSp</th>\n      <th>Parch</th>\n      <th>Fare</th>\n    </tr>\n    <tr>\n      <th>Pclass</th>\n      <th></th>\n      <th></th>\n      <th></th>\n      <th></th>\n      <th></th>\n      <th></th>\n    </tr>\n  </thead>\n  <tbody>\n    <tr>\n      <th>1</th>\n      <td>99705</td>\n      <td>136</td>\n      <td>7111.42</td>\n      <td>90</td>\n      <td>77</td>\n      <td>18177.4125</td>\n    </tr>\n    <tr>\n      <th>2</th>\n      <td>82056</td>\n      <td>87</td>\n      <td>5168.83</td>\n      <td>74</td>\n      <td>70</td>\n      <td>3801.8417</td>\n    </tr>\n    <tr>\n      <th>3</th>\n      <td>215625</td>\n      <td>119</td>\n      <td>8924.92</td>\n      <td>302</td>\n      <td>193</td>\n      <td>6714.6951</td>\n    </tr>\n  </tbody>\n</table>\n</div>"
     },
     "execution_count": 8,
     "metadata": {},
     "output_type": "execute_result"
    }
   ],
   "source": [
    "class_group.sum()"
   ],
   "metadata": {
    "collapsed": false
   }
  },
  {
   "cell_type": "code",
   "execution_count": 10,
   "outputs": [
    {
     "data": {
      "text/plain": "Pclass\n1    38.233441\n2    29.877630\n3    25.140620\nName: Age, dtype: float64"
     },
     "execution_count": 10,
     "metadata": {},
     "output_type": "execute_result"
    }
   ],
   "source": [
    "class_group.mean()['Age']"
   ],
   "metadata": {
    "collapsed": false
   }
  },
  {
   "cell_type": "code",
   "execution_count": 11,
   "outputs": [
    {
     "data": {
      "text/plain": "Pclass\n1    0.629630\n2    0.472826\n3    0.242363\nName: Survived, dtype: float64"
     },
     "execution_count": 11,
     "metadata": {},
     "output_type": "execute_result"
    }
   ],
   "source": [
    "class_group.mean()['Survived']"
   ],
   "metadata": {
    "collapsed": false
   }
  },
  {
   "cell_type": "code",
   "execution_count": 12,
   "outputs": [
    {
     "name": "stderr",
     "output_type": "stream",
     "text": [
      "/var/folders/2p/5ztvmmzx1xzdnqqn7snr0gp00000gn/T/ipykernel_64593/976056175.py:1: FutureWarning: Dropping invalid columns in DataFrameGroupBy.min is deprecated. In a future version, a TypeError will be raised. Before calling .min, select only columns which should be valid for the function.\n",
      "  class_group.min()\n"
     ]
    },
    {
     "data": {
      "text/plain": "        PassengerId  Survived                           Name     Sex   Age  \\\nPclass                                                                       \n1                 2         0  Allen, Miss. Elisabeth Walton  female  0.92   \n2                10         0            Abelson, Mr. Samuel  female  0.67   \n3                 1         0            Abbing, Mr. Anthony  female  0.42   \n\n        SibSp  Parch  Ticket  Fare  \nPclass                              \n1           0      0  110152   0.0  \n2           0      0   11668   0.0  \n3           0      0   12460   0.0  ",
      "text/html": "<div>\n<style scoped>\n    .dataframe tbody tr th:only-of-type {\n        vertical-align: middle;\n    }\n\n    .dataframe tbody tr th {\n        vertical-align: top;\n    }\n\n    .dataframe thead th {\n        text-align: right;\n    }\n</style>\n<table border=\"1\" class=\"dataframe\">\n  <thead>\n    <tr style=\"text-align: right;\">\n      <th></th>\n      <th>PassengerId</th>\n      <th>Survived</th>\n      <th>Name</th>\n      <th>Sex</th>\n      <th>Age</th>\n      <th>SibSp</th>\n      <th>Parch</th>\n      <th>Ticket</th>\n      <th>Fare</th>\n    </tr>\n    <tr>\n      <th>Pclass</th>\n      <th></th>\n      <th></th>\n      <th></th>\n      <th></th>\n      <th></th>\n      <th></th>\n      <th></th>\n      <th></th>\n      <th></th>\n    </tr>\n  </thead>\n  <tbody>\n    <tr>\n      <th>1</th>\n      <td>2</td>\n      <td>0</td>\n      <td>Allen, Miss. Elisabeth Walton</td>\n      <td>female</td>\n      <td>0.92</td>\n      <td>0</td>\n      <td>0</td>\n      <td>110152</td>\n      <td>0.0</td>\n    </tr>\n    <tr>\n      <th>2</th>\n      <td>10</td>\n      <td>0</td>\n      <td>Abelson, Mr. Samuel</td>\n      <td>female</td>\n      <td>0.67</td>\n      <td>0</td>\n      <td>0</td>\n      <td>11668</td>\n      <td>0.0</td>\n    </tr>\n    <tr>\n      <th>3</th>\n      <td>1</td>\n      <td>0</td>\n      <td>Abbing, Mr. Anthony</td>\n      <td>female</td>\n      <td>0.42</td>\n      <td>0</td>\n      <td>0</td>\n      <td>12460</td>\n      <td>0.0</td>\n    </tr>\n  </tbody>\n</table>\n</div>"
     },
     "execution_count": 12,
     "metadata": {},
     "output_type": "execute_result"
    }
   ],
   "source": [
    "class_group.min()"
   ],
   "metadata": {
    "collapsed": false
   }
  },
  {
   "cell_type": "code",
   "execution_count": 13,
   "outputs": [
    {
     "name": "stderr",
     "output_type": "stream",
     "text": [
      "/var/folders/2p/5ztvmmzx1xzdnqqn7snr0gp00000gn/T/ipykernel_64593/320486549.py:1: FutureWarning: Dropping invalid columns in DataFrameGroupBy.max is deprecated. In a future version, a TypeError will be raised. Before calling .max, select only columns which should be valid for the function.\n",
      "  class_group.max()\n"
     ]
    },
    {
     "data": {
      "text/plain": "        PassengerId  Survived                         Name   Sex   Age  SibSp  \\\nPclass                                                                          \n1               890         1     Young, Miss. Marie Grice  male  80.0      3   \n2               887         1    del Carlo, Mr. Sebastiano  male  70.0      3   \n3               891         1  van Melkebeke, Mr. Philemon  male  74.0      8   \n\n        Parch      Ticket      Fare  \nPclass                               \n1           4   WE/P 5735  512.3292  \n2           3   W/C 14208   73.5000  \n3           6  W./C. 6609   69.5500  ",
      "text/html": "<div>\n<style scoped>\n    .dataframe tbody tr th:only-of-type {\n        vertical-align: middle;\n    }\n\n    .dataframe tbody tr th {\n        vertical-align: top;\n    }\n\n    .dataframe thead th {\n        text-align: right;\n    }\n</style>\n<table border=\"1\" class=\"dataframe\">\n  <thead>\n    <tr style=\"text-align: right;\">\n      <th></th>\n      <th>PassengerId</th>\n      <th>Survived</th>\n      <th>Name</th>\n      <th>Sex</th>\n      <th>Age</th>\n      <th>SibSp</th>\n      <th>Parch</th>\n      <th>Ticket</th>\n      <th>Fare</th>\n    </tr>\n    <tr>\n      <th>Pclass</th>\n      <th></th>\n      <th></th>\n      <th></th>\n      <th></th>\n      <th></th>\n      <th></th>\n      <th></th>\n      <th></th>\n      <th></th>\n    </tr>\n  </thead>\n  <tbody>\n    <tr>\n      <th>1</th>\n      <td>890</td>\n      <td>1</td>\n      <td>Young, Miss. Marie Grice</td>\n      <td>male</td>\n      <td>80.0</td>\n      <td>3</td>\n      <td>4</td>\n      <td>WE/P 5735</td>\n      <td>512.3292</td>\n    </tr>\n    <tr>\n      <th>2</th>\n      <td>887</td>\n      <td>1</td>\n      <td>del Carlo, Mr. Sebastiano</td>\n      <td>male</td>\n      <td>70.0</td>\n      <td>3</td>\n      <td>3</td>\n      <td>W/C 14208</td>\n      <td>73.5000</td>\n    </tr>\n    <tr>\n      <th>3</th>\n      <td>891</td>\n      <td>1</td>\n      <td>van Melkebeke, Mr. Philemon</td>\n      <td>male</td>\n      <td>74.0</td>\n      <td>8</td>\n      <td>6</td>\n      <td>W./C. 6609</td>\n      <td>69.5500</td>\n    </tr>\n  </tbody>\n</table>\n</div>"
     },
     "execution_count": 13,
     "metadata": {},
     "output_type": "execute_result"
    }
   ],
   "source": [
    "class_group.max()"
   ],
   "metadata": {
    "collapsed": false
   }
  },
  {
   "cell_type": "markdown",
   "source": [
    "- 성별에 따른 생존율 구하기"
   ],
   "metadata": {
    "collapsed": false
   }
  },
  {
   "cell_type": "code",
   "execution_count": 14,
   "outputs": [
    {
     "data": {
      "text/plain": "Sex\nfemale    0.742038\nmale      0.188908\nName: Survived, dtype: float64"
     },
     "execution_count": 14,
     "metadata": {},
     "output_type": "execute_result"
    }
   ],
   "source": [
    "df.groupby('Sex').mean()['Survived']"
   ],
   "metadata": {
    "collapsed": false
   }
  },
  {
   "cell_type": "markdown",
   "source": [
    "### 복수 column로 grouping 하기\n",
    "- groupby에 column 리스트를 전달\n",
    "- 통계함수를 적용한 결과는 multi index를 갖는 dataframe"
   ],
   "metadata": {
    "collapsed": false
   }
  },
  {
   "cell_type": "markdown",
   "source": [
    "- 클래스와 성별에 따른 생존율 구하기"
   ],
   "metadata": {
    "collapsed": false
   }
  },
  {
   "cell_type": "code",
   "execution_count": 16,
   "outputs": [
    {
     "data": {
      "text/plain": "               PassengerId  Survived        Age     SibSp     Parch  \\\nPclass Sex                                                            \n1      female   469.212766  0.968085  34.611765  0.553191  0.457447   \n       male     455.729508  0.368852  41.281386  0.311475  0.278689   \n2      female   443.105263  0.921053  28.722973  0.486842  0.605263   \n       male     447.962963  0.157407  30.740707  0.342593  0.222222   \n3      female   399.729167  0.500000  21.750000  0.895833  0.798611   \n       male     455.515850  0.135447  26.507589  0.498559  0.224784   \n\n                     Fare  \nPclass Sex                 \n1      female  106.125798  \n       male     67.226127  \n2      female   21.970121  \n       male     19.741782  \n3      female   16.118810  \n       male     12.661633  ",
      "text/html": "<div>\n<style scoped>\n    .dataframe tbody tr th:only-of-type {\n        vertical-align: middle;\n    }\n\n    .dataframe tbody tr th {\n        vertical-align: top;\n    }\n\n    .dataframe thead th {\n        text-align: right;\n    }\n</style>\n<table border=\"1\" class=\"dataframe\">\n  <thead>\n    <tr style=\"text-align: right;\">\n      <th></th>\n      <th></th>\n      <th>PassengerId</th>\n      <th>Survived</th>\n      <th>Age</th>\n      <th>SibSp</th>\n      <th>Parch</th>\n      <th>Fare</th>\n    </tr>\n    <tr>\n      <th>Pclass</th>\n      <th>Sex</th>\n      <th></th>\n      <th></th>\n      <th></th>\n      <th></th>\n      <th></th>\n      <th></th>\n    </tr>\n  </thead>\n  <tbody>\n    <tr>\n      <th rowspan=\"2\" valign=\"top\">1</th>\n      <th>female</th>\n      <td>469.212766</td>\n      <td>0.968085</td>\n      <td>34.611765</td>\n      <td>0.553191</td>\n      <td>0.457447</td>\n      <td>106.125798</td>\n    </tr>\n    <tr>\n      <th>male</th>\n      <td>455.729508</td>\n      <td>0.368852</td>\n      <td>41.281386</td>\n      <td>0.311475</td>\n      <td>0.278689</td>\n      <td>67.226127</td>\n    </tr>\n    <tr>\n      <th rowspan=\"2\" valign=\"top\">2</th>\n      <th>female</th>\n      <td>443.105263</td>\n      <td>0.921053</td>\n      <td>28.722973</td>\n      <td>0.486842</td>\n      <td>0.605263</td>\n      <td>21.970121</td>\n    </tr>\n    <tr>\n      <th>male</th>\n      <td>447.962963</td>\n      <td>0.157407</td>\n      <td>30.740707</td>\n      <td>0.342593</td>\n      <td>0.222222</td>\n      <td>19.741782</td>\n    </tr>\n    <tr>\n      <th rowspan=\"2\" valign=\"top\">3</th>\n      <th>female</th>\n      <td>399.729167</td>\n      <td>0.500000</td>\n      <td>21.750000</td>\n      <td>0.895833</td>\n      <td>0.798611</td>\n      <td>16.118810</td>\n    </tr>\n    <tr>\n      <th>male</th>\n      <td>455.515850</td>\n      <td>0.135447</td>\n      <td>26.507589</td>\n      <td>0.498559</td>\n      <td>0.224784</td>\n      <td>12.661633</td>\n    </tr>\n  </tbody>\n</table>\n</div>"
     },
     "execution_count": 16,
     "metadata": {},
     "output_type": "execute_result"
    }
   ],
   "source": [
    "df.groupby(['Pclass', 'Sex']).mean()"
   ],
   "metadata": {
    "collapsed": false
   }
  },
  {
   "cell_type": "code",
   "execution_count": 17,
   "outputs": [
    {
     "data": {
      "text/plain": "MultiIndex([(1, 'female'),\n            (1,   'male'),\n            (2, 'female'),\n            (2,   'male'),\n            (3, 'female'),\n            (3,   'male')],\n           names=['Pclass', 'Sex'])"
     },
     "execution_count": 17,
     "metadata": {},
     "output_type": "execute_result"
    }
   ],
   "source": [
    "df.groupby(['Pclass', 'Sex']).mean().index"
   ],
   "metadata": {
    "collapsed": false
   }
  },
  {
   "cell_type": "code",
   "execution_count": 18,
   "outputs": [
    {
     "data": {
      "text/plain": "PassengerId    443.105263\nSurvived         0.921053\nAge             28.722973\nSibSp            0.486842\nParch            0.605263\nFare            21.970121\nName: (2, female), dtype: float64"
     },
     "execution_count": 18,
     "metadata": {},
     "output_type": "execute_result"
    }
   ],
   "source": [
    "df.groupby(['Pclass', 'Sex']).mean().loc[(2, 'female')]"
   ],
   "metadata": {
    "collapsed": false
   }
  },
  {
   "cell_type": "code",
   "execution_count": 19,
   "outputs": [
    {
     "data": {
      "text/plain": "Pclass  Sex   \n1       female    0.968085\n        male      0.368852\n2       female    0.921053\n        male      0.157407\n3       female    0.500000\n        male      0.135447\nName: Survived, dtype: float64"
     },
     "execution_count": 19,
     "metadata": {},
     "output_type": "execute_result"
    }
   ],
   "source": [
    "df.groupby(['Pclass', 'Sex']).mean()['Survived']"
   ],
   "metadata": {
    "collapsed": false
   }
  },
  {
   "cell_type": "markdown",
   "source": [
    "### index를 이용한 group by\n",
    "- index가 있는 경우, groupby 함수에 level 사용 가능\n",
    "    - level은 index의 depth를 의미하며, 가장 왼쪽부터 0부터 증가"
   ],
   "metadata": {
    "collapsed": false
   }
  },
  {
   "cell_type": "markdown",
   "source": [
    "- **set_index** 함수\n",
    "    - column 데이터를 index 레벨로 변경\n",
    "- **reset_index** 함수\n",
    "    - 인덱스 초기화"
   ],
   "metadata": {
    "collapsed": false
   }
  },
  {
   "cell_type": "code",
   "execution_count": 20,
   "outputs": [
    {
     "data": {
      "text/plain": "   PassengerId  Survived  Pclass  \\\n0            1         0       3   \n1            2         1       1   \n2            3         1       3   \n3            4         1       1   \n4            5         0       3   \n\n                                                Name     Sex   Age  SibSp  \\\n0                            Braund, Mr. Owen Harris    male  22.0      1   \n1  Cumings, Mrs. John Bradley (Florence Briggs Th...  female  38.0      1   \n2                             Heikkinen, Miss. Laina  female  26.0      0   \n3       Futrelle, Mrs. Jacques Heath (Lily May Peel)  female  35.0      1   \n4                           Allen, Mr. William Henry    male  35.0      0   \n\n   Parch            Ticket     Fare Cabin Embarked  \n0      0         A/5 21171   7.2500   NaN        S  \n1      0          PC 17599  71.2833   C85        C  \n2      0  STON/O2. 3101282   7.9250   NaN        S  \n3      0            113803  53.1000  C123        S  \n4      0            373450   8.0500   NaN        S  ",
      "text/html": "<div>\n<style scoped>\n    .dataframe tbody tr th:only-of-type {\n        vertical-align: middle;\n    }\n\n    .dataframe tbody tr th {\n        vertical-align: top;\n    }\n\n    .dataframe thead th {\n        text-align: right;\n    }\n</style>\n<table border=\"1\" class=\"dataframe\">\n  <thead>\n    <tr style=\"text-align: right;\">\n      <th></th>\n      <th>PassengerId</th>\n      <th>Survived</th>\n      <th>Pclass</th>\n      <th>Name</th>\n      <th>Sex</th>\n      <th>Age</th>\n      <th>SibSp</th>\n      <th>Parch</th>\n      <th>Ticket</th>\n      <th>Fare</th>\n      <th>Cabin</th>\n      <th>Embarked</th>\n    </tr>\n  </thead>\n  <tbody>\n    <tr>\n      <th>0</th>\n      <td>1</td>\n      <td>0</td>\n      <td>3</td>\n      <td>Braund, Mr. Owen Harris</td>\n      <td>male</td>\n      <td>22.0</td>\n      <td>1</td>\n      <td>0</td>\n      <td>A/5 21171</td>\n      <td>7.2500</td>\n      <td>NaN</td>\n      <td>S</td>\n    </tr>\n    <tr>\n      <th>1</th>\n      <td>2</td>\n      <td>1</td>\n      <td>1</td>\n      <td>Cumings, Mrs. John Bradley (Florence Briggs Th...</td>\n      <td>female</td>\n      <td>38.0</td>\n      <td>1</td>\n      <td>0</td>\n      <td>PC 17599</td>\n      <td>71.2833</td>\n      <td>C85</td>\n      <td>C</td>\n    </tr>\n    <tr>\n      <th>2</th>\n      <td>3</td>\n      <td>1</td>\n      <td>3</td>\n      <td>Heikkinen, Miss. Laina</td>\n      <td>female</td>\n      <td>26.0</td>\n      <td>0</td>\n      <td>0</td>\n      <td>STON/O2. 3101282</td>\n      <td>7.9250</td>\n      <td>NaN</td>\n      <td>S</td>\n    </tr>\n    <tr>\n      <th>3</th>\n      <td>4</td>\n      <td>1</td>\n      <td>1</td>\n      <td>Futrelle, Mrs. Jacques Heath (Lily May Peel)</td>\n      <td>female</td>\n      <td>35.0</td>\n      <td>1</td>\n      <td>0</td>\n      <td>113803</td>\n      <td>53.1000</td>\n      <td>C123</td>\n      <td>S</td>\n    </tr>\n    <tr>\n      <th>4</th>\n      <td>5</td>\n      <td>0</td>\n      <td>3</td>\n      <td>Allen, Mr. William Henry</td>\n      <td>male</td>\n      <td>35.0</td>\n      <td>0</td>\n      <td>0</td>\n      <td>373450</td>\n      <td>8.0500</td>\n      <td>NaN</td>\n      <td>S</td>\n    </tr>\n  </tbody>\n</table>\n</div>"
     },
     "execution_count": 20,
     "metadata": {},
     "output_type": "execute_result"
    }
   ],
   "source": [
    "df.head()"
   ],
   "metadata": {
    "collapsed": false
   }
  },
  {
   "cell_type": "code",
   "execution_count": 21,
   "outputs": [
    {
     "data": {
      "text/plain": "        PassengerId  Survived  \\\nPclass                          \n3                 1         0   \n1                 2         1   \n3                 3         1   \n1                 4         1   \n3                 5         0   \n...             ...       ...   \n2               887         0   \n1               888         1   \n3               889         0   \n1               890         1   \n3               891         0   \n\n                                                     Name     Sex   Age  \\\nPclass                                                                    \n3                                 Braund, Mr. Owen Harris    male  22.0   \n1       Cumings, Mrs. John Bradley (Florence Briggs Th...  female  38.0   \n3                                  Heikkinen, Miss. Laina  female  26.0   \n1            Futrelle, Mrs. Jacques Heath (Lily May Peel)  female  35.0   \n3                                Allen, Mr. William Henry    male  35.0   \n...                                                   ...     ...   ...   \n2                                   Montvila, Rev. Juozas    male  27.0   \n1                            Graham, Miss. Margaret Edith  female  19.0   \n3                Johnston, Miss. Catherine Helen \"Carrie\"  female   NaN   \n1                                   Behr, Mr. Karl Howell    male  26.0   \n3                                     Dooley, Mr. Patrick    male  32.0   \n\n        SibSp  Parch            Ticket     Fare Cabin Embarked  \nPclass                                                          \n3           1      0         A/5 21171   7.2500   NaN        S  \n1           1      0          PC 17599  71.2833   C85        C  \n3           0      0  STON/O2. 3101282   7.9250   NaN        S  \n1           1      0            113803  53.1000  C123        S  \n3           0      0            373450   8.0500   NaN        S  \n...       ...    ...               ...      ...   ...      ...  \n2           0      0            211536  13.0000   NaN        S  \n1           0      0            112053  30.0000   B42        S  \n3           1      2        W./C. 6607  23.4500   NaN        S  \n1           0      0            111369  30.0000  C148        C  \n3           0      0            370376   7.7500   NaN        Q  \n\n[891 rows x 11 columns]",
      "text/html": "<div>\n<style scoped>\n    .dataframe tbody tr th:only-of-type {\n        vertical-align: middle;\n    }\n\n    .dataframe tbody tr th {\n        vertical-align: top;\n    }\n\n    .dataframe thead th {\n        text-align: right;\n    }\n</style>\n<table border=\"1\" class=\"dataframe\">\n  <thead>\n    <tr style=\"text-align: right;\">\n      <th></th>\n      <th>PassengerId</th>\n      <th>Survived</th>\n      <th>Name</th>\n      <th>Sex</th>\n      <th>Age</th>\n      <th>SibSp</th>\n      <th>Parch</th>\n      <th>Ticket</th>\n      <th>Fare</th>\n      <th>Cabin</th>\n      <th>Embarked</th>\n    </tr>\n    <tr>\n      <th>Pclass</th>\n      <th></th>\n      <th></th>\n      <th></th>\n      <th></th>\n      <th></th>\n      <th></th>\n      <th></th>\n      <th></th>\n      <th></th>\n      <th></th>\n      <th></th>\n    </tr>\n  </thead>\n  <tbody>\n    <tr>\n      <th>3</th>\n      <td>1</td>\n      <td>0</td>\n      <td>Braund, Mr. Owen Harris</td>\n      <td>male</td>\n      <td>22.0</td>\n      <td>1</td>\n      <td>0</td>\n      <td>A/5 21171</td>\n      <td>7.2500</td>\n      <td>NaN</td>\n      <td>S</td>\n    </tr>\n    <tr>\n      <th>1</th>\n      <td>2</td>\n      <td>1</td>\n      <td>Cumings, Mrs. John Bradley (Florence Briggs Th...</td>\n      <td>female</td>\n      <td>38.0</td>\n      <td>1</td>\n      <td>0</td>\n      <td>PC 17599</td>\n      <td>71.2833</td>\n      <td>C85</td>\n      <td>C</td>\n    </tr>\n    <tr>\n      <th>3</th>\n      <td>3</td>\n      <td>1</td>\n      <td>Heikkinen, Miss. Laina</td>\n      <td>female</td>\n      <td>26.0</td>\n      <td>0</td>\n      <td>0</td>\n      <td>STON/O2. 3101282</td>\n      <td>7.9250</td>\n      <td>NaN</td>\n      <td>S</td>\n    </tr>\n    <tr>\n      <th>1</th>\n      <td>4</td>\n      <td>1</td>\n      <td>Futrelle, Mrs. Jacques Heath (Lily May Peel)</td>\n      <td>female</td>\n      <td>35.0</td>\n      <td>1</td>\n      <td>0</td>\n      <td>113803</td>\n      <td>53.1000</td>\n      <td>C123</td>\n      <td>S</td>\n    </tr>\n    <tr>\n      <th>3</th>\n      <td>5</td>\n      <td>0</td>\n      <td>Allen, Mr. William Henry</td>\n      <td>male</td>\n      <td>35.0</td>\n      <td>0</td>\n      <td>0</td>\n      <td>373450</td>\n      <td>8.0500</td>\n      <td>NaN</td>\n      <td>S</td>\n    </tr>\n    <tr>\n      <th>...</th>\n      <td>...</td>\n      <td>...</td>\n      <td>...</td>\n      <td>...</td>\n      <td>...</td>\n      <td>...</td>\n      <td>...</td>\n      <td>...</td>\n      <td>...</td>\n      <td>...</td>\n      <td>...</td>\n    </tr>\n    <tr>\n      <th>2</th>\n      <td>887</td>\n      <td>0</td>\n      <td>Montvila, Rev. Juozas</td>\n      <td>male</td>\n      <td>27.0</td>\n      <td>0</td>\n      <td>0</td>\n      <td>211536</td>\n      <td>13.0000</td>\n      <td>NaN</td>\n      <td>S</td>\n    </tr>\n    <tr>\n      <th>1</th>\n      <td>888</td>\n      <td>1</td>\n      <td>Graham, Miss. Margaret Edith</td>\n      <td>female</td>\n      <td>19.0</td>\n      <td>0</td>\n      <td>0</td>\n      <td>112053</td>\n      <td>30.0000</td>\n      <td>B42</td>\n      <td>S</td>\n    </tr>\n    <tr>\n      <th>3</th>\n      <td>889</td>\n      <td>0</td>\n      <td>Johnston, Miss. Catherine Helen \"Carrie\"</td>\n      <td>female</td>\n      <td>NaN</td>\n      <td>1</td>\n      <td>2</td>\n      <td>W./C. 6607</td>\n      <td>23.4500</td>\n      <td>NaN</td>\n      <td>S</td>\n    </tr>\n    <tr>\n      <th>1</th>\n      <td>890</td>\n      <td>1</td>\n      <td>Behr, Mr. Karl Howell</td>\n      <td>male</td>\n      <td>26.0</td>\n      <td>0</td>\n      <td>0</td>\n      <td>111369</td>\n      <td>30.0000</td>\n      <td>C148</td>\n      <td>C</td>\n    </tr>\n    <tr>\n      <th>3</th>\n      <td>891</td>\n      <td>0</td>\n      <td>Dooley, Mr. Patrick</td>\n      <td>male</td>\n      <td>32.0</td>\n      <td>0</td>\n      <td>0</td>\n      <td>370376</td>\n      <td>7.7500</td>\n      <td>NaN</td>\n      <td>Q</td>\n    </tr>\n  </tbody>\n</table>\n<p>891 rows × 11 columns</p>\n</div>"
     },
     "execution_count": 21,
     "metadata": {},
     "output_type": "execute_result"
    }
   ],
   "source": [
    "df.set_index('Pclass')"
   ],
   "metadata": {
    "collapsed": false
   }
  },
  {
   "cell_type": "code",
   "execution_count": 22,
   "outputs": [
    {
     "data": {
      "text/plain": "               PassengerId  Survived  \\\nPclass Sex                             \n3      male              1         0   \n1      female            2         1   \n3      female            3         1   \n1      female            4         1   \n3      male              5         0   \n...                    ...       ...   \n2      male            887         0   \n1      female          888         1   \n3      female          889         0   \n1      male            890         1   \n3      male            891         0   \n\n                                                            Name   Age  SibSp  \\\nPclass Sex                                                                      \n3      male                              Braund, Mr. Owen Harris  22.0      1   \n1      female  Cumings, Mrs. John Bradley (Florence Briggs Th...  38.0      1   \n3      female                             Heikkinen, Miss. Laina  26.0      0   \n1      female       Futrelle, Mrs. Jacques Heath (Lily May Peel)  35.0      1   \n3      male                             Allen, Mr. William Henry  35.0      0   \n...                                                          ...   ...    ...   \n2      male                                Montvila, Rev. Juozas  27.0      0   \n1      female                       Graham, Miss. Margaret Edith  19.0      0   \n3      female           Johnston, Miss. Catherine Helen \"Carrie\"   NaN      1   \n1      male                                Behr, Mr. Karl Howell  26.0      0   \n3      male                                  Dooley, Mr. Patrick  32.0      0   \n\n               Parch            Ticket     Fare Cabin Embarked  \nPclass Sex                                                      \n3      male        0         A/5 21171   7.2500   NaN        S  \n1      female      0          PC 17599  71.2833   C85        C  \n3      female      0  STON/O2. 3101282   7.9250   NaN        S  \n1      female      0            113803  53.1000  C123        S  \n3      male        0            373450   8.0500   NaN        S  \n...              ...               ...      ...   ...      ...  \n2      male        0            211536  13.0000   NaN        S  \n1      female      0            112053  30.0000   B42        S  \n3      female      2        W./C. 6607  23.4500   NaN        S  \n1      male        0            111369  30.0000  C148        C  \n3      male        0            370376   7.7500   NaN        Q  \n\n[891 rows x 10 columns]",
      "text/html": "<div>\n<style scoped>\n    .dataframe tbody tr th:only-of-type {\n        vertical-align: middle;\n    }\n\n    .dataframe tbody tr th {\n        vertical-align: top;\n    }\n\n    .dataframe thead th {\n        text-align: right;\n    }\n</style>\n<table border=\"1\" class=\"dataframe\">\n  <thead>\n    <tr style=\"text-align: right;\">\n      <th></th>\n      <th></th>\n      <th>PassengerId</th>\n      <th>Survived</th>\n      <th>Name</th>\n      <th>Age</th>\n      <th>SibSp</th>\n      <th>Parch</th>\n      <th>Ticket</th>\n      <th>Fare</th>\n      <th>Cabin</th>\n      <th>Embarked</th>\n    </tr>\n    <tr>\n      <th>Pclass</th>\n      <th>Sex</th>\n      <th></th>\n      <th></th>\n      <th></th>\n      <th></th>\n      <th></th>\n      <th></th>\n      <th></th>\n      <th></th>\n      <th></th>\n      <th></th>\n    </tr>\n  </thead>\n  <tbody>\n    <tr>\n      <th>3</th>\n      <th>male</th>\n      <td>1</td>\n      <td>0</td>\n      <td>Braund, Mr. Owen Harris</td>\n      <td>22.0</td>\n      <td>1</td>\n      <td>0</td>\n      <td>A/5 21171</td>\n      <td>7.2500</td>\n      <td>NaN</td>\n      <td>S</td>\n    </tr>\n    <tr>\n      <th>1</th>\n      <th>female</th>\n      <td>2</td>\n      <td>1</td>\n      <td>Cumings, Mrs. John Bradley (Florence Briggs Th...</td>\n      <td>38.0</td>\n      <td>1</td>\n      <td>0</td>\n      <td>PC 17599</td>\n      <td>71.2833</td>\n      <td>C85</td>\n      <td>C</td>\n    </tr>\n    <tr>\n      <th>3</th>\n      <th>female</th>\n      <td>3</td>\n      <td>1</td>\n      <td>Heikkinen, Miss. Laina</td>\n      <td>26.0</td>\n      <td>0</td>\n      <td>0</td>\n      <td>STON/O2. 3101282</td>\n      <td>7.9250</td>\n      <td>NaN</td>\n      <td>S</td>\n    </tr>\n    <tr>\n      <th>1</th>\n      <th>female</th>\n      <td>4</td>\n      <td>1</td>\n      <td>Futrelle, Mrs. Jacques Heath (Lily May Peel)</td>\n      <td>35.0</td>\n      <td>1</td>\n      <td>0</td>\n      <td>113803</td>\n      <td>53.1000</td>\n      <td>C123</td>\n      <td>S</td>\n    </tr>\n    <tr>\n      <th>3</th>\n      <th>male</th>\n      <td>5</td>\n      <td>0</td>\n      <td>Allen, Mr. William Henry</td>\n      <td>35.0</td>\n      <td>0</td>\n      <td>0</td>\n      <td>373450</td>\n      <td>8.0500</td>\n      <td>NaN</td>\n      <td>S</td>\n    </tr>\n    <tr>\n      <th>...</th>\n      <th>...</th>\n      <td>...</td>\n      <td>...</td>\n      <td>...</td>\n      <td>...</td>\n      <td>...</td>\n      <td>...</td>\n      <td>...</td>\n      <td>...</td>\n      <td>...</td>\n      <td>...</td>\n    </tr>\n    <tr>\n      <th>2</th>\n      <th>male</th>\n      <td>887</td>\n      <td>0</td>\n      <td>Montvila, Rev. Juozas</td>\n      <td>27.0</td>\n      <td>0</td>\n      <td>0</td>\n      <td>211536</td>\n      <td>13.0000</td>\n      <td>NaN</td>\n      <td>S</td>\n    </tr>\n    <tr>\n      <th>1</th>\n      <th>female</th>\n      <td>888</td>\n      <td>1</td>\n      <td>Graham, Miss. Margaret Edith</td>\n      <td>19.0</td>\n      <td>0</td>\n      <td>0</td>\n      <td>112053</td>\n      <td>30.0000</td>\n      <td>B42</td>\n      <td>S</td>\n    </tr>\n    <tr>\n      <th>3</th>\n      <th>female</th>\n      <td>889</td>\n      <td>0</td>\n      <td>Johnston, Miss. Catherine Helen \"Carrie\"</td>\n      <td>NaN</td>\n      <td>1</td>\n      <td>2</td>\n      <td>W./C. 6607</td>\n      <td>23.4500</td>\n      <td>NaN</td>\n      <td>S</td>\n    </tr>\n    <tr>\n      <th>1</th>\n      <th>male</th>\n      <td>890</td>\n      <td>1</td>\n      <td>Behr, Mr. Karl Howell</td>\n      <td>26.0</td>\n      <td>0</td>\n      <td>0</td>\n      <td>111369</td>\n      <td>30.0000</td>\n      <td>C148</td>\n      <td>C</td>\n    </tr>\n    <tr>\n      <th>3</th>\n      <th>male</th>\n      <td>891</td>\n      <td>0</td>\n      <td>Dooley, Mr. Patrick</td>\n      <td>32.0</td>\n      <td>0</td>\n      <td>0</td>\n      <td>370376</td>\n      <td>7.7500</td>\n      <td>NaN</td>\n      <td>Q</td>\n    </tr>\n  </tbody>\n</table>\n<p>891 rows × 10 columns</p>\n</div>"
     },
     "execution_count": 22,
     "metadata": {},
     "output_type": "execute_result"
    }
   ],
   "source": [
    "df.set_index(['Pclass', 'Sex'])"
   ],
   "metadata": {
    "collapsed": false
   }
  },
  {
   "cell_type": "code",
   "execution_count": 23,
   "outputs": [
    {
     "data": {
      "text/plain": "     Pclass     Sex  PassengerId  Survived  \\\n0         3    male            1         0   \n1         1  female            2         1   \n2         3  female            3         1   \n3         1  female            4         1   \n4         3    male            5         0   \n..      ...     ...          ...       ...   \n886       2    male          887         0   \n887       1  female          888         1   \n888       3  female          889         0   \n889       1    male          890         1   \n890       3    male          891         0   \n\n                                                  Name   Age  SibSp  Parch  \\\n0                              Braund, Mr. Owen Harris  22.0      1      0   \n1    Cumings, Mrs. John Bradley (Florence Briggs Th...  38.0      1      0   \n2                               Heikkinen, Miss. Laina  26.0      0      0   \n3         Futrelle, Mrs. Jacques Heath (Lily May Peel)  35.0      1      0   \n4                             Allen, Mr. William Henry  35.0      0      0   \n..                                                 ...   ...    ...    ...   \n886                              Montvila, Rev. Juozas  27.0      0      0   \n887                       Graham, Miss. Margaret Edith  19.0      0      0   \n888           Johnston, Miss. Catherine Helen \"Carrie\"   NaN      1      2   \n889                              Behr, Mr. Karl Howell  26.0      0      0   \n890                                Dooley, Mr. Patrick  32.0      0      0   \n\n               Ticket     Fare Cabin Embarked  \n0           A/5 21171   7.2500   NaN        S  \n1            PC 17599  71.2833   C85        C  \n2    STON/O2. 3101282   7.9250   NaN        S  \n3              113803  53.1000  C123        S  \n4              373450   8.0500   NaN        S  \n..                ...      ...   ...      ...  \n886            211536  13.0000   NaN        S  \n887            112053  30.0000   B42        S  \n888        W./C. 6607  23.4500   NaN        S  \n889            111369  30.0000  C148        C  \n890            370376   7.7500   NaN        Q  \n\n[891 rows x 12 columns]",
      "text/html": "<div>\n<style scoped>\n    .dataframe tbody tr th:only-of-type {\n        vertical-align: middle;\n    }\n\n    .dataframe tbody tr th {\n        vertical-align: top;\n    }\n\n    .dataframe thead th {\n        text-align: right;\n    }\n</style>\n<table border=\"1\" class=\"dataframe\">\n  <thead>\n    <tr style=\"text-align: right;\">\n      <th></th>\n      <th>Pclass</th>\n      <th>Sex</th>\n      <th>PassengerId</th>\n      <th>Survived</th>\n      <th>Name</th>\n      <th>Age</th>\n      <th>SibSp</th>\n      <th>Parch</th>\n      <th>Ticket</th>\n      <th>Fare</th>\n      <th>Cabin</th>\n      <th>Embarked</th>\n    </tr>\n  </thead>\n  <tbody>\n    <tr>\n      <th>0</th>\n      <td>3</td>\n      <td>male</td>\n      <td>1</td>\n      <td>0</td>\n      <td>Braund, Mr. Owen Harris</td>\n      <td>22.0</td>\n      <td>1</td>\n      <td>0</td>\n      <td>A/5 21171</td>\n      <td>7.2500</td>\n      <td>NaN</td>\n      <td>S</td>\n    </tr>\n    <tr>\n      <th>1</th>\n      <td>1</td>\n      <td>female</td>\n      <td>2</td>\n      <td>1</td>\n      <td>Cumings, Mrs. John Bradley (Florence Briggs Th...</td>\n      <td>38.0</td>\n      <td>1</td>\n      <td>0</td>\n      <td>PC 17599</td>\n      <td>71.2833</td>\n      <td>C85</td>\n      <td>C</td>\n    </tr>\n    <tr>\n      <th>2</th>\n      <td>3</td>\n      <td>female</td>\n      <td>3</td>\n      <td>1</td>\n      <td>Heikkinen, Miss. Laina</td>\n      <td>26.0</td>\n      <td>0</td>\n      <td>0</td>\n      <td>STON/O2. 3101282</td>\n      <td>7.9250</td>\n      <td>NaN</td>\n      <td>S</td>\n    </tr>\n    <tr>\n      <th>3</th>\n      <td>1</td>\n      <td>female</td>\n      <td>4</td>\n      <td>1</td>\n      <td>Futrelle, Mrs. Jacques Heath (Lily May Peel)</td>\n      <td>35.0</td>\n      <td>1</td>\n      <td>0</td>\n      <td>113803</td>\n      <td>53.1000</td>\n      <td>C123</td>\n      <td>S</td>\n    </tr>\n    <tr>\n      <th>4</th>\n      <td>3</td>\n      <td>male</td>\n      <td>5</td>\n      <td>0</td>\n      <td>Allen, Mr. William Henry</td>\n      <td>35.0</td>\n      <td>0</td>\n      <td>0</td>\n      <td>373450</td>\n      <td>8.0500</td>\n      <td>NaN</td>\n      <td>S</td>\n    </tr>\n    <tr>\n      <th>...</th>\n      <td>...</td>\n      <td>...</td>\n      <td>...</td>\n      <td>...</td>\n      <td>...</td>\n      <td>...</td>\n      <td>...</td>\n      <td>...</td>\n      <td>...</td>\n      <td>...</td>\n      <td>...</td>\n      <td>...</td>\n    </tr>\n    <tr>\n      <th>886</th>\n      <td>2</td>\n      <td>male</td>\n      <td>887</td>\n      <td>0</td>\n      <td>Montvila, Rev. Juozas</td>\n      <td>27.0</td>\n      <td>0</td>\n      <td>0</td>\n      <td>211536</td>\n      <td>13.0000</td>\n      <td>NaN</td>\n      <td>S</td>\n    </tr>\n    <tr>\n      <th>887</th>\n      <td>1</td>\n      <td>female</td>\n      <td>888</td>\n      <td>1</td>\n      <td>Graham, Miss. Margaret Edith</td>\n      <td>19.0</td>\n      <td>0</td>\n      <td>0</td>\n      <td>112053</td>\n      <td>30.0000</td>\n      <td>B42</td>\n      <td>S</td>\n    </tr>\n    <tr>\n      <th>888</th>\n      <td>3</td>\n      <td>female</td>\n      <td>889</td>\n      <td>0</td>\n      <td>Johnston, Miss. Catherine Helen \"Carrie\"</td>\n      <td>NaN</td>\n      <td>1</td>\n      <td>2</td>\n      <td>W./C. 6607</td>\n      <td>23.4500</td>\n      <td>NaN</td>\n      <td>S</td>\n    </tr>\n    <tr>\n      <th>889</th>\n      <td>1</td>\n      <td>male</td>\n      <td>890</td>\n      <td>1</td>\n      <td>Behr, Mr. Karl Howell</td>\n      <td>26.0</td>\n      <td>0</td>\n      <td>0</td>\n      <td>111369</td>\n      <td>30.0000</td>\n      <td>C148</td>\n      <td>C</td>\n    </tr>\n    <tr>\n      <th>890</th>\n      <td>3</td>\n      <td>male</td>\n      <td>891</td>\n      <td>0</td>\n      <td>Dooley, Mr. Patrick</td>\n      <td>32.0</td>\n      <td>0</td>\n      <td>0</td>\n      <td>370376</td>\n      <td>7.7500</td>\n      <td>NaN</td>\n      <td>Q</td>\n    </tr>\n  </tbody>\n</table>\n<p>891 rows × 12 columns</p>\n</div>"
     },
     "execution_count": 23,
     "metadata": {},
     "output_type": "execute_result"
    }
   ],
   "source": [
    "df.set_index(['Pclass', 'Sex']).reset_index()"
   ],
   "metadata": {
    "collapsed": false
   }
  },
  {
   "cell_type": "code",
   "execution_count": 24,
   "outputs": [
    {
     "data": {
      "text/plain": "       PassengerId  Survived  Pclass  SibSp  Parch      Fare\nAge                                                         \n0.42         804.0       1.0     3.0    0.0    1.0    8.5167\n0.67         756.0       1.0     2.0    1.0    1.0   14.5000\n0.75         557.5       1.0     3.0    2.0    1.0   19.2583\n0.83         455.5       1.0     2.0    0.5    1.5   23.8750\n0.92         306.0       1.0     1.0    1.0    2.0  151.5500\n...            ...       ...     ...    ...    ...       ...\n70.00        709.5       0.0     1.5    0.5    0.5   40.7500\n70.50        117.0       0.0     3.0    0.0    0.0    7.7500\n71.00        295.5       0.0     1.0    0.0    0.0   42.0792\n74.00        852.0       0.0     3.0    0.0    0.0    7.7750\n80.00        631.0       1.0     1.0    0.0    0.0   30.0000\n\n[88 rows x 6 columns]",
      "text/html": "<div>\n<style scoped>\n    .dataframe tbody tr th:only-of-type {\n        vertical-align: middle;\n    }\n\n    .dataframe tbody tr th {\n        vertical-align: top;\n    }\n\n    .dataframe thead th {\n        text-align: right;\n    }\n</style>\n<table border=\"1\" class=\"dataframe\">\n  <thead>\n    <tr style=\"text-align: right;\">\n      <th></th>\n      <th>PassengerId</th>\n      <th>Survived</th>\n      <th>Pclass</th>\n      <th>SibSp</th>\n      <th>Parch</th>\n      <th>Fare</th>\n    </tr>\n    <tr>\n      <th>Age</th>\n      <th></th>\n      <th></th>\n      <th></th>\n      <th></th>\n      <th></th>\n      <th></th>\n    </tr>\n  </thead>\n  <tbody>\n    <tr>\n      <th>0.42</th>\n      <td>804.0</td>\n      <td>1.0</td>\n      <td>3.0</td>\n      <td>0.0</td>\n      <td>1.0</td>\n      <td>8.5167</td>\n    </tr>\n    <tr>\n      <th>0.67</th>\n      <td>756.0</td>\n      <td>1.0</td>\n      <td>2.0</td>\n      <td>1.0</td>\n      <td>1.0</td>\n      <td>14.5000</td>\n    </tr>\n    <tr>\n      <th>0.75</th>\n      <td>557.5</td>\n      <td>1.0</td>\n      <td>3.0</td>\n      <td>2.0</td>\n      <td>1.0</td>\n      <td>19.2583</td>\n    </tr>\n    <tr>\n      <th>0.83</th>\n      <td>455.5</td>\n      <td>1.0</td>\n      <td>2.0</td>\n      <td>0.5</td>\n      <td>1.5</td>\n      <td>23.8750</td>\n    </tr>\n    <tr>\n      <th>0.92</th>\n      <td>306.0</td>\n      <td>1.0</td>\n      <td>1.0</td>\n      <td>1.0</td>\n      <td>2.0</td>\n      <td>151.5500</td>\n    </tr>\n    <tr>\n      <th>...</th>\n      <td>...</td>\n      <td>...</td>\n      <td>...</td>\n      <td>...</td>\n      <td>...</td>\n      <td>...</td>\n    </tr>\n    <tr>\n      <th>70.00</th>\n      <td>709.5</td>\n      <td>0.0</td>\n      <td>1.5</td>\n      <td>0.5</td>\n      <td>0.5</td>\n      <td>40.7500</td>\n    </tr>\n    <tr>\n      <th>70.50</th>\n      <td>117.0</td>\n      <td>0.0</td>\n      <td>3.0</td>\n      <td>0.0</td>\n      <td>0.0</td>\n      <td>7.7500</td>\n    </tr>\n    <tr>\n      <th>71.00</th>\n      <td>295.5</td>\n      <td>0.0</td>\n      <td>1.0</td>\n      <td>0.0</td>\n      <td>0.0</td>\n      <td>42.0792</td>\n    </tr>\n    <tr>\n      <th>74.00</th>\n      <td>852.0</td>\n      <td>0.0</td>\n      <td>3.0</td>\n      <td>0.0</td>\n      <td>0.0</td>\n      <td>7.7750</td>\n    </tr>\n    <tr>\n      <th>80.00</th>\n      <td>631.0</td>\n      <td>1.0</td>\n      <td>1.0</td>\n      <td>0.0</td>\n      <td>0.0</td>\n      <td>30.0000</td>\n    </tr>\n  </tbody>\n</table>\n<p>88 rows × 6 columns</p>\n</div>"
     },
     "execution_count": 24,
     "metadata": {},
     "output_type": "execute_result"
    }
   ],
   "source": [
    "df.set_index('Age').groupby(level=0).mean()"
   ],
   "metadata": {
    "collapsed": false
   }
  },
  {
   "cell_type": "markdown",
   "source": [
    "### 나이대별로 생존율 구하기"
   ],
   "metadata": {
    "collapsed": false
   }
  },
  {
   "cell_type": "code",
   "execution_count": 27,
   "outputs": [],
   "source": [
    "import math\n",
    "def age_categorize(age):\n",
    "    if math.isnan(age):\n",
    "        return -1\n",
    "    return math.floor(age / 10) * 10"
   ],
   "metadata": {
    "collapsed": false
   }
  },
  {
   "cell_type": "code",
   "execution_count": 29,
   "outputs": [
    {
     "data": {
      "text/plain": "Age\n-1     0.293785\n 0     0.612903\n 10    0.401961\n 20    0.350000\n 30    0.437126\n 40    0.382022\n 50    0.416667\n 60    0.315789\n 70    0.000000\n 80    1.000000\nName: Survived, dtype: float64"
     },
     "execution_count": 29,
     "metadata": {},
     "output_type": "execute_result"
    }
   ],
   "source": [
    "df.set_index('Age').groupby(age_categorize).mean()['Survived']"
   ],
   "metadata": {
    "collapsed": false
   }
  },
  {
   "cell_type": "markdown",
   "source": [
    "### Multiindex를 이용한 grouping"
   ],
   "metadata": {
    "collapsed": false
   }
  },
  {
   "cell_type": "code",
   "execution_count": 30,
   "outputs": [
    {
     "data": {
      "text/plain": "   PassengerId  Survived  Pclass  \\\n0            1         0       3   \n1            2         1       1   \n2            3         1       3   \n3            4         1       1   \n4            5         0       3   \n\n                                                Name     Sex   Age  SibSp  \\\n0                            Braund, Mr. Owen Harris    male  22.0      1   \n1  Cumings, Mrs. John Bradley (Florence Briggs Th...  female  38.0      1   \n2                             Heikkinen, Miss. Laina  female  26.0      0   \n3       Futrelle, Mrs. Jacques Heath (Lily May Peel)  female  35.0      1   \n4                           Allen, Mr. William Henry    male  35.0      0   \n\n   Parch            Ticket     Fare Cabin Embarked  \n0      0         A/5 21171   7.2500   NaN        S  \n1      0          PC 17599  71.2833   C85        C  \n2      0  STON/O2. 3101282   7.9250   NaN        S  \n3      0            113803  53.1000  C123        S  \n4      0            373450   8.0500   NaN        S  ",
      "text/html": "<div>\n<style scoped>\n    .dataframe tbody tr th:only-of-type {\n        vertical-align: middle;\n    }\n\n    .dataframe tbody tr th {\n        vertical-align: top;\n    }\n\n    .dataframe thead th {\n        text-align: right;\n    }\n</style>\n<table border=\"1\" class=\"dataframe\">\n  <thead>\n    <tr style=\"text-align: right;\">\n      <th></th>\n      <th>PassengerId</th>\n      <th>Survived</th>\n      <th>Pclass</th>\n      <th>Name</th>\n      <th>Sex</th>\n      <th>Age</th>\n      <th>SibSp</th>\n      <th>Parch</th>\n      <th>Ticket</th>\n      <th>Fare</th>\n      <th>Cabin</th>\n      <th>Embarked</th>\n    </tr>\n  </thead>\n  <tbody>\n    <tr>\n      <th>0</th>\n      <td>1</td>\n      <td>0</td>\n      <td>3</td>\n      <td>Braund, Mr. Owen Harris</td>\n      <td>male</td>\n      <td>22.0</td>\n      <td>1</td>\n      <td>0</td>\n      <td>A/5 21171</td>\n      <td>7.2500</td>\n      <td>NaN</td>\n      <td>S</td>\n    </tr>\n    <tr>\n      <th>1</th>\n      <td>2</td>\n      <td>1</td>\n      <td>1</td>\n      <td>Cumings, Mrs. John Bradley (Florence Briggs Th...</td>\n      <td>female</td>\n      <td>38.0</td>\n      <td>1</td>\n      <td>0</td>\n      <td>PC 17599</td>\n      <td>71.2833</td>\n      <td>C85</td>\n      <td>C</td>\n    </tr>\n    <tr>\n      <th>2</th>\n      <td>3</td>\n      <td>1</td>\n      <td>3</td>\n      <td>Heikkinen, Miss. Laina</td>\n      <td>female</td>\n      <td>26.0</td>\n      <td>0</td>\n      <td>0</td>\n      <td>STON/O2. 3101282</td>\n      <td>7.9250</td>\n      <td>NaN</td>\n      <td>S</td>\n    </tr>\n    <tr>\n      <th>3</th>\n      <td>4</td>\n      <td>1</td>\n      <td>1</td>\n      <td>Futrelle, Mrs. Jacques Heath (Lily May Peel)</td>\n      <td>female</td>\n      <td>35.0</td>\n      <td>1</td>\n      <td>0</td>\n      <td>113803</td>\n      <td>53.1000</td>\n      <td>C123</td>\n      <td>S</td>\n    </tr>\n    <tr>\n      <th>4</th>\n      <td>5</td>\n      <td>0</td>\n      <td>3</td>\n      <td>Allen, Mr. William Henry</td>\n      <td>male</td>\n      <td>35.0</td>\n      <td>0</td>\n      <td>0</td>\n      <td>373450</td>\n      <td>8.0500</td>\n      <td>NaN</td>\n      <td>S</td>\n    </tr>\n  </tbody>\n</table>\n</div>"
     },
     "execution_count": 30,
     "metadata": {},
     "output_type": "execute_result"
    }
   ],
   "source": [
    "df.head()"
   ],
   "metadata": {
    "collapsed": false
   }
  },
  {
   "cell_type": "code",
   "execution_count": 34,
   "outputs": [
    {
     "data": {
      "text/plain": "Pclass  Sex   \n1       female    34.611765\n        male      41.281386\n2       female    28.722973\n        male      30.740707\n3       female    21.750000\n        male      26.507589\nName: Age, dtype: float64"
     },
     "execution_count": 34,
     "metadata": {},
     "output_type": "execute_result"
    }
   ],
   "source": [
    "df.set_index(['Pclass', 'Sex']).groupby(level=[0, 1]).mean()['Age']"
   ],
   "metadata": {
    "collapsed": false
   }
  },
  {
   "cell_type": "markdown",
   "source": [
    "### aggregate(집계) 함수 사용하기\n",
    "- groupby 결과에 집계함수를 적용하여 그룹별 데이터 확인 가능"
   ],
   "metadata": {
    "collapsed": false
   }
  },
  {
   "cell_type": "code",
   "execution_count": 35,
   "outputs": [
    {
     "name": "stderr",
     "output_type": "stream",
     "text": [
      "/var/folders/2p/5ztvmmzx1xzdnqqn7snr0gp00000gn/T/ipykernel_64593/905529503.py:1: FutureWarning: ['Name', 'Ticket', 'Cabin', 'Embarked'] did not aggregate successfully. If any error is raised this will raise in a future version of pandas. Drop these columns/ops to avoid this warning.\n",
      "  df.set_index(['Pclass', 'Sex']).groupby(level=[0, 1]).aggregate([np.mean, np.sum, np.max])\n"
     ]
    },
    {
     "data": {
      "text/plain": "              PassengerId               Survived                 Age           \\\n                     mean     sum amax      mean sum amax       mean      sum   \nPclass Sex                                                                      \n1      female  469.212766   44106  888  0.968085  91    1  34.611765  2942.00   \n       male    455.729508   55599  890  0.368852  45    1  41.281386  4169.42   \n2      female  443.105263   33676  881  0.921053  70    1  28.722973  2125.50   \n       male    447.962963   48380  887  0.157407  17    1  30.740707  3043.33   \n3      female  399.729167   57561  889  0.500000  72    1  21.750000  2218.50   \n       male    455.515850  158064  891  0.135447  47    1  26.507589  6706.42   \n\n                        SibSp               Parch                  Fare  \\\n               amax      mean  sum amax      mean  sum amax        mean   \nPclass Sex                                                                \n1      female  63.0  0.553191   52    3  0.457447   43    2  106.125798   \n       male    80.0  0.311475   38    3  0.278689   34    4   67.226127   \n2      female  57.0  0.486842   37    3  0.605263   46    3   21.970121   \n       male    70.0  0.342593   37    2  0.222222   24    2   19.741782   \n3      female  63.0  0.895833  129    8  0.798611  115    6   16.118810   \n       male    74.0  0.498559  173    8  0.224784   78    5   12.661633   \n\n                                    \n                     sum      amax  \nPclass Sex                          \n1      female  9975.8250  512.3292  \n       male    8201.5875  512.3292  \n2      female  1669.7292   65.0000  \n       male    2132.1125   73.5000  \n3      female  2321.1086   69.5500  \n       male    4393.5865   69.5500  ",
      "text/html": "<div>\n<style scoped>\n    .dataframe tbody tr th:only-of-type {\n        vertical-align: middle;\n    }\n\n    .dataframe tbody tr th {\n        vertical-align: top;\n    }\n\n    .dataframe thead tr th {\n        text-align: left;\n    }\n\n    .dataframe thead tr:last-of-type th {\n        text-align: right;\n    }\n</style>\n<table border=\"1\" class=\"dataframe\">\n  <thead>\n    <tr>\n      <th></th>\n      <th></th>\n      <th colspan=\"3\" halign=\"left\">PassengerId</th>\n      <th colspan=\"3\" halign=\"left\">Survived</th>\n      <th colspan=\"3\" halign=\"left\">Age</th>\n      <th colspan=\"3\" halign=\"left\">SibSp</th>\n      <th colspan=\"3\" halign=\"left\">Parch</th>\n      <th colspan=\"3\" halign=\"left\">Fare</th>\n    </tr>\n    <tr>\n      <th></th>\n      <th></th>\n      <th>mean</th>\n      <th>sum</th>\n      <th>amax</th>\n      <th>mean</th>\n      <th>sum</th>\n      <th>amax</th>\n      <th>mean</th>\n      <th>sum</th>\n      <th>amax</th>\n      <th>mean</th>\n      <th>sum</th>\n      <th>amax</th>\n      <th>mean</th>\n      <th>sum</th>\n      <th>amax</th>\n      <th>mean</th>\n      <th>sum</th>\n      <th>amax</th>\n    </tr>\n    <tr>\n      <th>Pclass</th>\n      <th>Sex</th>\n      <th></th>\n      <th></th>\n      <th></th>\n      <th></th>\n      <th></th>\n      <th></th>\n      <th></th>\n      <th></th>\n      <th></th>\n      <th></th>\n      <th></th>\n      <th></th>\n      <th></th>\n      <th></th>\n      <th></th>\n      <th></th>\n      <th></th>\n      <th></th>\n    </tr>\n  </thead>\n  <tbody>\n    <tr>\n      <th rowspan=\"2\" valign=\"top\">1</th>\n      <th>female</th>\n      <td>469.212766</td>\n      <td>44106</td>\n      <td>888</td>\n      <td>0.968085</td>\n      <td>91</td>\n      <td>1</td>\n      <td>34.611765</td>\n      <td>2942.00</td>\n      <td>63.0</td>\n      <td>0.553191</td>\n      <td>52</td>\n      <td>3</td>\n      <td>0.457447</td>\n      <td>43</td>\n      <td>2</td>\n      <td>106.125798</td>\n      <td>9975.8250</td>\n      <td>512.3292</td>\n    </tr>\n    <tr>\n      <th>male</th>\n      <td>455.729508</td>\n      <td>55599</td>\n      <td>890</td>\n      <td>0.368852</td>\n      <td>45</td>\n      <td>1</td>\n      <td>41.281386</td>\n      <td>4169.42</td>\n      <td>80.0</td>\n      <td>0.311475</td>\n      <td>38</td>\n      <td>3</td>\n      <td>0.278689</td>\n      <td>34</td>\n      <td>4</td>\n      <td>67.226127</td>\n      <td>8201.5875</td>\n      <td>512.3292</td>\n    </tr>\n    <tr>\n      <th rowspan=\"2\" valign=\"top\">2</th>\n      <th>female</th>\n      <td>443.105263</td>\n      <td>33676</td>\n      <td>881</td>\n      <td>0.921053</td>\n      <td>70</td>\n      <td>1</td>\n      <td>28.722973</td>\n      <td>2125.50</td>\n      <td>57.0</td>\n      <td>0.486842</td>\n      <td>37</td>\n      <td>3</td>\n      <td>0.605263</td>\n      <td>46</td>\n      <td>3</td>\n      <td>21.970121</td>\n      <td>1669.7292</td>\n      <td>65.0000</td>\n    </tr>\n    <tr>\n      <th>male</th>\n      <td>447.962963</td>\n      <td>48380</td>\n      <td>887</td>\n      <td>0.157407</td>\n      <td>17</td>\n      <td>1</td>\n      <td>30.740707</td>\n      <td>3043.33</td>\n      <td>70.0</td>\n      <td>0.342593</td>\n      <td>37</td>\n      <td>2</td>\n      <td>0.222222</td>\n      <td>24</td>\n      <td>2</td>\n      <td>19.741782</td>\n      <td>2132.1125</td>\n      <td>73.5000</td>\n    </tr>\n    <tr>\n      <th rowspan=\"2\" valign=\"top\">3</th>\n      <th>female</th>\n      <td>399.729167</td>\n      <td>57561</td>\n      <td>889</td>\n      <td>0.500000</td>\n      <td>72</td>\n      <td>1</td>\n      <td>21.750000</td>\n      <td>2218.50</td>\n      <td>63.0</td>\n      <td>0.895833</td>\n      <td>129</td>\n      <td>8</td>\n      <td>0.798611</td>\n      <td>115</td>\n      <td>6</td>\n      <td>16.118810</td>\n      <td>2321.1086</td>\n      <td>69.5500</td>\n    </tr>\n    <tr>\n      <th>male</th>\n      <td>455.515850</td>\n      <td>158064</td>\n      <td>891</td>\n      <td>0.135447</td>\n      <td>47</td>\n      <td>1</td>\n      <td>26.507589</td>\n      <td>6706.42</td>\n      <td>74.0</td>\n      <td>0.498559</td>\n      <td>173</td>\n      <td>8</td>\n      <td>0.224784</td>\n      <td>78</td>\n      <td>5</td>\n      <td>12.661633</td>\n      <td>4393.5865</td>\n      <td>69.5500</td>\n    </tr>\n  </tbody>\n</table>\n</div>"
     },
     "execution_count": 35,
     "metadata": {},
     "output_type": "execute_result"
    }
   ],
   "source": [
    "df.set_index(['Pclass', 'Sex']).groupby(level=[0, 1]).aggregate([np.mean, np.sum, np.max])"
   ],
   "metadata": {
    "collapsed": false
   }
  }
 ],
 "metadata": {
  "kernelspec": {
   "display_name": "Python 3",
   "language": "python",
   "name": "python3"
  },
  "language_info": {
   "codemirror_mode": {
    "name": "ipython",
    "version": 2
   },
   "file_extension": ".py",
   "mimetype": "text/x-python",
   "name": "python",
   "nbconvert_exporter": "python",
   "pygments_lexer": "ipython2",
   "version": "2.7.6"
  }
 },
 "nbformat": 4,
 "nbformat_minor": 0
}
