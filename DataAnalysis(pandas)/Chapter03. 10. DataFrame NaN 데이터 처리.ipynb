{
 "cells": [
  {
   "cell_type": "markdown",
   "source": [
    "## 학습목표\n",
    "- NaN 처리 방법 이해하기"
   ],
   "metadata": {
    "collapsed": false
   }
  },
  {
   "cell_type": "code",
   "execution_count": 1,
   "outputs": [],
   "source": [
    "import pandas as pd"
   ],
   "metadata": {
    "collapsed": false
   }
  },
  {
   "cell_type": "code",
   "execution_count": 2,
   "outputs": [
    {
     "data": {
      "text/plain": "   PassengerId  Survived  Pclass  \\\n0            1         0       3   \n1            2         1       1   \n2            3         1       3   \n3            4         1       1   \n4            5         0       3   \n\n                                                Name     Sex   Age  SibSp  \\\n0                            Braund, Mr. Owen Harris    male  22.0      1   \n1  Cumings, Mrs. John Bradley (Florence Briggs Th...  female  38.0      1   \n2                             Heikkinen, Miss. Laina  female  26.0      0   \n3       Futrelle, Mrs. Jacques Heath (Lily May Peel)  female  35.0      1   \n4                           Allen, Mr. William Henry    male  35.0      0   \n\n   Parch            Ticket     Fare Cabin Embarked  \n0      0         A/5 21171   7.2500   NaN        S  \n1      0          PC 17599  71.2833   C85        C  \n2      0  STON/O2. 3101282   7.9250   NaN        S  \n3      0            113803  53.1000  C123        S  \n4      0            373450   8.0500   NaN        S  ",
      "text/html": "<div>\n<style scoped>\n    .dataframe tbody tr th:only-of-type {\n        vertical-align: middle;\n    }\n\n    .dataframe tbody tr th {\n        vertical-align: top;\n    }\n\n    .dataframe thead th {\n        text-align: right;\n    }\n</style>\n<table border=\"1\" class=\"dataframe\">\n  <thead>\n    <tr style=\"text-align: right;\">\n      <th></th>\n      <th>PassengerId</th>\n      <th>Survived</th>\n      <th>Pclass</th>\n      <th>Name</th>\n      <th>Sex</th>\n      <th>Age</th>\n      <th>SibSp</th>\n      <th>Parch</th>\n      <th>Ticket</th>\n      <th>Fare</th>\n      <th>Cabin</th>\n      <th>Embarked</th>\n    </tr>\n  </thead>\n  <tbody>\n    <tr>\n      <th>0</th>\n      <td>1</td>\n      <td>0</td>\n      <td>3</td>\n      <td>Braund, Mr. Owen Harris</td>\n      <td>male</td>\n      <td>22.0</td>\n      <td>1</td>\n      <td>0</td>\n      <td>A/5 21171</td>\n      <td>7.2500</td>\n      <td>NaN</td>\n      <td>S</td>\n    </tr>\n    <tr>\n      <th>1</th>\n      <td>2</td>\n      <td>1</td>\n      <td>1</td>\n      <td>Cumings, Mrs. John Bradley (Florence Briggs Th...</td>\n      <td>female</td>\n      <td>38.0</td>\n      <td>1</td>\n      <td>0</td>\n      <td>PC 17599</td>\n      <td>71.2833</td>\n      <td>C85</td>\n      <td>C</td>\n    </tr>\n    <tr>\n      <th>2</th>\n      <td>3</td>\n      <td>1</td>\n      <td>3</td>\n      <td>Heikkinen, Miss. Laina</td>\n      <td>female</td>\n      <td>26.0</td>\n      <td>0</td>\n      <td>0</td>\n      <td>STON/O2. 3101282</td>\n      <td>7.9250</td>\n      <td>NaN</td>\n      <td>S</td>\n    </tr>\n    <tr>\n      <th>3</th>\n      <td>4</td>\n      <td>1</td>\n      <td>1</td>\n      <td>Futrelle, Mrs. Jacques Heath (Lily May Peel)</td>\n      <td>female</td>\n      <td>35.0</td>\n      <td>1</td>\n      <td>0</td>\n      <td>113803</td>\n      <td>53.1000</td>\n      <td>C123</td>\n      <td>S</td>\n    </tr>\n    <tr>\n      <th>4</th>\n      <td>5</td>\n      <td>0</td>\n      <td>3</td>\n      <td>Allen, Mr. William Henry</td>\n      <td>male</td>\n      <td>35.0</td>\n      <td>0</td>\n      <td>0</td>\n      <td>373450</td>\n      <td>8.0500</td>\n      <td>NaN</td>\n      <td>S</td>\n    </tr>\n  </tbody>\n</table>\n</div>"
     },
     "execution_count": 2,
     "metadata": {},
     "output_type": "execute_result"
    }
   ],
   "source": [
    "train_data = pd.read_csv('./data/train.csv')\n",
    "train_data.head()"
   ],
   "metadata": {
    "collapsed": false
   }
  },
  {
   "cell_type": "markdown",
   "source": [
    "### NaN 값 확인\n",
    "- info 함수를 통하여 개수 확인\n",
    "- isna함수를 통해 boolean 타입으로 확인"
   ],
   "metadata": {
    "collapsed": false
   }
  },
  {
   "cell_type": "code",
   "execution_count": 3,
   "outputs": [
    {
     "name": "stdout",
     "output_type": "stream",
     "text": [
      "<class 'pandas.core.frame.DataFrame'>\n",
      "RangeIndex: 891 entries, 0 to 890\n",
      "Data columns (total 12 columns):\n",
      " #   Column       Non-Null Count  Dtype  \n",
      "---  ------       --------------  -----  \n",
      " 0   PassengerId  891 non-null    int64  \n",
      " 1   Survived     891 non-null    int64  \n",
      " 2   Pclass       891 non-null    int64  \n",
      " 3   Name         891 non-null    object \n",
      " 4   Sex          891 non-null    object \n",
      " 5   Age          714 non-null    float64\n",
      " 6   SibSp        891 non-null    int64  \n",
      " 7   Parch        891 non-null    int64  \n",
      " 8   Ticket       891 non-null    object \n",
      " 9   Fare         891 non-null    float64\n",
      " 10  Cabin        204 non-null    object \n",
      " 11  Embarked     889 non-null    object \n",
      "dtypes: float64(2), int64(5), object(5)\n",
      "memory usage: 83.7+ KB\n"
     ]
    }
   ],
   "source": [
    "train_data.info()"
   ],
   "metadata": {
    "collapsed": false
   }
  },
  {
   "cell_type": "code",
   "execution_count": 4,
   "outputs": [
    {
     "data": {
      "text/plain": "     PassengerId  Survived  Pclass   Name    Sex    Age  SibSp  Parch  Ticket  \\\n0          False     False   False  False  False  False  False  False   False   \n1          False     False   False  False  False  False  False  False   False   \n2          False     False   False  False  False  False  False  False   False   \n3          False     False   False  False  False  False  False  False   False   \n4          False     False   False  False  False  False  False  False   False   \n..           ...       ...     ...    ...    ...    ...    ...    ...     ...   \n886        False     False   False  False  False  False  False  False   False   \n887        False     False   False  False  False  False  False  False   False   \n888        False     False   False  False  False   True  False  False   False   \n889        False     False   False  False  False  False  False  False   False   \n890        False     False   False  False  False  False  False  False   False   \n\n      Fare  Cabin  Embarked  \n0    False   True     False  \n1    False  False     False  \n2    False   True     False  \n3    False  False     False  \n4    False   True     False  \n..     ...    ...       ...  \n886  False   True     False  \n887  False  False     False  \n888  False   True     False  \n889  False  False     False  \n890  False   True     False  \n\n[891 rows x 12 columns]",
      "text/html": "<div>\n<style scoped>\n    .dataframe tbody tr th:only-of-type {\n        vertical-align: middle;\n    }\n\n    .dataframe tbody tr th {\n        vertical-align: top;\n    }\n\n    .dataframe thead th {\n        text-align: right;\n    }\n</style>\n<table border=\"1\" class=\"dataframe\">\n  <thead>\n    <tr style=\"text-align: right;\">\n      <th></th>\n      <th>PassengerId</th>\n      <th>Survived</th>\n      <th>Pclass</th>\n      <th>Name</th>\n      <th>Sex</th>\n      <th>Age</th>\n      <th>SibSp</th>\n      <th>Parch</th>\n      <th>Ticket</th>\n      <th>Fare</th>\n      <th>Cabin</th>\n      <th>Embarked</th>\n    </tr>\n  </thead>\n  <tbody>\n    <tr>\n      <th>0</th>\n      <td>False</td>\n      <td>False</td>\n      <td>False</td>\n      <td>False</td>\n      <td>False</td>\n      <td>False</td>\n      <td>False</td>\n      <td>False</td>\n      <td>False</td>\n      <td>False</td>\n      <td>True</td>\n      <td>False</td>\n    </tr>\n    <tr>\n      <th>1</th>\n      <td>False</td>\n      <td>False</td>\n      <td>False</td>\n      <td>False</td>\n      <td>False</td>\n      <td>False</td>\n      <td>False</td>\n      <td>False</td>\n      <td>False</td>\n      <td>False</td>\n      <td>False</td>\n      <td>False</td>\n    </tr>\n    <tr>\n      <th>2</th>\n      <td>False</td>\n      <td>False</td>\n      <td>False</td>\n      <td>False</td>\n      <td>False</td>\n      <td>False</td>\n      <td>False</td>\n      <td>False</td>\n      <td>False</td>\n      <td>False</td>\n      <td>True</td>\n      <td>False</td>\n    </tr>\n    <tr>\n      <th>3</th>\n      <td>False</td>\n      <td>False</td>\n      <td>False</td>\n      <td>False</td>\n      <td>False</td>\n      <td>False</td>\n      <td>False</td>\n      <td>False</td>\n      <td>False</td>\n      <td>False</td>\n      <td>False</td>\n      <td>False</td>\n    </tr>\n    <tr>\n      <th>4</th>\n      <td>False</td>\n      <td>False</td>\n      <td>False</td>\n      <td>False</td>\n      <td>False</td>\n      <td>False</td>\n      <td>False</td>\n      <td>False</td>\n      <td>False</td>\n      <td>False</td>\n      <td>True</td>\n      <td>False</td>\n    </tr>\n    <tr>\n      <th>...</th>\n      <td>...</td>\n      <td>...</td>\n      <td>...</td>\n      <td>...</td>\n      <td>...</td>\n      <td>...</td>\n      <td>...</td>\n      <td>...</td>\n      <td>...</td>\n      <td>...</td>\n      <td>...</td>\n      <td>...</td>\n    </tr>\n    <tr>\n      <th>886</th>\n      <td>False</td>\n      <td>False</td>\n      <td>False</td>\n      <td>False</td>\n      <td>False</td>\n      <td>False</td>\n      <td>False</td>\n      <td>False</td>\n      <td>False</td>\n      <td>False</td>\n      <td>True</td>\n      <td>False</td>\n    </tr>\n    <tr>\n      <th>887</th>\n      <td>False</td>\n      <td>False</td>\n      <td>False</td>\n      <td>False</td>\n      <td>False</td>\n      <td>False</td>\n      <td>False</td>\n      <td>False</td>\n      <td>False</td>\n      <td>False</td>\n      <td>False</td>\n      <td>False</td>\n    </tr>\n    <tr>\n      <th>888</th>\n      <td>False</td>\n      <td>False</td>\n      <td>False</td>\n      <td>False</td>\n      <td>False</td>\n      <td>True</td>\n      <td>False</td>\n      <td>False</td>\n      <td>False</td>\n      <td>False</td>\n      <td>True</td>\n      <td>False</td>\n    </tr>\n    <tr>\n      <th>889</th>\n      <td>False</td>\n      <td>False</td>\n      <td>False</td>\n      <td>False</td>\n      <td>False</td>\n      <td>False</td>\n      <td>False</td>\n      <td>False</td>\n      <td>False</td>\n      <td>False</td>\n      <td>False</td>\n      <td>False</td>\n    </tr>\n    <tr>\n      <th>890</th>\n      <td>False</td>\n      <td>False</td>\n      <td>False</td>\n      <td>False</td>\n      <td>False</td>\n      <td>False</td>\n      <td>False</td>\n      <td>False</td>\n      <td>False</td>\n      <td>False</td>\n      <td>True</td>\n      <td>False</td>\n    </tr>\n  </tbody>\n</table>\n<p>891 rows × 12 columns</p>\n</div>"
     },
     "execution_count": 4,
     "metadata": {},
     "output_type": "execute_result"
    }
   ],
   "source": [
    "train_data.isna()"
   ],
   "metadata": {
    "collapsed": false
   }
  },
  {
   "cell_type": "code",
   "execution_count": 6,
   "outputs": [
    {
     "data": {
      "text/plain": "0      False\n1      False\n2      False\n3      False\n4      False\n       ...  \n886    False\n887    False\n888     True\n889    False\n890    False\nName: Age, Length: 891, dtype: bool"
     },
     "execution_count": 6,
     "metadata": {},
     "output_type": "execute_result"
    }
   ],
   "source": [
    "train_data['Age'].isna()"
   ],
   "metadata": {
    "collapsed": false
   }
  },
  {
   "cell_type": "markdown",
   "source": [
    "## NaN 처리방법\n",
    "- 데이터에서 삭제\n",
    "    - dropna 함수\n",
    "- 다른 값으로 치환\n",
    "    - fillna 함수"
   ],
   "metadata": {
    "collapsed": false
   }
  },
  {
   "cell_type": "markdown",
   "source": [
    "- NaN 데이터 삭제하기"
   ],
   "metadata": {
    "collapsed": false
   }
  },
  {
   "cell_type": "code",
   "execution_count": 7,
   "outputs": [
    {
     "data": {
      "text/plain": "     PassengerId  Survived  Pclass  \\\n1              2         1       1   \n3              4         1       1   \n6              7         0       1   \n10            11         1       3   \n11            12         1       1   \n..           ...       ...     ...   \n871          872         1       1   \n872          873         0       1   \n879          880         1       1   \n887          888         1       1   \n889          890         1       1   \n\n                                                  Name     Sex   Age  SibSp  \\\n1    Cumings, Mrs. John Bradley (Florence Briggs Th...  female  38.0      1   \n3         Futrelle, Mrs. Jacques Heath (Lily May Peel)  female  35.0      1   \n6                              McCarthy, Mr. Timothy J    male  54.0      0   \n10                     Sandstrom, Miss. Marguerite Rut  female   4.0      1   \n11                            Bonnell, Miss. Elizabeth  female  58.0      0   \n..                                                 ...     ...   ...    ...   \n871   Beckwith, Mrs. Richard Leonard (Sallie Monypeny)  female  47.0      1   \n872                           Carlsson, Mr. Frans Olof    male  33.0      0   \n879      Potter, Mrs. Thomas Jr (Lily Alexenia Wilson)  female  56.0      0   \n887                       Graham, Miss. Margaret Edith  female  19.0      0   \n889                              Behr, Mr. Karl Howell    male  26.0      0   \n\n     Parch    Ticket     Fare        Cabin Embarked  \n1        0  PC 17599  71.2833          C85        C  \n3        0    113803  53.1000         C123        S  \n6        0     17463  51.8625          E46        S  \n10       1   PP 9549  16.7000           G6        S  \n11       0    113783  26.5500         C103        S  \n..     ...       ...      ...          ...      ...  \n871      1     11751  52.5542          D35        S  \n872      0       695   5.0000  B51 B53 B55        S  \n879      1     11767  83.1583          C50        C  \n887      0    112053  30.0000          B42        S  \n889      0    111369  30.0000         C148        C  \n\n[183 rows x 12 columns]",
      "text/html": "<div>\n<style scoped>\n    .dataframe tbody tr th:only-of-type {\n        vertical-align: middle;\n    }\n\n    .dataframe tbody tr th {\n        vertical-align: top;\n    }\n\n    .dataframe thead th {\n        text-align: right;\n    }\n</style>\n<table border=\"1\" class=\"dataframe\">\n  <thead>\n    <tr style=\"text-align: right;\">\n      <th></th>\n      <th>PassengerId</th>\n      <th>Survived</th>\n      <th>Pclass</th>\n      <th>Name</th>\n      <th>Sex</th>\n      <th>Age</th>\n      <th>SibSp</th>\n      <th>Parch</th>\n      <th>Ticket</th>\n      <th>Fare</th>\n      <th>Cabin</th>\n      <th>Embarked</th>\n    </tr>\n  </thead>\n  <tbody>\n    <tr>\n      <th>1</th>\n      <td>2</td>\n      <td>1</td>\n      <td>1</td>\n      <td>Cumings, Mrs. John Bradley (Florence Briggs Th...</td>\n      <td>female</td>\n      <td>38.0</td>\n      <td>1</td>\n      <td>0</td>\n      <td>PC 17599</td>\n      <td>71.2833</td>\n      <td>C85</td>\n      <td>C</td>\n    </tr>\n    <tr>\n      <th>3</th>\n      <td>4</td>\n      <td>1</td>\n      <td>1</td>\n      <td>Futrelle, Mrs. Jacques Heath (Lily May Peel)</td>\n      <td>female</td>\n      <td>35.0</td>\n      <td>1</td>\n      <td>0</td>\n      <td>113803</td>\n      <td>53.1000</td>\n      <td>C123</td>\n      <td>S</td>\n    </tr>\n    <tr>\n      <th>6</th>\n      <td>7</td>\n      <td>0</td>\n      <td>1</td>\n      <td>McCarthy, Mr. Timothy J</td>\n      <td>male</td>\n      <td>54.0</td>\n      <td>0</td>\n      <td>0</td>\n      <td>17463</td>\n      <td>51.8625</td>\n      <td>E46</td>\n      <td>S</td>\n    </tr>\n    <tr>\n      <th>10</th>\n      <td>11</td>\n      <td>1</td>\n      <td>3</td>\n      <td>Sandstrom, Miss. Marguerite Rut</td>\n      <td>female</td>\n      <td>4.0</td>\n      <td>1</td>\n      <td>1</td>\n      <td>PP 9549</td>\n      <td>16.7000</td>\n      <td>G6</td>\n      <td>S</td>\n    </tr>\n    <tr>\n      <th>11</th>\n      <td>12</td>\n      <td>1</td>\n      <td>1</td>\n      <td>Bonnell, Miss. Elizabeth</td>\n      <td>female</td>\n      <td>58.0</td>\n      <td>0</td>\n      <td>0</td>\n      <td>113783</td>\n      <td>26.5500</td>\n      <td>C103</td>\n      <td>S</td>\n    </tr>\n    <tr>\n      <th>...</th>\n      <td>...</td>\n      <td>...</td>\n      <td>...</td>\n      <td>...</td>\n      <td>...</td>\n      <td>...</td>\n      <td>...</td>\n      <td>...</td>\n      <td>...</td>\n      <td>...</td>\n      <td>...</td>\n      <td>...</td>\n    </tr>\n    <tr>\n      <th>871</th>\n      <td>872</td>\n      <td>1</td>\n      <td>1</td>\n      <td>Beckwith, Mrs. Richard Leonard (Sallie Monypeny)</td>\n      <td>female</td>\n      <td>47.0</td>\n      <td>1</td>\n      <td>1</td>\n      <td>11751</td>\n      <td>52.5542</td>\n      <td>D35</td>\n      <td>S</td>\n    </tr>\n    <tr>\n      <th>872</th>\n      <td>873</td>\n      <td>0</td>\n      <td>1</td>\n      <td>Carlsson, Mr. Frans Olof</td>\n      <td>male</td>\n      <td>33.0</td>\n      <td>0</td>\n      <td>0</td>\n      <td>695</td>\n      <td>5.0000</td>\n      <td>B51 B53 B55</td>\n      <td>S</td>\n    </tr>\n    <tr>\n      <th>879</th>\n      <td>880</td>\n      <td>1</td>\n      <td>1</td>\n      <td>Potter, Mrs. Thomas Jr (Lily Alexenia Wilson)</td>\n      <td>female</td>\n      <td>56.0</td>\n      <td>0</td>\n      <td>1</td>\n      <td>11767</td>\n      <td>83.1583</td>\n      <td>C50</td>\n      <td>C</td>\n    </tr>\n    <tr>\n      <th>887</th>\n      <td>888</td>\n      <td>1</td>\n      <td>1</td>\n      <td>Graham, Miss. Margaret Edith</td>\n      <td>female</td>\n      <td>19.0</td>\n      <td>0</td>\n      <td>0</td>\n      <td>112053</td>\n      <td>30.0000</td>\n      <td>B42</td>\n      <td>S</td>\n    </tr>\n    <tr>\n      <th>889</th>\n      <td>890</td>\n      <td>1</td>\n      <td>1</td>\n      <td>Behr, Mr. Karl Howell</td>\n      <td>male</td>\n      <td>26.0</td>\n      <td>0</td>\n      <td>0</td>\n      <td>111369</td>\n      <td>30.0000</td>\n      <td>C148</td>\n      <td>C</td>\n    </tr>\n  </tbody>\n</table>\n<p>183 rows × 12 columns</p>\n</div>"
     },
     "execution_count": 7,
     "metadata": {},
     "output_type": "execute_result"
    }
   ],
   "source": [
    "train_data.dropna()"
   ],
   "metadata": {
    "collapsed": false
   }
  },
  {
   "cell_type": "code",
   "execution_count": 10,
   "outputs": [
    {
     "data": {
      "text/plain": "     PassengerId  Survived  Pclass  \\\n1              2         1       1   \n3              4         1       1   \n6              7         0       1   \n10            11         1       3   \n11            12         1       1   \n..           ...       ...     ...   \n871          872         1       1   \n872          873         0       1   \n879          880         1       1   \n887          888         1       1   \n889          890         1       1   \n\n                                                  Name     Sex   Age  SibSp  \\\n1    Cumings, Mrs. John Bradley (Florence Briggs Th...  female  38.0      1   \n3         Futrelle, Mrs. Jacques Heath (Lily May Peel)  female  35.0      1   \n6                              McCarthy, Mr. Timothy J    male  54.0      0   \n10                     Sandstrom, Miss. Marguerite Rut  female   4.0      1   \n11                            Bonnell, Miss. Elizabeth  female  58.0      0   \n..                                                 ...     ...   ...    ...   \n871   Beckwith, Mrs. Richard Leonard (Sallie Monypeny)  female  47.0      1   \n872                           Carlsson, Mr. Frans Olof    male  33.0      0   \n879      Potter, Mrs. Thomas Jr (Lily Alexenia Wilson)  female  56.0      0   \n887                       Graham, Miss. Margaret Edith  female  19.0      0   \n889                              Behr, Mr. Karl Howell    male  26.0      0   \n\n     Parch    Ticket     Fare        Cabin Embarked  \n1        0  PC 17599  71.2833          C85        C  \n3        0    113803  53.1000         C123        S  \n6        0     17463  51.8625          E46        S  \n10       1   PP 9549  16.7000           G6        S  \n11       0    113783  26.5500         C103        S  \n..     ...       ...      ...          ...      ...  \n871      1     11751  52.5542          D35        S  \n872      0       695   5.0000  B51 B53 B55        S  \n879      1     11767  83.1583          C50        C  \n887      0    112053  30.0000          B42        S  \n889      0    111369  30.0000         C148        C  \n\n[185 rows x 12 columns]",
      "text/html": "<div>\n<style scoped>\n    .dataframe tbody tr th:only-of-type {\n        vertical-align: middle;\n    }\n\n    .dataframe tbody tr th {\n        vertical-align: top;\n    }\n\n    .dataframe thead th {\n        text-align: right;\n    }\n</style>\n<table border=\"1\" class=\"dataframe\">\n  <thead>\n    <tr style=\"text-align: right;\">\n      <th></th>\n      <th>PassengerId</th>\n      <th>Survived</th>\n      <th>Pclass</th>\n      <th>Name</th>\n      <th>Sex</th>\n      <th>Age</th>\n      <th>SibSp</th>\n      <th>Parch</th>\n      <th>Ticket</th>\n      <th>Fare</th>\n      <th>Cabin</th>\n      <th>Embarked</th>\n    </tr>\n  </thead>\n  <tbody>\n    <tr>\n      <th>1</th>\n      <td>2</td>\n      <td>1</td>\n      <td>1</td>\n      <td>Cumings, Mrs. John Bradley (Florence Briggs Th...</td>\n      <td>female</td>\n      <td>38.0</td>\n      <td>1</td>\n      <td>0</td>\n      <td>PC 17599</td>\n      <td>71.2833</td>\n      <td>C85</td>\n      <td>C</td>\n    </tr>\n    <tr>\n      <th>3</th>\n      <td>4</td>\n      <td>1</td>\n      <td>1</td>\n      <td>Futrelle, Mrs. Jacques Heath (Lily May Peel)</td>\n      <td>female</td>\n      <td>35.0</td>\n      <td>1</td>\n      <td>0</td>\n      <td>113803</td>\n      <td>53.1000</td>\n      <td>C123</td>\n      <td>S</td>\n    </tr>\n    <tr>\n      <th>6</th>\n      <td>7</td>\n      <td>0</td>\n      <td>1</td>\n      <td>McCarthy, Mr. Timothy J</td>\n      <td>male</td>\n      <td>54.0</td>\n      <td>0</td>\n      <td>0</td>\n      <td>17463</td>\n      <td>51.8625</td>\n      <td>E46</td>\n      <td>S</td>\n    </tr>\n    <tr>\n      <th>10</th>\n      <td>11</td>\n      <td>1</td>\n      <td>3</td>\n      <td>Sandstrom, Miss. Marguerite Rut</td>\n      <td>female</td>\n      <td>4.0</td>\n      <td>1</td>\n      <td>1</td>\n      <td>PP 9549</td>\n      <td>16.7000</td>\n      <td>G6</td>\n      <td>S</td>\n    </tr>\n    <tr>\n      <th>11</th>\n      <td>12</td>\n      <td>1</td>\n      <td>1</td>\n      <td>Bonnell, Miss. Elizabeth</td>\n      <td>female</td>\n      <td>58.0</td>\n      <td>0</td>\n      <td>0</td>\n      <td>113783</td>\n      <td>26.5500</td>\n      <td>C103</td>\n      <td>S</td>\n    </tr>\n    <tr>\n      <th>...</th>\n      <td>...</td>\n      <td>...</td>\n      <td>...</td>\n      <td>...</td>\n      <td>...</td>\n      <td>...</td>\n      <td>...</td>\n      <td>...</td>\n      <td>...</td>\n      <td>...</td>\n      <td>...</td>\n      <td>...</td>\n    </tr>\n    <tr>\n      <th>871</th>\n      <td>872</td>\n      <td>1</td>\n      <td>1</td>\n      <td>Beckwith, Mrs. Richard Leonard (Sallie Monypeny)</td>\n      <td>female</td>\n      <td>47.0</td>\n      <td>1</td>\n      <td>1</td>\n      <td>11751</td>\n      <td>52.5542</td>\n      <td>D35</td>\n      <td>S</td>\n    </tr>\n    <tr>\n      <th>872</th>\n      <td>873</td>\n      <td>0</td>\n      <td>1</td>\n      <td>Carlsson, Mr. Frans Olof</td>\n      <td>male</td>\n      <td>33.0</td>\n      <td>0</td>\n      <td>0</td>\n      <td>695</td>\n      <td>5.0000</td>\n      <td>B51 B53 B55</td>\n      <td>S</td>\n    </tr>\n    <tr>\n      <th>879</th>\n      <td>880</td>\n      <td>1</td>\n      <td>1</td>\n      <td>Potter, Mrs. Thomas Jr (Lily Alexenia Wilson)</td>\n      <td>female</td>\n      <td>56.0</td>\n      <td>0</td>\n      <td>1</td>\n      <td>11767</td>\n      <td>83.1583</td>\n      <td>C50</td>\n      <td>C</td>\n    </tr>\n    <tr>\n      <th>887</th>\n      <td>888</td>\n      <td>1</td>\n      <td>1</td>\n      <td>Graham, Miss. Margaret Edith</td>\n      <td>female</td>\n      <td>19.0</td>\n      <td>0</td>\n      <td>0</td>\n      <td>112053</td>\n      <td>30.0000</td>\n      <td>B42</td>\n      <td>S</td>\n    </tr>\n    <tr>\n      <th>889</th>\n      <td>890</td>\n      <td>1</td>\n      <td>1</td>\n      <td>Behr, Mr. Karl Howell</td>\n      <td>male</td>\n      <td>26.0</td>\n      <td>0</td>\n      <td>0</td>\n      <td>111369</td>\n      <td>30.0000</td>\n      <td>C148</td>\n      <td>C</td>\n    </tr>\n  </tbody>\n</table>\n<p>185 rows × 12 columns</p>\n</div>"
     },
     "execution_count": 10,
     "metadata": {},
     "output_type": "execute_result"
    }
   ],
   "source": [
    "train_data.dropna(subset = ['Age', 'Cabin'])"
   ],
   "metadata": {
    "collapsed": false
   }
  },
  {
   "cell_type": "code",
   "execution_count": 11,
   "outputs": [
    {
     "data": {
      "text/plain": "     PassengerId  Survived  Pclass  \\\n0              1         0       3   \n1              2         1       1   \n2              3         1       3   \n3              4         1       1   \n4              5         0       3   \n..           ...       ...     ...   \n886          887         0       2   \n887          888         1       1   \n888          889         0       3   \n889          890         1       1   \n890          891         0       3   \n\n                                                  Name     Sex  SibSp  Parch  \\\n0                              Braund, Mr. Owen Harris    male      1      0   \n1    Cumings, Mrs. John Bradley (Florence Briggs Th...  female      1      0   \n2                               Heikkinen, Miss. Laina  female      0      0   \n3         Futrelle, Mrs. Jacques Heath (Lily May Peel)  female      1      0   \n4                             Allen, Mr. William Henry    male      0      0   \n..                                                 ...     ...    ...    ...   \n886                              Montvila, Rev. Juozas    male      0      0   \n887                       Graham, Miss. Margaret Edith  female      0      0   \n888           Johnston, Miss. Catherine Helen \"Carrie\"  female      1      2   \n889                              Behr, Mr. Karl Howell    male      0      0   \n890                                Dooley, Mr. Patrick    male      0      0   \n\n               Ticket     Fare  \n0           A/5 21171   7.2500  \n1            PC 17599  71.2833  \n2    STON/O2. 3101282   7.9250  \n3              113803  53.1000  \n4              373450   8.0500  \n..                ...      ...  \n886            211536  13.0000  \n887            112053  30.0000  \n888        W./C. 6607  23.4500  \n889            111369  30.0000  \n890            370376   7.7500  \n\n[891 rows x 9 columns]",
      "text/html": "<div>\n<style scoped>\n    .dataframe tbody tr th:only-of-type {\n        vertical-align: middle;\n    }\n\n    .dataframe tbody tr th {\n        vertical-align: top;\n    }\n\n    .dataframe thead th {\n        text-align: right;\n    }\n</style>\n<table border=\"1\" class=\"dataframe\">\n  <thead>\n    <tr style=\"text-align: right;\">\n      <th></th>\n      <th>PassengerId</th>\n      <th>Survived</th>\n      <th>Pclass</th>\n      <th>Name</th>\n      <th>Sex</th>\n      <th>SibSp</th>\n      <th>Parch</th>\n      <th>Ticket</th>\n      <th>Fare</th>\n    </tr>\n  </thead>\n  <tbody>\n    <tr>\n      <th>0</th>\n      <td>1</td>\n      <td>0</td>\n      <td>3</td>\n      <td>Braund, Mr. Owen Harris</td>\n      <td>male</td>\n      <td>1</td>\n      <td>0</td>\n      <td>A/5 21171</td>\n      <td>7.2500</td>\n    </tr>\n    <tr>\n      <th>1</th>\n      <td>2</td>\n      <td>1</td>\n      <td>1</td>\n      <td>Cumings, Mrs. John Bradley (Florence Briggs Th...</td>\n      <td>female</td>\n      <td>1</td>\n      <td>0</td>\n      <td>PC 17599</td>\n      <td>71.2833</td>\n    </tr>\n    <tr>\n      <th>2</th>\n      <td>3</td>\n      <td>1</td>\n      <td>3</td>\n      <td>Heikkinen, Miss. Laina</td>\n      <td>female</td>\n      <td>0</td>\n      <td>0</td>\n      <td>STON/O2. 3101282</td>\n      <td>7.9250</td>\n    </tr>\n    <tr>\n      <th>3</th>\n      <td>4</td>\n      <td>1</td>\n      <td>1</td>\n      <td>Futrelle, Mrs. Jacques Heath (Lily May Peel)</td>\n      <td>female</td>\n      <td>1</td>\n      <td>0</td>\n      <td>113803</td>\n      <td>53.1000</td>\n    </tr>\n    <tr>\n      <th>4</th>\n      <td>5</td>\n      <td>0</td>\n      <td>3</td>\n      <td>Allen, Mr. William Henry</td>\n      <td>male</td>\n      <td>0</td>\n      <td>0</td>\n      <td>373450</td>\n      <td>8.0500</td>\n    </tr>\n    <tr>\n      <th>...</th>\n      <td>...</td>\n      <td>...</td>\n      <td>...</td>\n      <td>...</td>\n      <td>...</td>\n      <td>...</td>\n      <td>...</td>\n      <td>...</td>\n      <td>...</td>\n    </tr>\n    <tr>\n      <th>886</th>\n      <td>887</td>\n      <td>0</td>\n      <td>2</td>\n      <td>Montvila, Rev. Juozas</td>\n      <td>male</td>\n      <td>0</td>\n      <td>0</td>\n      <td>211536</td>\n      <td>13.0000</td>\n    </tr>\n    <tr>\n      <th>887</th>\n      <td>888</td>\n      <td>1</td>\n      <td>1</td>\n      <td>Graham, Miss. Margaret Edith</td>\n      <td>female</td>\n      <td>0</td>\n      <td>0</td>\n      <td>112053</td>\n      <td>30.0000</td>\n    </tr>\n    <tr>\n      <th>888</th>\n      <td>889</td>\n      <td>0</td>\n      <td>3</td>\n      <td>Johnston, Miss. Catherine Helen \"Carrie\"</td>\n      <td>female</td>\n      <td>1</td>\n      <td>2</td>\n      <td>W./C. 6607</td>\n      <td>23.4500</td>\n    </tr>\n    <tr>\n      <th>889</th>\n      <td>890</td>\n      <td>1</td>\n      <td>1</td>\n      <td>Behr, Mr. Karl Howell</td>\n      <td>male</td>\n      <td>0</td>\n      <td>0</td>\n      <td>111369</td>\n      <td>30.0000</td>\n    </tr>\n    <tr>\n      <th>890</th>\n      <td>891</td>\n      <td>0</td>\n      <td>3</td>\n      <td>Dooley, Mr. Patrick</td>\n      <td>male</td>\n      <td>0</td>\n      <td>0</td>\n      <td>370376</td>\n      <td>7.7500</td>\n    </tr>\n  </tbody>\n</table>\n<p>891 rows × 9 columns</p>\n</div>"
     },
     "execution_count": 11,
     "metadata": {},
     "output_type": "execute_result"
    }
   ],
   "source": [
    "train_data.dropna(axis=1)"
   ],
   "metadata": {
    "collapsed": false
   }
  },
  {
   "cell_type": "markdown",
   "source": [
    "### NaN값 대체하기\n",
    "- 평균으로 대체하기\n",
    "- 생존자/사망자별 평균으로 대체하기"
   ],
   "metadata": {
    "collapsed": false
   }
  },
  {
   "cell_type": "code",
   "execution_count": 13,
   "outputs": [
    {
     "data": {
      "text/plain": "0      22.000000\n1      38.000000\n2      26.000000\n3      35.000000\n4      35.000000\n         ...    \n886    27.000000\n887    19.000000\n888    29.699118\n889    26.000000\n890    32.000000\nName: Age, Length: 891, dtype: float64"
     },
     "execution_count": 13,
     "metadata": {},
     "output_type": "execute_result"
    }
   ],
   "source": [
    "train_data['Age'].fillna(train_data['Age'].mean())"
   ],
   "metadata": {
    "collapsed": false
   }
  },
  {
   "cell_type": "code",
   "execution_count": 16,
   "outputs": [
    {
     "name": "stdout",
     "output_type": "stream",
     "text": [
      "28.343689655172415 30.62617924528302\n"
     ]
    }
   ],
   "source": [
    "# 생존자 나이 평균\n",
    "mean1 = train_data[train_data['Survived'] == 1]['Age'].mean()\n",
    "\n",
    "# 사망자 나이 평균\n",
    "mean0 = train_data[train_data['Survived'] == 0]['Age'].mean()\n",
    "\n",
    "print(mean1, mean0)"
   ],
   "metadata": {
    "collapsed": false
   }
  },
  {
   "cell_type": "code",
   "execution_count": 18,
   "outputs": [],
   "source": [
    "train_data.loc[train_data['Survived'] ==1, 'Age'] =  train_data[train_data['Survived'] == 1]['Age'].fillna(mean1)\n",
    "train_data.loc[train_data['Survived'] ==0, 'Age'] =  train_data[train_data['Survived'] == 0]['Age'].fillna(mean0)"
   ],
   "metadata": {
    "collapsed": false
   }
  },
  {
   "cell_type": "code",
   "execution_count": 19,
   "outputs": [
    {
     "data": {
      "text/plain": "     PassengerId  Survived  Pclass  \\\n17            18         1       2   \n19            20         1       3   \n28            29         1       3   \n31            32         1       1   \n32            33         1       3   \n36            37         1       3   \n47            48         1       3   \n55            56         1       1   \n65            66         1       3   \n82            83         1       3   \n107          108         1       3   \n109          110         1       3   \n128          129         1       3   \n166          167         1       1   \n186          187         1       3   \n198          199         1       3   \n241          242         1       3   \n256          257         1       1   \n274          275         1       3   \n298          299         1       1   \n300          301         1       3   \n301          302         1       3   \n303          304         1       2   \n306          307         1       1   \n330          331         1       3   \n334          335         1       1   \n347          348         1       3   \n358          359         1       3   \n359          360         1       3   \n367          368         1       3   \n368          369         1       3   \n375          376         1       1   \n431          432         1       3   \n444          445         1       3   \n457          458         1       1   \n507          508         1       1   \n533          534         1       3   \n547          548         1       2   \n573          574         1       3   \n596          597         1       2   \n612          613         1       3   \n643          644         1       3   \n653          654         1       3   \n669          670         1       1   \n692          693         1       3   \n697          698         1       3   \n709          710         1       3   \n727          728         1       3   \n740          741         1       1   \n828          829         1       3   \n839          840         1       1   \n849          850         1       1   \n\n                                                  Name     Sex       Age  \\\n17                        Williams, Mr. Charles Eugene    male  28.34369   \n19                             Masselmani, Mrs. Fatima  female  28.34369   \n28                       O'Dwyer, Miss. Ellen \"Nellie\"  female  28.34369   \n31      Spencer, Mrs. William Augustus (Marie Eugenie)  female  28.34369   \n32                            Glynn, Miss. Mary Agatha  female  28.34369   \n36                                    Mamee, Mr. Hanna    male  28.34369   \n47                           O'Driscoll, Miss. Bridget  female  28.34369   \n55                                   Woolner, Mr. Hugh    male  28.34369   \n65                            Moubarek, Master. Gerios    male  28.34369   \n82                      McDermott, Miss. Brigdet Delia  female  28.34369   \n107                             Moss, Mr. Albert Johan    male  28.34369   \n109                                Moran, Miss. Bertha  female  28.34369   \n128                                  Peter, Miss. Anna  female  28.34369   \n166             Chibnall, Mrs. (Edith Martha Bowerman)  female  28.34369   \n186    O'Brien, Mrs. Thomas (Johanna \"Hannah\" Godfrey)  female  28.34369   \n198                   Madigan, Miss. Margaret \"Maggie\"  female  28.34369   \n241                     Murphy, Miss. Katherine \"Kate\"  female  28.34369   \n256                     Thorne, Mrs. Gertrude Maybelle  female  28.34369   \n274                         Healy, Miss. Hanora \"Nora\"  female  28.34369   \n298                              Saalfeld, Mr. Adolphe    male  28.34369   \n300           Kelly, Miss. Anna Katherine \"Annie Kate\"  female  28.34369   \n301                                 McCoy, Mr. Bernard    male  28.34369   \n303                                Keane, Miss. Nora A  female  28.34369   \n306                            Fleming, Miss. Margaret  female  28.34369   \n330                                 McCoy, Miss. Agnes  female  28.34369   \n334  Frauenthal, Mrs. Henry William (Clara Heinshei...  female  28.34369   \n347          Davison, Mrs. Thomas Henry (Mary E Finck)  female  28.34369   \n358                               McGovern, Miss. Mary  female  28.34369   \n359                  Mockler, Miss. Helen Mary \"Ellie\"  female  28.34369   \n367                     Moussa, Mrs. (Mantoura Boulos)  female  28.34369   \n368                                Jermyn, Miss. Annie  female  28.34369   \n375              Meyer, Mrs. Edgar Joseph (Leila Saks)  female  28.34369   \n431  Thorneycroft, Mrs. Percival (Florence Kate White)  female  28.34369   \n444                  Johannesen-Bratthammer, Mr. Bernt    male  28.34369   \n457                  Kenyon, Mrs. Frederick R (Marion)  female  28.34369   \n507      Bradley, Mr. George (\"George Arthur Brayton\")    male  28.34369   \n533             Peter, Mrs. Catherine (Catherine Rizk)  female  28.34369   \n547                         Padro y Manent, Mr. Julian    male  28.34369   \n573                                  Kelly, Miss. Mary  female  28.34369   \n596                         Leitch, Miss. Jessie Wills  female  28.34369   \n612                        Murphy, Miss. Margaret Jane  female  28.34369   \n643                                    Foo, Mr. Choong    male  28.34369   \n653                      O'Leary, Miss. Hanora \"Norah\"  female  28.34369   \n669  Taylor, Mrs. Elmer Zebley (Juliet Cummins Wright)  female  28.34369   \n692                                       Lam, Mr. Ali    male  28.34369   \n697                   Mullens, Miss. Katherine \"Katie\"  female  28.34369   \n709  Moubarek, Master. Halim Gonios (\"William George\")    male  28.34369   \n727                           Mannion, Miss. Margareth  female  28.34369   \n740                        Hawksford, Mr. Walter James    male  28.34369   \n828                       McCormack, Mr. Thomas Joseph    male  28.34369   \n839                               Marechal, Mr. Pierre    male  28.34369   \n849       Goldenberg, Mrs. Samuel L (Edwiga Grabowska)  female  28.34369   \n\n     SibSp  Parch         Ticket      Fare  Cabin Embarked  \n17       0      0         244373   13.0000    NaN        S  \n19       0      0           2649    7.2250    NaN        C  \n28       0      0         330959    7.8792    NaN        Q  \n31       1      0       PC 17569  146.5208    B78        C  \n32       0      0         335677    7.7500    NaN        Q  \n36       0      0           2677    7.2292    NaN        C  \n47       0      0          14311    7.7500    NaN        Q  \n55       0      0          19947   35.5000    C52        S  \n65       1      1           2661   15.2458    NaN        C  \n82       0      0         330932    7.7875    NaN        Q  \n107      0      0         312991    7.7750    NaN        S  \n109      1      0         371110   24.1500    NaN        Q  \n128      1      1           2668   22.3583  F E69        C  \n166      0      1         113505   55.0000    E33        S  \n186      1      0         370365   15.5000    NaN        Q  \n198      0      0         370370    7.7500    NaN        Q  \n241      1      0         367230   15.5000    NaN        Q  \n256      0      0       PC 17585   79.2000    NaN        C  \n274      0      0         370375    7.7500    NaN        Q  \n298      0      0          19988   30.5000   C106        S  \n300      0      0           9234    7.7500    NaN        Q  \n301      2      0         367226   23.2500    NaN        Q  \n303      0      0         226593   12.3500   E101        Q  \n306      0      0          17421  110.8833    NaN        C  \n330      2      0         367226   23.2500    NaN        Q  \n334      1      0       PC 17611  133.6500    NaN        S  \n347      1      0         386525   16.1000    NaN        S  \n358      0      0         330931    7.8792    NaN        Q  \n359      0      0         330980    7.8792    NaN        Q  \n367      0      0           2626    7.2292    NaN        C  \n368      0      0          14313    7.7500    NaN        Q  \n375      1      0       PC 17604   82.1708    NaN        C  \n431      1      0         376564   16.1000    NaN        S  \n444      0      0          65306    8.1125    NaN        S  \n457      1      0          17464   51.8625    D21        S  \n507      0      0         111427   26.5500    NaN        S  \n533      0      2           2668   22.3583    NaN        C  \n547      0      0  SC/PARIS 2146   13.8625    NaN        C  \n573      0      0          14312    7.7500    NaN        Q  \n596      0      0         248727   33.0000    NaN        S  \n612      1      0         367230   15.5000    NaN        Q  \n643      0      0           1601   56.4958    NaN        S  \n653      0      0         330919    7.8292    NaN        Q  \n669      1      0          19996   52.0000   C126        S  \n692      0      0           1601   56.4958    NaN        S  \n697      0      0          35852    7.7333    NaN        Q  \n709      1      1           2661   15.2458    NaN        C  \n727      0      0          36866    7.7375    NaN        Q  \n740      0      0          16988   30.0000    D45        S  \n828      0      0         367228    7.7500    NaN        Q  \n839      0      0          11774   29.7000    C47        C  \n849      1      0          17453   89.1042    C92        C  ",
      "text/html": "<div>\n<style scoped>\n    .dataframe tbody tr th:only-of-type {\n        vertical-align: middle;\n    }\n\n    .dataframe tbody tr th {\n        vertical-align: top;\n    }\n\n    .dataframe thead th {\n        text-align: right;\n    }\n</style>\n<table border=\"1\" class=\"dataframe\">\n  <thead>\n    <tr style=\"text-align: right;\">\n      <th></th>\n      <th>PassengerId</th>\n      <th>Survived</th>\n      <th>Pclass</th>\n      <th>Name</th>\n      <th>Sex</th>\n      <th>Age</th>\n      <th>SibSp</th>\n      <th>Parch</th>\n      <th>Ticket</th>\n      <th>Fare</th>\n      <th>Cabin</th>\n      <th>Embarked</th>\n    </tr>\n  </thead>\n  <tbody>\n    <tr>\n      <th>17</th>\n      <td>18</td>\n      <td>1</td>\n      <td>2</td>\n      <td>Williams, Mr. Charles Eugene</td>\n      <td>male</td>\n      <td>28.34369</td>\n      <td>0</td>\n      <td>0</td>\n      <td>244373</td>\n      <td>13.0000</td>\n      <td>NaN</td>\n      <td>S</td>\n    </tr>\n    <tr>\n      <th>19</th>\n      <td>20</td>\n      <td>1</td>\n      <td>3</td>\n      <td>Masselmani, Mrs. Fatima</td>\n      <td>female</td>\n      <td>28.34369</td>\n      <td>0</td>\n      <td>0</td>\n      <td>2649</td>\n      <td>7.2250</td>\n      <td>NaN</td>\n      <td>C</td>\n    </tr>\n    <tr>\n      <th>28</th>\n      <td>29</td>\n      <td>1</td>\n      <td>3</td>\n      <td>O'Dwyer, Miss. Ellen \"Nellie\"</td>\n      <td>female</td>\n      <td>28.34369</td>\n      <td>0</td>\n      <td>0</td>\n      <td>330959</td>\n      <td>7.8792</td>\n      <td>NaN</td>\n      <td>Q</td>\n    </tr>\n    <tr>\n      <th>31</th>\n      <td>32</td>\n      <td>1</td>\n      <td>1</td>\n      <td>Spencer, Mrs. William Augustus (Marie Eugenie)</td>\n      <td>female</td>\n      <td>28.34369</td>\n      <td>1</td>\n      <td>0</td>\n      <td>PC 17569</td>\n      <td>146.5208</td>\n      <td>B78</td>\n      <td>C</td>\n    </tr>\n    <tr>\n      <th>32</th>\n      <td>33</td>\n      <td>1</td>\n      <td>3</td>\n      <td>Glynn, Miss. Mary Agatha</td>\n      <td>female</td>\n      <td>28.34369</td>\n      <td>0</td>\n      <td>0</td>\n      <td>335677</td>\n      <td>7.7500</td>\n      <td>NaN</td>\n      <td>Q</td>\n    </tr>\n    <tr>\n      <th>36</th>\n      <td>37</td>\n      <td>1</td>\n      <td>3</td>\n      <td>Mamee, Mr. Hanna</td>\n      <td>male</td>\n      <td>28.34369</td>\n      <td>0</td>\n      <td>0</td>\n      <td>2677</td>\n      <td>7.2292</td>\n      <td>NaN</td>\n      <td>C</td>\n    </tr>\n    <tr>\n      <th>47</th>\n      <td>48</td>\n      <td>1</td>\n      <td>3</td>\n      <td>O'Driscoll, Miss. Bridget</td>\n      <td>female</td>\n      <td>28.34369</td>\n      <td>0</td>\n      <td>0</td>\n      <td>14311</td>\n      <td>7.7500</td>\n      <td>NaN</td>\n      <td>Q</td>\n    </tr>\n    <tr>\n      <th>55</th>\n      <td>56</td>\n      <td>1</td>\n      <td>1</td>\n      <td>Woolner, Mr. Hugh</td>\n      <td>male</td>\n      <td>28.34369</td>\n      <td>0</td>\n      <td>0</td>\n      <td>19947</td>\n      <td>35.5000</td>\n      <td>C52</td>\n      <td>S</td>\n    </tr>\n    <tr>\n      <th>65</th>\n      <td>66</td>\n      <td>1</td>\n      <td>3</td>\n      <td>Moubarek, Master. Gerios</td>\n      <td>male</td>\n      <td>28.34369</td>\n      <td>1</td>\n      <td>1</td>\n      <td>2661</td>\n      <td>15.2458</td>\n      <td>NaN</td>\n      <td>C</td>\n    </tr>\n    <tr>\n      <th>82</th>\n      <td>83</td>\n      <td>1</td>\n      <td>3</td>\n      <td>McDermott, Miss. Brigdet Delia</td>\n      <td>female</td>\n      <td>28.34369</td>\n      <td>0</td>\n      <td>0</td>\n      <td>330932</td>\n      <td>7.7875</td>\n      <td>NaN</td>\n      <td>Q</td>\n    </tr>\n    <tr>\n      <th>107</th>\n      <td>108</td>\n      <td>1</td>\n      <td>3</td>\n      <td>Moss, Mr. Albert Johan</td>\n      <td>male</td>\n      <td>28.34369</td>\n      <td>0</td>\n      <td>0</td>\n      <td>312991</td>\n      <td>7.7750</td>\n      <td>NaN</td>\n      <td>S</td>\n    </tr>\n    <tr>\n      <th>109</th>\n      <td>110</td>\n      <td>1</td>\n      <td>3</td>\n      <td>Moran, Miss. Bertha</td>\n      <td>female</td>\n      <td>28.34369</td>\n      <td>1</td>\n      <td>0</td>\n      <td>371110</td>\n      <td>24.1500</td>\n      <td>NaN</td>\n      <td>Q</td>\n    </tr>\n    <tr>\n      <th>128</th>\n      <td>129</td>\n      <td>1</td>\n      <td>3</td>\n      <td>Peter, Miss. Anna</td>\n      <td>female</td>\n      <td>28.34369</td>\n      <td>1</td>\n      <td>1</td>\n      <td>2668</td>\n      <td>22.3583</td>\n      <td>F E69</td>\n      <td>C</td>\n    </tr>\n    <tr>\n      <th>166</th>\n      <td>167</td>\n      <td>1</td>\n      <td>1</td>\n      <td>Chibnall, Mrs. (Edith Martha Bowerman)</td>\n      <td>female</td>\n      <td>28.34369</td>\n      <td>0</td>\n      <td>1</td>\n      <td>113505</td>\n      <td>55.0000</td>\n      <td>E33</td>\n      <td>S</td>\n    </tr>\n    <tr>\n      <th>186</th>\n      <td>187</td>\n      <td>1</td>\n      <td>3</td>\n      <td>O'Brien, Mrs. Thomas (Johanna \"Hannah\" Godfrey)</td>\n      <td>female</td>\n      <td>28.34369</td>\n      <td>1</td>\n      <td>0</td>\n      <td>370365</td>\n      <td>15.5000</td>\n      <td>NaN</td>\n      <td>Q</td>\n    </tr>\n    <tr>\n      <th>198</th>\n      <td>199</td>\n      <td>1</td>\n      <td>3</td>\n      <td>Madigan, Miss. Margaret \"Maggie\"</td>\n      <td>female</td>\n      <td>28.34369</td>\n      <td>0</td>\n      <td>0</td>\n      <td>370370</td>\n      <td>7.7500</td>\n      <td>NaN</td>\n      <td>Q</td>\n    </tr>\n    <tr>\n      <th>241</th>\n      <td>242</td>\n      <td>1</td>\n      <td>3</td>\n      <td>Murphy, Miss. Katherine \"Kate\"</td>\n      <td>female</td>\n      <td>28.34369</td>\n      <td>1</td>\n      <td>0</td>\n      <td>367230</td>\n      <td>15.5000</td>\n      <td>NaN</td>\n      <td>Q</td>\n    </tr>\n    <tr>\n      <th>256</th>\n      <td>257</td>\n      <td>1</td>\n      <td>1</td>\n      <td>Thorne, Mrs. Gertrude Maybelle</td>\n      <td>female</td>\n      <td>28.34369</td>\n      <td>0</td>\n      <td>0</td>\n      <td>PC 17585</td>\n      <td>79.2000</td>\n      <td>NaN</td>\n      <td>C</td>\n    </tr>\n    <tr>\n      <th>274</th>\n      <td>275</td>\n      <td>1</td>\n      <td>3</td>\n      <td>Healy, Miss. Hanora \"Nora\"</td>\n      <td>female</td>\n      <td>28.34369</td>\n      <td>0</td>\n      <td>0</td>\n      <td>370375</td>\n      <td>7.7500</td>\n      <td>NaN</td>\n      <td>Q</td>\n    </tr>\n    <tr>\n      <th>298</th>\n      <td>299</td>\n      <td>1</td>\n      <td>1</td>\n      <td>Saalfeld, Mr. Adolphe</td>\n      <td>male</td>\n      <td>28.34369</td>\n      <td>0</td>\n      <td>0</td>\n      <td>19988</td>\n      <td>30.5000</td>\n      <td>C106</td>\n      <td>S</td>\n    </tr>\n    <tr>\n      <th>300</th>\n      <td>301</td>\n      <td>1</td>\n      <td>3</td>\n      <td>Kelly, Miss. Anna Katherine \"Annie Kate\"</td>\n      <td>female</td>\n      <td>28.34369</td>\n      <td>0</td>\n      <td>0</td>\n      <td>9234</td>\n      <td>7.7500</td>\n      <td>NaN</td>\n      <td>Q</td>\n    </tr>\n    <tr>\n      <th>301</th>\n      <td>302</td>\n      <td>1</td>\n      <td>3</td>\n      <td>McCoy, Mr. Bernard</td>\n      <td>male</td>\n      <td>28.34369</td>\n      <td>2</td>\n      <td>0</td>\n      <td>367226</td>\n      <td>23.2500</td>\n      <td>NaN</td>\n      <td>Q</td>\n    </tr>\n    <tr>\n      <th>303</th>\n      <td>304</td>\n      <td>1</td>\n      <td>2</td>\n      <td>Keane, Miss. Nora A</td>\n      <td>female</td>\n      <td>28.34369</td>\n      <td>0</td>\n      <td>0</td>\n      <td>226593</td>\n      <td>12.3500</td>\n      <td>E101</td>\n      <td>Q</td>\n    </tr>\n    <tr>\n      <th>306</th>\n      <td>307</td>\n      <td>1</td>\n      <td>1</td>\n      <td>Fleming, Miss. Margaret</td>\n      <td>female</td>\n      <td>28.34369</td>\n      <td>0</td>\n      <td>0</td>\n      <td>17421</td>\n      <td>110.8833</td>\n      <td>NaN</td>\n      <td>C</td>\n    </tr>\n    <tr>\n      <th>330</th>\n      <td>331</td>\n      <td>1</td>\n      <td>3</td>\n      <td>McCoy, Miss. Agnes</td>\n      <td>female</td>\n      <td>28.34369</td>\n      <td>2</td>\n      <td>0</td>\n      <td>367226</td>\n      <td>23.2500</td>\n      <td>NaN</td>\n      <td>Q</td>\n    </tr>\n    <tr>\n      <th>334</th>\n      <td>335</td>\n      <td>1</td>\n      <td>1</td>\n      <td>Frauenthal, Mrs. Henry William (Clara Heinshei...</td>\n      <td>female</td>\n      <td>28.34369</td>\n      <td>1</td>\n      <td>0</td>\n      <td>PC 17611</td>\n      <td>133.6500</td>\n      <td>NaN</td>\n      <td>S</td>\n    </tr>\n    <tr>\n      <th>347</th>\n      <td>348</td>\n      <td>1</td>\n      <td>3</td>\n      <td>Davison, Mrs. Thomas Henry (Mary E Finck)</td>\n      <td>female</td>\n      <td>28.34369</td>\n      <td>1</td>\n      <td>0</td>\n      <td>386525</td>\n      <td>16.1000</td>\n      <td>NaN</td>\n      <td>S</td>\n    </tr>\n    <tr>\n      <th>358</th>\n      <td>359</td>\n      <td>1</td>\n      <td>3</td>\n      <td>McGovern, Miss. Mary</td>\n      <td>female</td>\n      <td>28.34369</td>\n      <td>0</td>\n      <td>0</td>\n      <td>330931</td>\n      <td>7.8792</td>\n      <td>NaN</td>\n      <td>Q</td>\n    </tr>\n    <tr>\n      <th>359</th>\n      <td>360</td>\n      <td>1</td>\n      <td>3</td>\n      <td>Mockler, Miss. Helen Mary \"Ellie\"</td>\n      <td>female</td>\n      <td>28.34369</td>\n      <td>0</td>\n      <td>0</td>\n      <td>330980</td>\n      <td>7.8792</td>\n      <td>NaN</td>\n      <td>Q</td>\n    </tr>\n    <tr>\n      <th>367</th>\n      <td>368</td>\n      <td>1</td>\n      <td>3</td>\n      <td>Moussa, Mrs. (Mantoura Boulos)</td>\n      <td>female</td>\n      <td>28.34369</td>\n      <td>0</td>\n      <td>0</td>\n      <td>2626</td>\n      <td>7.2292</td>\n      <td>NaN</td>\n      <td>C</td>\n    </tr>\n    <tr>\n      <th>368</th>\n      <td>369</td>\n      <td>1</td>\n      <td>3</td>\n      <td>Jermyn, Miss. Annie</td>\n      <td>female</td>\n      <td>28.34369</td>\n      <td>0</td>\n      <td>0</td>\n      <td>14313</td>\n      <td>7.7500</td>\n      <td>NaN</td>\n      <td>Q</td>\n    </tr>\n    <tr>\n      <th>375</th>\n      <td>376</td>\n      <td>1</td>\n      <td>1</td>\n      <td>Meyer, Mrs. Edgar Joseph (Leila Saks)</td>\n      <td>female</td>\n      <td>28.34369</td>\n      <td>1</td>\n      <td>0</td>\n      <td>PC 17604</td>\n      <td>82.1708</td>\n      <td>NaN</td>\n      <td>C</td>\n    </tr>\n    <tr>\n      <th>431</th>\n      <td>432</td>\n      <td>1</td>\n      <td>3</td>\n      <td>Thorneycroft, Mrs. Percival (Florence Kate White)</td>\n      <td>female</td>\n      <td>28.34369</td>\n      <td>1</td>\n      <td>0</td>\n      <td>376564</td>\n      <td>16.1000</td>\n      <td>NaN</td>\n      <td>S</td>\n    </tr>\n    <tr>\n      <th>444</th>\n      <td>445</td>\n      <td>1</td>\n      <td>3</td>\n      <td>Johannesen-Bratthammer, Mr. Bernt</td>\n      <td>male</td>\n      <td>28.34369</td>\n      <td>0</td>\n      <td>0</td>\n      <td>65306</td>\n      <td>8.1125</td>\n      <td>NaN</td>\n      <td>S</td>\n    </tr>\n    <tr>\n      <th>457</th>\n      <td>458</td>\n      <td>1</td>\n      <td>1</td>\n      <td>Kenyon, Mrs. Frederick R (Marion)</td>\n      <td>female</td>\n      <td>28.34369</td>\n      <td>1</td>\n      <td>0</td>\n      <td>17464</td>\n      <td>51.8625</td>\n      <td>D21</td>\n      <td>S</td>\n    </tr>\n    <tr>\n      <th>507</th>\n      <td>508</td>\n      <td>1</td>\n      <td>1</td>\n      <td>Bradley, Mr. George (\"George Arthur Brayton\")</td>\n      <td>male</td>\n      <td>28.34369</td>\n      <td>0</td>\n      <td>0</td>\n      <td>111427</td>\n      <td>26.5500</td>\n      <td>NaN</td>\n      <td>S</td>\n    </tr>\n    <tr>\n      <th>533</th>\n      <td>534</td>\n      <td>1</td>\n      <td>3</td>\n      <td>Peter, Mrs. Catherine (Catherine Rizk)</td>\n      <td>female</td>\n      <td>28.34369</td>\n      <td>0</td>\n      <td>2</td>\n      <td>2668</td>\n      <td>22.3583</td>\n      <td>NaN</td>\n      <td>C</td>\n    </tr>\n    <tr>\n      <th>547</th>\n      <td>548</td>\n      <td>1</td>\n      <td>2</td>\n      <td>Padro y Manent, Mr. Julian</td>\n      <td>male</td>\n      <td>28.34369</td>\n      <td>0</td>\n      <td>0</td>\n      <td>SC/PARIS 2146</td>\n      <td>13.8625</td>\n      <td>NaN</td>\n      <td>C</td>\n    </tr>\n    <tr>\n      <th>573</th>\n      <td>574</td>\n      <td>1</td>\n      <td>3</td>\n      <td>Kelly, Miss. Mary</td>\n      <td>female</td>\n      <td>28.34369</td>\n      <td>0</td>\n      <td>0</td>\n      <td>14312</td>\n      <td>7.7500</td>\n      <td>NaN</td>\n      <td>Q</td>\n    </tr>\n    <tr>\n      <th>596</th>\n      <td>597</td>\n      <td>1</td>\n      <td>2</td>\n      <td>Leitch, Miss. Jessie Wills</td>\n      <td>female</td>\n      <td>28.34369</td>\n      <td>0</td>\n      <td>0</td>\n      <td>248727</td>\n      <td>33.0000</td>\n      <td>NaN</td>\n      <td>S</td>\n    </tr>\n    <tr>\n      <th>612</th>\n      <td>613</td>\n      <td>1</td>\n      <td>3</td>\n      <td>Murphy, Miss. Margaret Jane</td>\n      <td>female</td>\n      <td>28.34369</td>\n      <td>1</td>\n      <td>0</td>\n      <td>367230</td>\n      <td>15.5000</td>\n      <td>NaN</td>\n      <td>Q</td>\n    </tr>\n    <tr>\n      <th>643</th>\n      <td>644</td>\n      <td>1</td>\n      <td>3</td>\n      <td>Foo, Mr. Choong</td>\n      <td>male</td>\n      <td>28.34369</td>\n      <td>0</td>\n      <td>0</td>\n      <td>1601</td>\n      <td>56.4958</td>\n      <td>NaN</td>\n      <td>S</td>\n    </tr>\n    <tr>\n      <th>653</th>\n      <td>654</td>\n      <td>1</td>\n      <td>3</td>\n      <td>O'Leary, Miss. Hanora \"Norah\"</td>\n      <td>female</td>\n      <td>28.34369</td>\n      <td>0</td>\n      <td>0</td>\n      <td>330919</td>\n      <td>7.8292</td>\n      <td>NaN</td>\n      <td>Q</td>\n    </tr>\n    <tr>\n      <th>669</th>\n      <td>670</td>\n      <td>1</td>\n      <td>1</td>\n      <td>Taylor, Mrs. Elmer Zebley (Juliet Cummins Wright)</td>\n      <td>female</td>\n      <td>28.34369</td>\n      <td>1</td>\n      <td>0</td>\n      <td>19996</td>\n      <td>52.0000</td>\n      <td>C126</td>\n      <td>S</td>\n    </tr>\n    <tr>\n      <th>692</th>\n      <td>693</td>\n      <td>1</td>\n      <td>3</td>\n      <td>Lam, Mr. Ali</td>\n      <td>male</td>\n      <td>28.34369</td>\n      <td>0</td>\n      <td>0</td>\n      <td>1601</td>\n      <td>56.4958</td>\n      <td>NaN</td>\n      <td>S</td>\n    </tr>\n    <tr>\n      <th>697</th>\n      <td>698</td>\n      <td>1</td>\n      <td>3</td>\n      <td>Mullens, Miss. Katherine \"Katie\"</td>\n      <td>female</td>\n      <td>28.34369</td>\n      <td>0</td>\n      <td>0</td>\n      <td>35852</td>\n      <td>7.7333</td>\n      <td>NaN</td>\n      <td>Q</td>\n    </tr>\n    <tr>\n      <th>709</th>\n      <td>710</td>\n      <td>1</td>\n      <td>3</td>\n      <td>Moubarek, Master. Halim Gonios (\"William George\")</td>\n      <td>male</td>\n      <td>28.34369</td>\n      <td>1</td>\n      <td>1</td>\n      <td>2661</td>\n      <td>15.2458</td>\n      <td>NaN</td>\n      <td>C</td>\n    </tr>\n    <tr>\n      <th>727</th>\n      <td>728</td>\n      <td>1</td>\n      <td>3</td>\n      <td>Mannion, Miss. Margareth</td>\n      <td>female</td>\n      <td>28.34369</td>\n      <td>0</td>\n      <td>0</td>\n      <td>36866</td>\n      <td>7.7375</td>\n      <td>NaN</td>\n      <td>Q</td>\n    </tr>\n    <tr>\n      <th>740</th>\n      <td>741</td>\n      <td>1</td>\n      <td>1</td>\n      <td>Hawksford, Mr. Walter James</td>\n      <td>male</td>\n      <td>28.34369</td>\n      <td>0</td>\n      <td>0</td>\n      <td>16988</td>\n      <td>30.0000</td>\n      <td>D45</td>\n      <td>S</td>\n    </tr>\n    <tr>\n      <th>828</th>\n      <td>829</td>\n      <td>1</td>\n      <td>3</td>\n      <td>McCormack, Mr. Thomas Joseph</td>\n      <td>male</td>\n      <td>28.34369</td>\n      <td>0</td>\n      <td>0</td>\n      <td>367228</td>\n      <td>7.7500</td>\n      <td>NaN</td>\n      <td>Q</td>\n    </tr>\n    <tr>\n      <th>839</th>\n      <td>840</td>\n      <td>1</td>\n      <td>1</td>\n      <td>Marechal, Mr. Pierre</td>\n      <td>male</td>\n      <td>28.34369</td>\n      <td>0</td>\n      <td>0</td>\n      <td>11774</td>\n      <td>29.7000</td>\n      <td>C47</td>\n      <td>C</td>\n    </tr>\n    <tr>\n      <th>849</th>\n      <td>850</td>\n      <td>1</td>\n      <td>1</td>\n      <td>Goldenberg, Mrs. Samuel L (Edwiga Grabowska)</td>\n      <td>female</td>\n      <td>28.34369</td>\n      <td>1</td>\n      <td>0</td>\n      <td>17453</td>\n      <td>89.1042</td>\n      <td>C92</td>\n      <td>C</td>\n    </tr>\n  </tbody>\n</table>\n</div>"
     },
     "execution_count": 19,
     "metadata": {},
     "output_type": "execute_result"
    }
   ],
   "source": [
    "train_data[train_data['Age'] == 28.343689655172415]"
   ],
   "metadata": {
    "collapsed": false
   }
  },
  {
   "cell_type": "markdown",
   "source": [],
   "metadata": {
    "collapsed": false
   }
  },
  {
   "cell_type": "code",
   "execution_count": 20,
   "outputs": [
    {
     "data": {
      "text/plain": "     PassengerId  Survived  Pclass                                      Name  \\\n5              6         0       3                          Moran, Mr. James   \n26            27         0       3                   Emir, Mr. Farred Chehab   \n29            30         0       3                       Todoroff, Mr. Lalio   \n42            43         0       3                       Kraeff, Mr. Theodor   \n45            46         0       3                  Rogers, Mr. William John   \n..           ...       ...     ...                                       ...   \n859          860         0       3                          Razi, Mr. Raihed   \n863          864         0       3         Sage, Miss. Dorothy Edith \"Dolly\"   \n868          869         0       3               van Melkebeke, Mr. Philemon   \n878          879         0       3                        Laleff, Mr. Kristo   \n888          889         0       3  Johnston, Miss. Catherine Helen \"Carrie\"   \n\n        Sex        Age  SibSp  Parch           Ticket     Fare Cabin Embarked  \n5      male  30.626179      0      0           330877   8.4583   NaN        Q  \n26     male  30.626179      0      0             2631   7.2250   NaN        C  \n29     male  30.626179      0      0           349216   7.8958   NaN        S  \n42     male  30.626179      0      0           349253   7.8958   NaN        C  \n45     male  30.626179      0      0  S.C./A.4. 23567   8.0500   NaN        S  \n..      ...        ...    ...    ...              ...      ...   ...      ...  \n859    male  30.626179      0      0             2629   7.2292   NaN        C  \n863  female  30.626179      8      2         CA. 2343  69.5500   NaN        S  \n868    male  30.626179      0      0           345777   9.5000   NaN        S  \n878    male  30.626179      0      0           349217   7.8958   NaN        S  \n888  female  30.626179      1      2       W./C. 6607  23.4500   NaN        S  \n\n[125 rows x 12 columns]",
      "text/html": "<div>\n<style scoped>\n    .dataframe tbody tr th:only-of-type {\n        vertical-align: middle;\n    }\n\n    .dataframe tbody tr th {\n        vertical-align: top;\n    }\n\n    .dataframe thead th {\n        text-align: right;\n    }\n</style>\n<table border=\"1\" class=\"dataframe\">\n  <thead>\n    <tr style=\"text-align: right;\">\n      <th></th>\n      <th>PassengerId</th>\n      <th>Survived</th>\n      <th>Pclass</th>\n      <th>Name</th>\n      <th>Sex</th>\n      <th>Age</th>\n      <th>SibSp</th>\n      <th>Parch</th>\n      <th>Ticket</th>\n      <th>Fare</th>\n      <th>Cabin</th>\n      <th>Embarked</th>\n    </tr>\n  </thead>\n  <tbody>\n    <tr>\n      <th>5</th>\n      <td>6</td>\n      <td>0</td>\n      <td>3</td>\n      <td>Moran, Mr. James</td>\n      <td>male</td>\n      <td>30.626179</td>\n      <td>0</td>\n      <td>0</td>\n      <td>330877</td>\n      <td>8.4583</td>\n      <td>NaN</td>\n      <td>Q</td>\n    </tr>\n    <tr>\n      <th>26</th>\n      <td>27</td>\n      <td>0</td>\n      <td>3</td>\n      <td>Emir, Mr. Farred Chehab</td>\n      <td>male</td>\n      <td>30.626179</td>\n      <td>0</td>\n      <td>0</td>\n      <td>2631</td>\n      <td>7.2250</td>\n      <td>NaN</td>\n      <td>C</td>\n    </tr>\n    <tr>\n      <th>29</th>\n      <td>30</td>\n      <td>0</td>\n      <td>3</td>\n      <td>Todoroff, Mr. Lalio</td>\n      <td>male</td>\n      <td>30.626179</td>\n      <td>0</td>\n      <td>0</td>\n      <td>349216</td>\n      <td>7.8958</td>\n      <td>NaN</td>\n      <td>S</td>\n    </tr>\n    <tr>\n      <th>42</th>\n      <td>43</td>\n      <td>0</td>\n      <td>3</td>\n      <td>Kraeff, Mr. Theodor</td>\n      <td>male</td>\n      <td>30.626179</td>\n      <td>0</td>\n      <td>0</td>\n      <td>349253</td>\n      <td>7.8958</td>\n      <td>NaN</td>\n      <td>C</td>\n    </tr>\n    <tr>\n      <th>45</th>\n      <td>46</td>\n      <td>0</td>\n      <td>3</td>\n      <td>Rogers, Mr. William John</td>\n      <td>male</td>\n      <td>30.626179</td>\n      <td>0</td>\n      <td>0</td>\n      <td>S.C./A.4. 23567</td>\n      <td>8.0500</td>\n      <td>NaN</td>\n      <td>S</td>\n    </tr>\n    <tr>\n      <th>...</th>\n      <td>...</td>\n      <td>...</td>\n      <td>...</td>\n      <td>...</td>\n      <td>...</td>\n      <td>...</td>\n      <td>...</td>\n      <td>...</td>\n      <td>...</td>\n      <td>...</td>\n      <td>...</td>\n      <td>...</td>\n    </tr>\n    <tr>\n      <th>859</th>\n      <td>860</td>\n      <td>0</td>\n      <td>3</td>\n      <td>Razi, Mr. Raihed</td>\n      <td>male</td>\n      <td>30.626179</td>\n      <td>0</td>\n      <td>0</td>\n      <td>2629</td>\n      <td>7.2292</td>\n      <td>NaN</td>\n      <td>C</td>\n    </tr>\n    <tr>\n      <th>863</th>\n      <td>864</td>\n      <td>0</td>\n      <td>3</td>\n      <td>Sage, Miss. Dorothy Edith \"Dolly\"</td>\n      <td>female</td>\n      <td>30.626179</td>\n      <td>8</td>\n      <td>2</td>\n      <td>CA. 2343</td>\n      <td>69.5500</td>\n      <td>NaN</td>\n      <td>S</td>\n    </tr>\n    <tr>\n      <th>868</th>\n      <td>869</td>\n      <td>0</td>\n      <td>3</td>\n      <td>van Melkebeke, Mr. Philemon</td>\n      <td>male</td>\n      <td>30.626179</td>\n      <td>0</td>\n      <td>0</td>\n      <td>345777</td>\n      <td>9.5000</td>\n      <td>NaN</td>\n      <td>S</td>\n    </tr>\n    <tr>\n      <th>878</th>\n      <td>879</td>\n      <td>0</td>\n      <td>3</td>\n      <td>Laleff, Mr. Kristo</td>\n      <td>male</td>\n      <td>30.626179</td>\n      <td>0</td>\n      <td>0</td>\n      <td>349217</td>\n      <td>7.8958</td>\n      <td>NaN</td>\n      <td>S</td>\n    </tr>\n    <tr>\n      <th>888</th>\n      <td>889</td>\n      <td>0</td>\n      <td>3</td>\n      <td>Johnston, Miss. Catherine Helen \"Carrie\"</td>\n      <td>female</td>\n      <td>30.626179</td>\n      <td>1</td>\n      <td>2</td>\n      <td>W./C. 6607</td>\n      <td>23.4500</td>\n      <td>NaN</td>\n      <td>S</td>\n    </tr>\n  </tbody>\n</table>\n<p>125 rows × 12 columns</p>\n</div>"
     },
     "execution_count": 20,
     "metadata": {},
     "output_type": "execute_result"
    }
   ],
   "source": [
    "train_data[train_data['Age'] == 30.62617924528302]"
   ],
   "metadata": {
    "collapsed": false
   }
  }
 ],
 "metadata": {
  "kernelspec": {
   "display_name": "Python 3",
   "language": "python",
   "name": "python3"
  },
  "language_info": {
   "codemirror_mode": {
    "name": "ipython",
    "version": 2
   },
   "file_extension": ".py",
   "mimetype": "text/x-python",
   "name": "python",
   "nbconvert_exporter": "python",
   "pygments_lexer": "ipython2",
   "version": "2.7.6"
  }
 },
 "nbformat": 4,
 "nbformat_minor": 0
}
