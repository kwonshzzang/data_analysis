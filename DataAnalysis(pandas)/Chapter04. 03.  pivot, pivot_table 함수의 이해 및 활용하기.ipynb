{
 "cells": [
  {
   "cell_type": "markdown",
   "source": [
    "## 학습목표\n",
    "- pivot, pivot_table 함수의 이해"
   ],
   "metadata": {
    "collapsed": false
   }
  },
  {
   "cell_type": "code",
   "execution_count": 1,
   "outputs": [],
   "source": [
    "import numpy as np\n",
    "import pandas as pd"
   ],
   "metadata": {
    "collapsed": false
   }
  },
  {
   "cell_type": "code",
   "execution_count": 2,
   "outputs": [
    {
     "data": {
      "text/plain": "    지역   요일   강수량  강수확률\n0   서울  월요일   100    80\n1   서울  화요일    80    70\n2   서울  수요일  1000    90\n3   경기  월요일   200    10\n4   경기  화요일   200    20\n5   부산  월요일   100    30\n6   서울  목요일    50    50\n7   서울  금요일   100    90\n8   부산  화요일   200    20\n9   경기  수요일   100    80\n10  경기  목요일    50    50\n11  경기  금요일   100    10",
      "text/html": "<div>\n<style scoped>\n    .dataframe tbody tr th:only-of-type {\n        vertical-align: middle;\n    }\n\n    .dataframe tbody tr th {\n        vertical-align: top;\n    }\n\n    .dataframe thead th {\n        text-align: right;\n    }\n</style>\n<table border=\"1\" class=\"dataframe\">\n  <thead>\n    <tr style=\"text-align: right;\">\n      <th></th>\n      <th>지역</th>\n      <th>요일</th>\n      <th>강수량</th>\n      <th>강수확률</th>\n    </tr>\n  </thead>\n  <tbody>\n    <tr>\n      <th>0</th>\n      <td>서울</td>\n      <td>월요일</td>\n      <td>100</td>\n      <td>80</td>\n    </tr>\n    <tr>\n      <th>1</th>\n      <td>서울</td>\n      <td>화요일</td>\n      <td>80</td>\n      <td>70</td>\n    </tr>\n    <tr>\n      <th>2</th>\n      <td>서울</td>\n      <td>수요일</td>\n      <td>1000</td>\n      <td>90</td>\n    </tr>\n    <tr>\n      <th>3</th>\n      <td>경기</td>\n      <td>월요일</td>\n      <td>200</td>\n      <td>10</td>\n    </tr>\n    <tr>\n      <th>4</th>\n      <td>경기</td>\n      <td>화요일</td>\n      <td>200</td>\n      <td>20</td>\n    </tr>\n    <tr>\n      <th>5</th>\n      <td>부산</td>\n      <td>월요일</td>\n      <td>100</td>\n      <td>30</td>\n    </tr>\n    <tr>\n      <th>6</th>\n      <td>서울</td>\n      <td>목요일</td>\n      <td>50</td>\n      <td>50</td>\n    </tr>\n    <tr>\n      <th>7</th>\n      <td>서울</td>\n      <td>금요일</td>\n      <td>100</td>\n      <td>90</td>\n    </tr>\n    <tr>\n      <th>8</th>\n      <td>부산</td>\n      <td>화요일</td>\n      <td>200</td>\n      <td>20</td>\n    </tr>\n    <tr>\n      <th>9</th>\n      <td>경기</td>\n      <td>수요일</td>\n      <td>100</td>\n      <td>80</td>\n    </tr>\n    <tr>\n      <th>10</th>\n      <td>경기</td>\n      <td>목요일</td>\n      <td>50</td>\n      <td>50</td>\n    </tr>\n    <tr>\n      <th>11</th>\n      <td>경기</td>\n      <td>금요일</td>\n      <td>100</td>\n      <td>10</td>\n    </tr>\n  </tbody>\n</table>\n</div>"
     },
     "execution_count": 2,
     "metadata": {},
     "output_type": "execute_result"
    }
   ],
   "source": [
    "df = pd.DataFrame({\n",
    "    '지역':['서울', '서울', '서울', '경기', '경기', '부산', '서울', '서울', '부산', '경기', '경기', '경기'],\n",
    "    '요일':['월요일', '화요일', '수요일', '월요일', '화요일', '월요일', '목요일', '금요일', '화요일', '수요일', '목요일', '금요일'],\n",
    "    '강수량':[100, 80, 1000, 200, 200, 100, 50, 100, 200, 100, 50, 100],\n",
    "    '강수확률':[80, 70, 90, 10, 20, 30, 50, 90, 20, 80, 50, 10]\n",
    "})\n",
    "\n",
    "df"
   ],
   "metadata": {
    "collapsed": false
   }
  },
  {
   "cell_type": "markdown",
   "source": [
    "### pivot\n",
    "- dataframe의 형태를 변경\n",
    "- 인덱스, 컬럼, 데이터로 사용할 컬럼을 명시"
   ],
   "metadata": {
    "collapsed": false
   }
  },
  {
   "cell_type": "code",
   "execution_count": 3,
   "outputs": [
    {
     "data": {
      "text/plain": "      강수량                              강수확률                        \n요일    금요일   목요일     수요일    월요일    화요일   금요일   목요일   수요일   월요일   화요일\n지역                                                                 \n경기  100.0  50.0   100.0  200.0  200.0  10.0  50.0  80.0  10.0  20.0\n부산    NaN   NaN     NaN  100.0  200.0   NaN   NaN   NaN  30.0  20.0\n서울  100.0  50.0  1000.0  100.0   80.0  90.0  50.0  90.0  80.0  70.0",
      "text/html": "<div>\n<style scoped>\n    .dataframe tbody tr th:only-of-type {\n        vertical-align: middle;\n    }\n\n    .dataframe tbody tr th {\n        vertical-align: top;\n    }\n\n    .dataframe thead tr th {\n        text-align: left;\n    }\n\n    .dataframe thead tr:last-of-type th {\n        text-align: right;\n    }\n</style>\n<table border=\"1\" class=\"dataframe\">\n  <thead>\n    <tr>\n      <th></th>\n      <th colspan=\"5\" halign=\"left\">강수량</th>\n      <th colspan=\"5\" halign=\"left\">강수확률</th>\n    </tr>\n    <tr>\n      <th>요일</th>\n      <th>금요일</th>\n      <th>목요일</th>\n      <th>수요일</th>\n      <th>월요일</th>\n      <th>화요일</th>\n      <th>금요일</th>\n      <th>목요일</th>\n      <th>수요일</th>\n      <th>월요일</th>\n      <th>화요일</th>\n    </tr>\n    <tr>\n      <th>지역</th>\n      <th></th>\n      <th></th>\n      <th></th>\n      <th></th>\n      <th></th>\n      <th></th>\n      <th></th>\n      <th></th>\n      <th></th>\n      <th></th>\n    </tr>\n  </thead>\n  <tbody>\n    <tr>\n      <th>경기</th>\n      <td>100.0</td>\n      <td>50.0</td>\n      <td>100.0</td>\n      <td>200.0</td>\n      <td>200.0</td>\n      <td>10.0</td>\n      <td>50.0</td>\n      <td>80.0</td>\n      <td>10.0</td>\n      <td>20.0</td>\n    </tr>\n    <tr>\n      <th>부산</th>\n      <td>NaN</td>\n      <td>NaN</td>\n      <td>NaN</td>\n      <td>100.0</td>\n      <td>200.0</td>\n      <td>NaN</td>\n      <td>NaN</td>\n      <td>NaN</td>\n      <td>30.0</td>\n      <td>20.0</td>\n    </tr>\n    <tr>\n      <th>서울</th>\n      <td>100.0</td>\n      <td>50.0</td>\n      <td>1000.0</td>\n      <td>100.0</td>\n      <td>80.0</td>\n      <td>90.0</td>\n      <td>50.0</td>\n      <td>90.0</td>\n      <td>80.0</td>\n      <td>70.0</td>\n    </tr>\n  </tbody>\n</table>\n</div>"
     },
     "execution_count": 3,
     "metadata": {},
     "output_type": "execute_result"
    }
   ],
   "source": [
    "df.pivot('지역', '요일')"
   ],
   "metadata": {
    "collapsed": false
   }
  },
  {
   "cell_type": "code",
   "execution_count": 4,
   "outputs": [
    {
     "data": {
      "text/plain": "       강수량                 강수확률            \n지역      경기     부산      서울    경기    부산    서울\n요일                                         \n금요일  100.0    NaN   100.0  10.0   NaN  90.0\n목요일   50.0    NaN    50.0  50.0   NaN  50.0\n수요일  100.0    NaN  1000.0  80.0   NaN  90.0\n월요일  200.0  100.0   100.0  10.0  30.0  80.0\n화요일  200.0  200.0    80.0  20.0  20.0  70.0",
      "text/html": "<div>\n<style scoped>\n    .dataframe tbody tr th:only-of-type {\n        vertical-align: middle;\n    }\n\n    .dataframe tbody tr th {\n        vertical-align: top;\n    }\n\n    .dataframe thead tr th {\n        text-align: left;\n    }\n\n    .dataframe thead tr:last-of-type th {\n        text-align: right;\n    }\n</style>\n<table border=\"1\" class=\"dataframe\">\n  <thead>\n    <tr>\n      <th></th>\n      <th colspan=\"3\" halign=\"left\">강수량</th>\n      <th colspan=\"3\" halign=\"left\">강수확률</th>\n    </tr>\n    <tr>\n      <th>지역</th>\n      <th>경기</th>\n      <th>부산</th>\n      <th>서울</th>\n      <th>경기</th>\n      <th>부산</th>\n      <th>서울</th>\n    </tr>\n    <tr>\n      <th>요일</th>\n      <th></th>\n      <th></th>\n      <th></th>\n      <th></th>\n      <th></th>\n      <th></th>\n    </tr>\n  </thead>\n  <tbody>\n    <tr>\n      <th>금요일</th>\n      <td>100.0</td>\n      <td>NaN</td>\n      <td>100.0</td>\n      <td>10.0</td>\n      <td>NaN</td>\n      <td>90.0</td>\n    </tr>\n    <tr>\n      <th>목요일</th>\n      <td>50.0</td>\n      <td>NaN</td>\n      <td>50.0</td>\n      <td>50.0</td>\n      <td>NaN</td>\n      <td>50.0</td>\n    </tr>\n    <tr>\n      <th>수요일</th>\n      <td>100.0</td>\n      <td>NaN</td>\n      <td>1000.0</td>\n      <td>80.0</td>\n      <td>NaN</td>\n      <td>90.0</td>\n    </tr>\n    <tr>\n      <th>월요일</th>\n      <td>200.0</td>\n      <td>100.0</td>\n      <td>100.0</td>\n      <td>10.0</td>\n      <td>30.0</td>\n      <td>80.0</td>\n    </tr>\n    <tr>\n      <th>화요일</th>\n      <td>200.0</td>\n      <td>200.0</td>\n      <td>80.0</td>\n      <td>20.0</td>\n      <td>20.0</td>\n      <td>70.0</td>\n    </tr>\n  </tbody>\n</table>\n</div>"
     },
     "execution_count": 4,
     "metadata": {},
     "output_type": "execute_result"
    }
   ],
   "source": [
    "df.pivot('요일', '지역')"
   ],
   "metadata": {
    "collapsed": false
   }
  },
  {
   "cell_type": "code",
   "execution_count": 5,
   "outputs": [
    {
     "data": {
      "text/plain": "지역      경기     부산      서울\n요일                       \n금요일  100.0    NaN   100.0\n목요일   50.0    NaN    50.0\n수요일  100.0    NaN  1000.0\n월요일  200.0  100.0   100.0\n화요일  200.0  200.0    80.0",
      "text/html": "<div>\n<style scoped>\n    .dataframe tbody tr th:only-of-type {\n        vertical-align: middle;\n    }\n\n    .dataframe tbody tr th {\n        vertical-align: top;\n    }\n\n    .dataframe thead th {\n        text-align: right;\n    }\n</style>\n<table border=\"1\" class=\"dataframe\">\n  <thead>\n    <tr style=\"text-align: right;\">\n      <th>지역</th>\n      <th>경기</th>\n      <th>부산</th>\n      <th>서울</th>\n    </tr>\n    <tr>\n      <th>요일</th>\n      <th></th>\n      <th></th>\n      <th></th>\n    </tr>\n  </thead>\n  <tbody>\n    <tr>\n      <th>금요일</th>\n      <td>100.0</td>\n      <td>NaN</td>\n      <td>100.0</td>\n    </tr>\n    <tr>\n      <th>목요일</th>\n      <td>50.0</td>\n      <td>NaN</td>\n      <td>50.0</td>\n    </tr>\n    <tr>\n      <th>수요일</th>\n      <td>100.0</td>\n      <td>NaN</td>\n      <td>1000.0</td>\n    </tr>\n    <tr>\n      <th>월요일</th>\n      <td>200.0</td>\n      <td>100.0</td>\n      <td>100.0</td>\n    </tr>\n    <tr>\n      <th>화요일</th>\n      <td>200.0</td>\n      <td>200.0</td>\n      <td>80.0</td>\n    </tr>\n  </tbody>\n</table>\n</div>"
     },
     "execution_count": 5,
     "metadata": {},
     "output_type": "execute_result"
    }
   ],
   "source": [
    "df.pivot('요일', '지역', '강수량')"
   ],
   "metadata": {
    "collapsed": false
   }
  },
  {
   "cell_type": "code",
   "execution_count": 6,
   "outputs": [
    {
     "data": {
      "text/plain": "지역     경기    부산    서울\n요일                   \n금요일  10.0   NaN  90.0\n목요일  50.0   NaN  50.0\n수요일  80.0   NaN  90.0\n월요일  10.0  30.0  80.0\n화요일  20.0  20.0  70.0",
      "text/html": "<div>\n<style scoped>\n    .dataframe tbody tr th:only-of-type {\n        vertical-align: middle;\n    }\n\n    .dataframe tbody tr th {\n        vertical-align: top;\n    }\n\n    .dataframe thead th {\n        text-align: right;\n    }\n</style>\n<table border=\"1\" class=\"dataframe\">\n  <thead>\n    <tr style=\"text-align: right;\">\n      <th>지역</th>\n      <th>경기</th>\n      <th>부산</th>\n      <th>서울</th>\n    </tr>\n    <tr>\n      <th>요일</th>\n      <th></th>\n      <th></th>\n      <th></th>\n    </tr>\n  </thead>\n  <tbody>\n    <tr>\n      <th>금요일</th>\n      <td>10.0</td>\n      <td>NaN</td>\n      <td>90.0</td>\n    </tr>\n    <tr>\n      <th>목요일</th>\n      <td>50.0</td>\n      <td>NaN</td>\n      <td>50.0</td>\n    </tr>\n    <tr>\n      <th>수요일</th>\n      <td>80.0</td>\n      <td>NaN</td>\n      <td>90.0</td>\n    </tr>\n    <tr>\n      <th>월요일</th>\n      <td>10.0</td>\n      <td>30.0</td>\n      <td>80.0</td>\n    </tr>\n    <tr>\n      <th>화요일</th>\n      <td>20.0</td>\n      <td>20.0</td>\n      <td>70.0</td>\n    </tr>\n  </tbody>\n</table>\n</div>"
     },
     "execution_count": 6,
     "metadata": {},
     "output_type": "execute_result"
    }
   ],
   "source": [
    "df.pivot('요일', '지역', '강수확률')"
   ],
   "metadata": {
    "collapsed": false
   }
  },
  {
   "cell_type": "markdown",
   "source": [
    "### pivot_table\n",
    "- 기능적으로 pivot과 동일\n",
    "- pivot과의 차이점\n",
    "    -  중복되는 모호한 값이 있을 경우, aggregation 함수를 사용하여 값을 채움"
   ],
   "metadata": {
    "collapsed": false
   }
  },
  {
   "cell_type": "code",
   "execution_count": 8,
   "outputs": [
    {
     "data": {
      "text/plain": "    지역   요일   강수량  강수확률\n0   서울  월요일   100    80\n1   서울  월요일    80    70\n2   서울  수요일  1000    90\n3   경기  월요일   200    10\n4   경기  화요일   200    20\n5   부산  월요일   100    30\n6   서울  목요일    50    50\n7   서울  금요일   100    90\n8   부산  화요일   200    20\n9   경기  수요일   100    80\n10  경기  목요일    50    50\n11  경기  금요일   100    10",
      "text/html": "<div>\n<style scoped>\n    .dataframe tbody tr th:only-of-type {\n        vertical-align: middle;\n    }\n\n    .dataframe tbody tr th {\n        vertical-align: top;\n    }\n\n    .dataframe thead th {\n        text-align: right;\n    }\n</style>\n<table border=\"1\" class=\"dataframe\">\n  <thead>\n    <tr style=\"text-align: right;\">\n      <th></th>\n      <th>지역</th>\n      <th>요일</th>\n      <th>강수량</th>\n      <th>강수확률</th>\n    </tr>\n  </thead>\n  <tbody>\n    <tr>\n      <th>0</th>\n      <td>서울</td>\n      <td>월요일</td>\n      <td>100</td>\n      <td>80</td>\n    </tr>\n    <tr>\n      <th>1</th>\n      <td>서울</td>\n      <td>월요일</td>\n      <td>80</td>\n      <td>70</td>\n    </tr>\n    <tr>\n      <th>2</th>\n      <td>서울</td>\n      <td>수요일</td>\n      <td>1000</td>\n      <td>90</td>\n    </tr>\n    <tr>\n      <th>3</th>\n      <td>경기</td>\n      <td>월요일</td>\n      <td>200</td>\n      <td>10</td>\n    </tr>\n    <tr>\n      <th>4</th>\n      <td>경기</td>\n      <td>화요일</td>\n      <td>200</td>\n      <td>20</td>\n    </tr>\n    <tr>\n      <th>5</th>\n      <td>부산</td>\n      <td>월요일</td>\n      <td>100</td>\n      <td>30</td>\n    </tr>\n    <tr>\n      <th>6</th>\n      <td>서울</td>\n      <td>목요일</td>\n      <td>50</td>\n      <td>50</td>\n    </tr>\n    <tr>\n      <th>7</th>\n      <td>서울</td>\n      <td>금요일</td>\n      <td>100</td>\n      <td>90</td>\n    </tr>\n    <tr>\n      <th>8</th>\n      <td>부산</td>\n      <td>화요일</td>\n      <td>200</td>\n      <td>20</td>\n    </tr>\n    <tr>\n      <th>9</th>\n      <td>경기</td>\n      <td>수요일</td>\n      <td>100</td>\n      <td>80</td>\n    </tr>\n    <tr>\n      <th>10</th>\n      <td>경기</td>\n      <td>목요일</td>\n      <td>50</td>\n      <td>50</td>\n    </tr>\n    <tr>\n      <th>11</th>\n      <td>경기</td>\n      <td>금요일</td>\n      <td>100</td>\n      <td>10</td>\n    </tr>\n  </tbody>\n</table>\n</div>"
     },
     "execution_count": 8,
     "metadata": {},
     "output_type": "execute_result"
    }
   ],
   "source": [
    "df = pd.DataFrame({\n",
    "    '지역':['서울', '서울', '서울', '경기', '경기', '부산', '서울', '서울', '부산', '경기', '경기', '경기'],\n",
    "    '요일':['월요일', '월요일', '수요일', '월요일', '화요일', '월요일', '목요일', '금요일', '화요일', '수요일', '목요일', '금요일'],\n",
    "    '강수량':[100, 80, 1000, 200, 200, 100, 50, 100, 200, 100, 50, 100],\n",
    "    '강수확률':[80, 70, 90, 10, 20, 30, 50, 90, 20, 80, 50, 10]\n",
    "})\n",
    "\n",
    "df\n",
    "df"
   ],
   "metadata": {
    "collapsed": false
   }
  },
  {
   "cell_type": "code",
   "execution_count": 10,
   "outputs": [
    {
     "ename": "ValueError",
     "evalue": "Index contains duplicate entries, cannot reshape",
     "output_type": "error",
     "traceback": [
      "\u001B[0;31m---------------------------------------------------------------------------\u001B[0m",
      "\u001B[0;31mValueError\u001B[0m                                Traceback (most recent call last)",
      "Input \u001B[0;32mIn [10]\u001B[0m, in \u001B[0;36m<cell line: 2>\u001B[0;34m()\u001B[0m\n\u001B[1;32m      1\u001B[0m \u001B[38;5;66;03m# 중복 허용 후 호출\u001B[39;00m\n\u001B[0;32m----> 2\u001B[0m \u001B[43mdf\u001B[49m\u001B[38;5;241;43m.\u001B[39;49m\u001B[43mpivot\u001B[49m\u001B[43m(\u001B[49m\u001B[38;5;124;43m'\u001B[39;49m\u001B[38;5;124;43m요일\u001B[39;49m\u001B[38;5;124;43m'\u001B[39;49m\u001B[43m,\u001B[49m\u001B[43m \u001B[49m\u001B[38;5;124;43m'\u001B[39;49m\u001B[38;5;124;43m지역\u001B[39;49m\u001B[38;5;124;43m'\u001B[39;49m\u001B[43m)\u001B[49m\n",
      "File \u001B[0;32m~/Dev/DataAnalysis/venv/lib/python3.9/site-packages/pandas/core/frame.py:7885\u001B[0m, in \u001B[0;36mDataFrame.pivot\u001B[0;34m(self, index, columns, values)\u001B[0m\n\u001B[1;32m   7880\u001B[0m \u001B[38;5;129m@Substitution\u001B[39m(\u001B[38;5;124m\"\u001B[39m\u001B[38;5;124m\"\u001B[39m)\n\u001B[1;32m   7881\u001B[0m \u001B[38;5;129m@Appender\u001B[39m(_shared_docs[\u001B[38;5;124m\"\u001B[39m\u001B[38;5;124mpivot\u001B[39m\u001B[38;5;124m\"\u001B[39m])\n\u001B[1;32m   7882\u001B[0m \u001B[38;5;28;01mdef\u001B[39;00m \u001B[38;5;21mpivot\u001B[39m(\u001B[38;5;28mself\u001B[39m, index\u001B[38;5;241m=\u001B[39m\u001B[38;5;28;01mNone\u001B[39;00m, columns\u001B[38;5;241m=\u001B[39m\u001B[38;5;28;01mNone\u001B[39;00m, values\u001B[38;5;241m=\u001B[39m\u001B[38;5;28;01mNone\u001B[39;00m) \u001B[38;5;241m-\u001B[39m\u001B[38;5;241m>\u001B[39m DataFrame:\n\u001B[1;32m   7883\u001B[0m     \u001B[38;5;28;01mfrom\u001B[39;00m \u001B[38;5;21;01mpandas\u001B[39;00m\u001B[38;5;21;01m.\u001B[39;00m\u001B[38;5;21;01mcore\u001B[39;00m\u001B[38;5;21;01m.\u001B[39;00m\u001B[38;5;21;01mreshape\u001B[39;00m\u001B[38;5;21;01m.\u001B[39;00m\u001B[38;5;21;01mpivot\u001B[39;00m \u001B[38;5;28;01mimport\u001B[39;00m pivot\n\u001B[0;32m-> 7885\u001B[0m     \u001B[38;5;28;01mreturn\u001B[39;00m \u001B[43mpivot\u001B[49m\u001B[43m(\u001B[49m\u001B[38;5;28;43mself\u001B[39;49m\u001B[43m,\u001B[49m\u001B[43m \u001B[49m\u001B[43mindex\u001B[49m\u001B[38;5;241;43m=\u001B[39;49m\u001B[43mindex\u001B[49m\u001B[43m,\u001B[49m\u001B[43m \u001B[49m\u001B[43mcolumns\u001B[49m\u001B[38;5;241;43m=\u001B[39;49m\u001B[43mcolumns\u001B[49m\u001B[43m,\u001B[49m\u001B[43m \u001B[49m\u001B[43mvalues\u001B[49m\u001B[38;5;241;43m=\u001B[39;49m\u001B[43mvalues\u001B[49m\u001B[43m)\u001B[49m\n",
      "File \u001B[0;32m~/Dev/DataAnalysis/venv/lib/python3.9/site-packages/pandas/core/reshape/pivot.py:520\u001B[0m, in \u001B[0;36mpivot\u001B[0;34m(data, index, columns, values)\u001B[0m\n\u001B[1;32m    518\u001B[0m     \u001B[38;5;28;01melse\u001B[39;00m:\n\u001B[1;32m    519\u001B[0m         indexed \u001B[38;5;241m=\u001B[39m data\u001B[38;5;241m.\u001B[39m_constructor_sliced(data[values]\u001B[38;5;241m.\u001B[39m_values, index\u001B[38;5;241m=\u001B[39mmultiindex)\n\u001B[0;32m--> 520\u001B[0m \u001B[38;5;28;01mreturn\u001B[39;00m \u001B[43mindexed\u001B[49m\u001B[38;5;241;43m.\u001B[39;49m\u001B[43munstack\u001B[49m\u001B[43m(\u001B[49m\u001B[43mcolumns_listlike\u001B[49m\u001B[43m)\u001B[49m\n",
      "File \u001B[0;32m~/Dev/DataAnalysis/venv/lib/python3.9/site-packages/pandas/core/frame.py:8428\u001B[0m, in \u001B[0;36mDataFrame.unstack\u001B[0;34m(self, level, fill_value)\u001B[0m\n\u001B[1;32m   8366\u001B[0m \u001B[38;5;124;03m\"\"\"\u001B[39;00m\n\u001B[1;32m   8367\u001B[0m \u001B[38;5;124;03mPivot a level of the (necessarily hierarchical) index labels.\u001B[39;00m\n\u001B[1;32m   8368\u001B[0m \n\u001B[0;32m   (...)\u001B[0m\n\u001B[1;32m   8424\u001B[0m \u001B[38;5;124;03mdtype: float64\u001B[39;00m\n\u001B[1;32m   8425\u001B[0m \u001B[38;5;124;03m\"\"\"\u001B[39;00m\n\u001B[1;32m   8426\u001B[0m \u001B[38;5;28;01mfrom\u001B[39;00m \u001B[38;5;21;01mpandas\u001B[39;00m\u001B[38;5;21;01m.\u001B[39;00m\u001B[38;5;21;01mcore\u001B[39;00m\u001B[38;5;21;01m.\u001B[39;00m\u001B[38;5;21;01mreshape\u001B[39;00m\u001B[38;5;21;01m.\u001B[39;00m\u001B[38;5;21;01mreshape\u001B[39;00m \u001B[38;5;28;01mimport\u001B[39;00m unstack\n\u001B[0;32m-> 8428\u001B[0m result \u001B[38;5;241m=\u001B[39m \u001B[43munstack\u001B[49m\u001B[43m(\u001B[49m\u001B[38;5;28;43mself\u001B[39;49m\u001B[43m,\u001B[49m\u001B[43m \u001B[49m\u001B[43mlevel\u001B[49m\u001B[43m,\u001B[49m\u001B[43m \u001B[49m\u001B[43mfill_value\u001B[49m\u001B[43m)\u001B[49m\n\u001B[1;32m   8430\u001B[0m \u001B[38;5;28;01mreturn\u001B[39;00m result\u001B[38;5;241m.\u001B[39m__finalize__(\u001B[38;5;28mself\u001B[39m, method\u001B[38;5;241m=\u001B[39m\u001B[38;5;124m\"\u001B[39m\u001B[38;5;124munstack\u001B[39m\u001B[38;5;124m\"\u001B[39m)\n",
      "File \u001B[0;32m~/Dev/DataAnalysis/venv/lib/python3.9/site-packages/pandas/core/reshape/reshape.py:478\u001B[0m, in \u001B[0;36munstack\u001B[0;34m(obj, level, fill_value)\u001B[0m\n\u001B[1;32m    476\u001B[0m \u001B[38;5;28;01mif\u001B[39;00m \u001B[38;5;28misinstance\u001B[39m(obj, DataFrame):\n\u001B[1;32m    477\u001B[0m     \u001B[38;5;28;01mif\u001B[39;00m \u001B[38;5;28misinstance\u001B[39m(obj\u001B[38;5;241m.\u001B[39mindex, MultiIndex):\n\u001B[0;32m--> 478\u001B[0m         \u001B[38;5;28;01mreturn\u001B[39;00m \u001B[43m_unstack_frame\u001B[49m\u001B[43m(\u001B[49m\u001B[43mobj\u001B[49m\u001B[43m,\u001B[49m\u001B[43m \u001B[49m\u001B[43mlevel\u001B[49m\u001B[43m,\u001B[49m\u001B[43m \u001B[49m\u001B[43mfill_value\u001B[49m\u001B[38;5;241;43m=\u001B[39;49m\u001B[43mfill_value\u001B[49m\u001B[43m)\u001B[49m\n\u001B[1;32m    479\u001B[0m     \u001B[38;5;28;01melse\u001B[39;00m:\n\u001B[1;32m    480\u001B[0m         \u001B[38;5;28;01mreturn\u001B[39;00m obj\u001B[38;5;241m.\u001B[39mT\u001B[38;5;241m.\u001B[39mstack(dropna\u001B[38;5;241m=\u001B[39m\u001B[38;5;28;01mFalse\u001B[39;00m)\n",
      "File \u001B[0;32m~/Dev/DataAnalysis/venv/lib/python3.9/site-packages/pandas/core/reshape/reshape.py:505\u001B[0m, in \u001B[0;36m_unstack_frame\u001B[0;34m(obj, level, fill_value)\u001B[0m\n\u001B[1;32m    503\u001B[0m     \u001B[38;5;28;01mreturn\u001B[39;00m obj\u001B[38;5;241m.\u001B[39m_constructor(mgr)\n\u001B[1;32m    504\u001B[0m \u001B[38;5;28;01melse\u001B[39;00m:\n\u001B[0;32m--> 505\u001B[0m     unstacker \u001B[38;5;241m=\u001B[39m \u001B[43m_Unstacker\u001B[49m\u001B[43m(\u001B[49m\u001B[43mobj\u001B[49m\u001B[38;5;241;43m.\u001B[39;49m\u001B[43mindex\u001B[49m\u001B[43m,\u001B[49m\u001B[43m \u001B[49m\u001B[43mlevel\u001B[49m\u001B[38;5;241;43m=\u001B[39;49m\u001B[43mlevel\u001B[49m\u001B[43m,\u001B[49m\u001B[43m \u001B[49m\u001B[43mconstructor\u001B[49m\u001B[38;5;241;43m=\u001B[39;49m\u001B[43mobj\u001B[49m\u001B[38;5;241;43m.\u001B[39;49m\u001B[43m_constructor\u001B[49m\u001B[43m)\u001B[49m\n\u001B[1;32m    506\u001B[0m     \u001B[38;5;28;01mreturn\u001B[39;00m unstacker\u001B[38;5;241m.\u001B[39mget_result(\n\u001B[1;32m    507\u001B[0m         obj\u001B[38;5;241m.\u001B[39m_values, value_columns\u001B[38;5;241m=\u001B[39mobj\u001B[38;5;241m.\u001B[39mcolumns, fill_value\u001B[38;5;241m=\u001B[39mfill_value\n\u001B[1;32m    508\u001B[0m     )\n",
      "File \u001B[0;32m~/Dev/DataAnalysis/venv/lib/python3.9/site-packages/pandas/core/reshape/reshape.py:140\u001B[0m, in \u001B[0;36m_Unstacker.__init__\u001B[0;34m(self, index, level, constructor)\u001B[0m\n\u001B[1;32m    133\u001B[0m \u001B[38;5;28;01mif\u001B[39;00m num_cells \u001B[38;5;241m>\u001B[39m np\u001B[38;5;241m.\u001B[39miinfo(np\u001B[38;5;241m.\u001B[39mint32)\u001B[38;5;241m.\u001B[39mmax:\n\u001B[1;32m    134\u001B[0m     warnings\u001B[38;5;241m.\u001B[39mwarn(\n\u001B[1;32m    135\u001B[0m         \u001B[38;5;124mf\u001B[39m\u001B[38;5;124m\"\u001B[39m\u001B[38;5;124mThe following operation may generate \u001B[39m\u001B[38;5;132;01m{\u001B[39;00mnum_cells\u001B[38;5;132;01m}\u001B[39;00m\u001B[38;5;124m cells \u001B[39m\u001B[38;5;124m\"\u001B[39m\n\u001B[1;32m    136\u001B[0m         \u001B[38;5;124mf\u001B[39m\u001B[38;5;124m\"\u001B[39m\u001B[38;5;124min the resulting pandas object.\u001B[39m\u001B[38;5;124m\"\u001B[39m,\n\u001B[1;32m    137\u001B[0m         PerformanceWarning,\n\u001B[1;32m    138\u001B[0m     )\n\u001B[0;32m--> 140\u001B[0m \u001B[38;5;28;43mself\u001B[39;49m\u001B[38;5;241;43m.\u001B[39;49m\u001B[43m_make_selectors\u001B[49m\u001B[43m(\u001B[49m\u001B[43m)\u001B[49m\n",
      "File \u001B[0;32m~/Dev/DataAnalysis/venv/lib/python3.9/site-packages/pandas/core/reshape/reshape.py:192\u001B[0m, in \u001B[0;36m_Unstacker._make_selectors\u001B[0;34m(self)\u001B[0m\n\u001B[1;32m    189\u001B[0m mask\u001B[38;5;241m.\u001B[39mput(selector, \u001B[38;5;28;01mTrue\u001B[39;00m)\n\u001B[1;32m    191\u001B[0m \u001B[38;5;28;01mif\u001B[39;00m mask\u001B[38;5;241m.\u001B[39msum() \u001B[38;5;241m<\u001B[39m \u001B[38;5;28mlen\u001B[39m(\u001B[38;5;28mself\u001B[39m\u001B[38;5;241m.\u001B[39mindex):\n\u001B[0;32m--> 192\u001B[0m     \u001B[38;5;28;01mraise\u001B[39;00m \u001B[38;5;167;01mValueError\u001B[39;00m(\u001B[38;5;124m\"\u001B[39m\u001B[38;5;124mIndex contains duplicate entries, cannot reshape\u001B[39m\u001B[38;5;124m\"\u001B[39m)\n\u001B[1;32m    194\u001B[0m \u001B[38;5;28mself\u001B[39m\u001B[38;5;241m.\u001B[39mgroup_index \u001B[38;5;241m=\u001B[39m comp_index\n\u001B[1;32m    195\u001B[0m \u001B[38;5;28mself\u001B[39m\u001B[38;5;241m.\u001B[39mmask \u001B[38;5;241m=\u001B[39m mask\n",
      "\u001B[0;31mValueError\u001B[0m: Index contains duplicate entries, cannot reshape"
     ]
    }
   ],
   "source": [
    "# 중복 허용 후 호출\n",
    "df.pivot('요일', '지역')"
   ],
   "metadata": {
    "collapsed": false
   }
  },
  {
   "cell_type": "code",
   "execution_count": 11,
   "outputs": [
    {
     "data": {
      "text/plain": "       강수량                 강수확률            \n지역      경기     부산      서울    경기    부산    서울\n요일                                         \n금요일  100.0    NaN   100.0  10.0   NaN  90.0\n목요일   50.0    NaN    50.0  50.0   NaN  50.0\n수요일  100.0    NaN  1000.0  80.0   NaN  90.0\n월요일  200.0  100.0    90.0  10.0  30.0  75.0\n화요일  200.0  200.0     NaN  20.0  20.0   NaN",
      "text/html": "<div>\n<style scoped>\n    .dataframe tbody tr th:only-of-type {\n        vertical-align: middle;\n    }\n\n    .dataframe tbody tr th {\n        vertical-align: top;\n    }\n\n    .dataframe thead tr th {\n        text-align: left;\n    }\n\n    .dataframe thead tr:last-of-type th {\n        text-align: right;\n    }\n</style>\n<table border=\"1\" class=\"dataframe\">\n  <thead>\n    <tr>\n      <th></th>\n      <th colspan=\"3\" halign=\"left\">강수량</th>\n      <th colspan=\"3\" halign=\"left\">강수확률</th>\n    </tr>\n    <tr>\n      <th>지역</th>\n      <th>경기</th>\n      <th>부산</th>\n      <th>서울</th>\n      <th>경기</th>\n      <th>부산</th>\n      <th>서울</th>\n    </tr>\n    <tr>\n      <th>요일</th>\n      <th></th>\n      <th></th>\n      <th></th>\n      <th></th>\n      <th></th>\n      <th></th>\n    </tr>\n  </thead>\n  <tbody>\n    <tr>\n      <th>금요일</th>\n      <td>100.0</td>\n      <td>NaN</td>\n      <td>100.0</td>\n      <td>10.0</td>\n      <td>NaN</td>\n      <td>90.0</td>\n    </tr>\n    <tr>\n      <th>목요일</th>\n      <td>50.0</td>\n      <td>NaN</td>\n      <td>50.0</td>\n      <td>50.0</td>\n      <td>NaN</td>\n      <td>50.0</td>\n    </tr>\n    <tr>\n      <th>수요일</th>\n      <td>100.0</td>\n      <td>NaN</td>\n      <td>1000.0</td>\n      <td>80.0</td>\n      <td>NaN</td>\n      <td>90.0</td>\n    </tr>\n    <tr>\n      <th>월요일</th>\n      <td>200.0</td>\n      <td>100.0</td>\n      <td>90.0</td>\n      <td>10.0</td>\n      <td>30.0</td>\n      <td>75.0</td>\n    </tr>\n    <tr>\n      <th>화요일</th>\n      <td>200.0</td>\n      <td>200.0</td>\n      <td>NaN</td>\n      <td>20.0</td>\n      <td>20.0</td>\n      <td>NaN</td>\n    </tr>\n  </tbody>\n</table>\n</div>"
     },
     "execution_count": 11,
     "metadata": {},
     "output_type": "execute_result"
    }
   ],
   "source": [
    "pd.pivot_table(df, index='요일', columns='지역', aggfunc=np.mean)"
   ],
   "metadata": {
    "collapsed": false
   }
  }
 ],
 "metadata": {
  "kernelspec": {
   "display_name": "Python 3",
   "language": "python",
   "name": "python3"
  },
  "language_info": {
   "codemirror_mode": {
    "name": "ipython",
    "version": 2
   },
   "file_extension": ".py",
   "mimetype": "text/x-python",
   "name": "python",
   "nbconvert_exporter": "python",
   "pygments_lexer": "ipython2",
   "version": "2.7.6"
  }
 },
 "nbformat": 4,
 "nbformat_minor": 0
}
