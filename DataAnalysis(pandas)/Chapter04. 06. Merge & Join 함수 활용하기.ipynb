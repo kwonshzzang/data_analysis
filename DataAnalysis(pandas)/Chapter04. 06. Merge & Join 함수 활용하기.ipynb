{
 "cells": [
  {
   "cell_type": "markdown",
   "source": [
    "## 학습목표\n",
    "- Merge & Join 함수 활용하기"
   ],
   "metadata": {
    "collapsed": false
   }
  },
  {
   "cell_type": "code",
   "execution_count": 2,
   "outputs": [],
   "source": [
    "import pandas as pd\n",
    "import numpy as np"
   ],
   "metadata": {
    "collapsed": false
   }
  },
  {
   "cell_type": "markdown",
   "source": [
    "### dataframe merge\n",
    "- SQL의 join처럼 특정한 column을 기준으로 병합\n",
    "    - join 방식 : how 파라미터를 통해 명시\n",
    "        - inner: 기본값, 일치하는 값이 있는 경우\n",
    "        - left: left outer join\n",
    "        - right: right outer join\n",
    "        - outer: full outer join\n",
    "    - pandas.merge 함수가 사용됨"
   ],
   "metadata": {
    "collapsed": false
   }
  },
  {
   "cell_type": "code",
   "execution_count": 6,
   "outputs": [
    {
     "data": {
      "text/plain": "   customer_id name  나이\n0            0   철수  40\n1            1   영희  20\n2            2   길동  21\n3            3   영수  30\n4            4   수민  31\n5            5   동건  18",
      "text/html": "<div>\n<style scoped>\n    .dataframe tbody tr th:only-of-type {\n        vertical-align: middle;\n    }\n\n    .dataframe tbody tr th {\n        vertical-align: top;\n    }\n\n    .dataframe thead th {\n        text-align: right;\n    }\n</style>\n<table border=\"1\" class=\"dataframe\">\n  <thead>\n    <tr style=\"text-align: right;\">\n      <th></th>\n      <th>customer_id</th>\n      <th>name</th>\n      <th>나이</th>\n    </tr>\n  </thead>\n  <tbody>\n    <tr>\n      <th>0</th>\n      <td>0</td>\n      <td>철수</td>\n      <td>40</td>\n    </tr>\n    <tr>\n      <th>1</th>\n      <td>1</td>\n      <td>영희</td>\n      <td>20</td>\n    </tr>\n    <tr>\n      <th>2</th>\n      <td>2</td>\n      <td>길동</td>\n      <td>21</td>\n    </tr>\n    <tr>\n      <th>3</th>\n      <td>3</td>\n      <td>영수</td>\n      <td>30</td>\n    </tr>\n    <tr>\n      <th>4</th>\n      <td>4</td>\n      <td>수민</td>\n      <td>31</td>\n    </tr>\n    <tr>\n      <th>5</th>\n      <td>5</td>\n      <td>동건</td>\n      <td>18</td>\n    </tr>\n  </tbody>\n</table>\n</div>"
     },
     "execution_count": 6,
     "metadata": {},
     "output_type": "execute_result"
    }
   ],
   "source": [
    "customers = pd.DataFrame( {'customer_id': np.arange(6),\n",
    "                          'name': ['철수', '영희', '길동', '영수', '수민', '동건'],\n",
    "                          '나이':[40, 20, 21, 30, 31, 18]})\n",
    "customers"
   ],
   "metadata": {
    "collapsed": false
   }
  },
  {
   "cell_type": "code",
   "execution_count": 8,
   "outputs": [
    {
     "data": {
      "text/plain": "   customer_id item  quantity\n0            1   치약         1\n1            1   칫솔         2\n2            2  이어폰         1\n3            2  헤드셋         1\n4            2   수건         3\n5            3   생수         2\n6            3   수건         2\n7            1   치약         3\n8            4   생수         2\n9            9  케이스         1",
      "text/html": "<div>\n<style scoped>\n    .dataframe tbody tr th:only-of-type {\n        vertical-align: middle;\n    }\n\n    .dataframe tbody tr th {\n        vertical-align: top;\n    }\n\n    .dataframe thead th {\n        text-align: right;\n    }\n</style>\n<table border=\"1\" class=\"dataframe\">\n  <thead>\n    <tr style=\"text-align: right;\">\n      <th></th>\n      <th>customer_id</th>\n      <th>item</th>\n      <th>quantity</th>\n    </tr>\n  </thead>\n  <tbody>\n    <tr>\n      <th>0</th>\n      <td>1</td>\n      <td>치약</td>\n      <td>1</td>\n    </tr>\n    <tr>\n      <th>1</th>\n      <td>1</td>\n      <td>칫솔</td>\n      <td>2</td>\n    </tr>\n    <tr>\n      <th>2</th>\n      <td>2</td>\n      <td>이어폰</td>\n      <td>1</td>\n    </tr>\n    <tr>\n      <th>3</th>\n      <td>2</td>\n      <td>헤드셋</td>\n      <td>1</td>\n    </tr>\n    <tr>\n      <th>4</th>\n      <td>2</td>\n      <td>수건</td>\n      <td>3</td>\n    </tr>\n    <tr>\n      <th>5</th>\n      <td>3</td>\n      <td>생수</td>\n      <td>2</td>\n    </tr>\n    <tr>\n      <th>6</th>\n      <td>3</td>\n      <td>수건</td>\n      <td>2</td>\n    </tr>\n    <tr>\n      <th>7</th>\n      <td>1</td>\n      <td>치약</td>\n      <td>3</td>\n    </tr>\n    <tr>\n      <th>8</th>\n      <td>4</td>\n      <td>생수</td>\n      <td>2</td>\n    </tr>\n    <tr>\n      <th>9</th>\n      <td>9</td>\n      <td>케이스</td>\n      <td>1</td>\n    </tr>\n  </tbody>\n</table>\n</div>"
     },
     "execution_count": 8,
     "metadata": {},
     "output_type": "execute_result"
    }
   ],
   "source": [
    "orders = pd.DataFrame( {'customer_id':[1, 1, 2, 2, 2, 3, 3, 1, 4, 9],\n",
    "                        'item':['치약', '칫솔', '이어폰', '헤드셋', '수건','생수', '수건', '치약', '생수', '케이스'],\n",
    "                        'quantity':[1, 2, 1, 1, 3, 2, 2, 3, 2, 1]})\n",
    "orders"
   ],
   "metadata": {
    "collapsed": false
   }
  },
  {
   "cell_type": "markdown",
   "source": [
    "- on\n",
    "    - join 대상이 되는 column 명시"
   ],
   "metadata": {
    "collapsed": false
   }
  },
  {
   "cell_type": "code",
   "execution_count": 9,
   "outputs": [
    {
     "data": {
      "text/plain": "   customer_id name  나이 item  quantity\n0            1   영희  20   치약         1\n1            1   영희  20   칫솔         2\n2            1   영희  20   치약         3\n3            2   길동  21  이어폰         1\n4            2   길동  21  헤드셋         1\n5            2   길동  21   수건         3\n6            3   영수  30   생수         2\n7            3   영수  30   수건         2\n8            4   수민  31   생수         2",
      "text/html": "<div>\n<style scoped>\n    .dataframe tbody tr th:only-of-type {\n        vertical-align: middle;\n    }\n\n    .dataframe tbody tr th {\n        vertical-align: top;\n    }\n\n    .dataframe thead th {\n        text-align: right;\n    }\n</style>\n<table border=\"1\" class=\"dataframe\">\n  <thead>\n    <tr style=\"text-align: right;\">\n      <th></th>\n      <th>customer_id</th>\n      <th>name</th>\n      <th>나이</th>\n      <th>item</th>\n      <th>quantity</th>\n    </tr>\n  </thead>\n  <tbody>\n    <tr>\n      <th>0</th>\n      <td>1</td>\n      <td>영희</td>\n      <td>20</td>\n      <td>치약</td>\n      <td>1</td>\n    </tr>\n    <tr>\n      <th>1</th>\n      <td>1</td>\n      <td>영희</td>\n      <td>20</td>\n      <td>칫솔</td>\n      <td>2</td>\n    </tr>\n    <tr>\n      <th>2</th>\n      <td>1</td>\n      <td>영희</td>\n      <td>20</td>\n      <td>치약</td>\n      <td>3</td>\n    </tr>\n    <tr>\n      <th>3</th>\n      <td>2</td>\n      <td>길동</td>\n      <td>21</td>\n      <td>이어폰</td>\n      <td>1</td>\n    </tr>\n    <tr>\n      <th>4</th>\n      <td>2</td>\n      <td>길동</td>\n      <td>21</td>\n      <td>헤드셋</td>\n      <td>1</td>\n    </tr>\n    <tr>\n      <th>5</th>\n      <td>2</td>\n      <td>길동</td>\n      <td>21</td>\n      <td>수건</td>\n      <td>3</td>\n    </tr>\n    <tr>\n      <th>6</th>\n      <td>3</td>\n      <td>영수</td>\n      <td>30</td>\n      <td>생수</td>\n      <td>2</td>\n    </tr>\n    <tr>\n      <th>7</th>\n      <td>3</td>\n      <td>영수</td>\n      <td>30</td>\n      <td>수건</td>\n      <td>2</td>\n    </tr>\n    <tr>\n      <th>8</th>\n      <td>4</td>\n      <td>수민</td>\n      <td>31</td>\n      <td>생수</td>\n      <td>2</td>\n    </tr>\n  </tbody>\n</table>\n</div>"
     },
     "execution_count": 9,
     "metadata": {},
     "output_type": "execute_result"
    }
   ],
   "source": [
    "pd.merge(customers, orders, on='customer_id')"
   ],
   "metadata": {
    "collapsed": false
   }
  },
  {
   "cell_type": "code",
   "execution_count": 10,
   "outputs": [
    {
     "data": {
      "text/plain": "    customer_id name  나이 item  quantity\n0             0   철수  40  NaN       NaN\n1             1   영희  20   치약       1.0\n2             1   영희  20   칫솔       2.0\n3             1   영희  20   치약       3.0\n4             2   길동  21  이어폰       1.0\n5             2   길동  21  헤드셋       1.0\n6             2   길동  21   수건       3.0\n7             3   영수  30   생수       2.0\n8             3   영수  30   수건       2.0\n9             4   수민  31   생수       2.0\n10            5   동건  18  NaN       NaN",
      "text/html": "<div>\n<style scoped>\n    .dataframe tbody tr th:only-of-type {\n        vertical-align: middle;\n    }\n\n    .dataframe tbody tr th {\n        vertical-align: top;\n    }\n\n    .dataframe thead th {\n        text-align: right;\n    }\n</style>\n<table border=\"1\" class=\"dataframe\">\n  <thead>\n    <tr style=\"text-align: right;\">\n      <th></th>\n      <th>customer_id</th>\n      <th>name</th>\n      <th>나이</th>\n      <th>item</th>\n      <th>quantity</th>\n    </tr>\n  </thead>\n  <tbody>\n    <tr>\n      <th>0</th>\n      <td>0</td>\n      <td>철수</td>\n      <td>40</td>\n      <td>NaN</td>\n      <td>NaN</td>\n    </tr>\n    <tr>\n      <th>1</th>\n      <td>1</td>\n      <td>영희</td>\n      <td>20</td>\n      <td>치약</td>\n      <td>1.0</td>\n    </tr>\n    <tr>\n      <th>2</th>\n      <td>1</td>\n      <td>영희</td>\n      <td>20</td>\n      <td>칫솔</td>\n      <td>2.0</td>\n    </tr>\n    <tr>\n      <th>3</th>\n      <td>1</td>\n      <td>영희</td>\n      <td>20</td>\n      <td>치약</td>\n      <td>3.0</td>\n    </tr>\n    <tr>\n      <th>4</th>\n      <td>2</td>\n      <td>길동</td>\n      <td>21</td>\n      <td>이어폰</td>\n      <td>1.0</td>\n    </tr>\n    <tr>\n      <th>5</th>\n      <td>2</td>\n      <td>길동</td>\n      <td>21</td>\n      <td>헤드셋</td>\n      <td>1.0</td>\n    </tr>\n    <tr>\n      <th>6</th>\n      <td>2</td>\n      <td>길동</td>\n      <td>21</td>\n      <td>수건</td>\n      <td>3.0</td>\n    </tr>\n    <tr>\n      <th>7</th>\n      <td>3</td>\n      <td>영수</td>\n      <td>30</td>\n      <td>생수</td>\n      <td>2.0</td>\n    </tr>\n    <tr>\n      <th>8</th>\n      <td>3</td>\n      <td>영수</td>\n      <td>30</td>\n      <td>수건</td>\n      <td>2.0</td>\n    </tr>\n    <tr>\n      <th>9</th>\n      <td>4</td>\n      <td>수민</td>\n      <td>31</td>\n      <td>생수</td>\n      <td>2.0</td>\n    </tr>\n    <tr>\n      <th>10</th>\n      <td>5</td>\n      <td>동건</td>\n      <td>18</td>\n      <td>NaN</td>\n      <td>NaN</td>\n    </tr>\n  </tbody>\n</table>\n</div>"
     },
     "execution_count": 10,
     "metadata": {},
     "output_type": "execute_result"
    }
   ],
   "source": [
    "pd.merge(customers, orders, on='customer_id', how='left')"
   ],
   "metadata": {
    "collapsed": false
   }
  },
  {
   "cell_type": "code",
   "execution_count": 11,
   "outputs": [
    {
     "data": {
      "text/plain": "   customer_id name    나이 item  quantity\n0            1   영희  20.0   치약         1\n1            1   영희  20.0   칫솔         2\n2            2   길동  21.0  이어폰         1\n3            2   길동  21.0  헤드셋         1\n4            2   길동  21.0   수건         3\n5            3   영수  30.0   생수         2\n6            3   영수  30.0   수건         2\n7            1   영희  20.0   치약         3\n8            4   수민  31.0   생수         2\n9            9  NaN   NaN  케이스         1",
      "text/html": "<div>\n<style scoped>\n    .dataframe tbody tr th:only-of-type {\n        vertical-align: middle;\n    }\n\n    .dataframe tbody tr th {\n        vertical-align: top;\n    }\n\n    .dataframe thead th {\n        text-align: right;\n    }\n</style>\n<table border=\"1\" class=\"dataframe\">\n  <thead>\n    <tr style=\"text-align: right;\">\n      <th></th>\n      <th>customer_id</th>\n      <th>name</th>\n      <th>나이</th>\n      <th>item</th>\n      <th>quantity</th>\n    </tr>\n  </thead>\n  <tbody>\n    <tr>\n      <th>0</th>\n      <td>1</td>\n      <td>영희</td>\n      <td>20.0</td>\n      <td>치약</td>\n      <td>1</td>\n    </tr>\n    <tr>\n      <th>1</th>\n      <td>1</td>\n      <td>영희</td>\n      <td>20.0</td>\n      <td>칫솔</td>\n      <td>2</td>\n    </tr>\n    <tr>\n      <th>2</th>\n      <td>2</td>\n      <td>길동</td>\n      <td>21.0</td>\n      <td>이어폰</td>\n      <td>1</td>\n    </tr>\n    <tr>\n      <th>3</th>\n      <td>2</td>\n      <td>길동</td>\n      <td>21.0</td>\n      <td>헤드셋</td>\n      <td>1</td>\n    </tr>\n    <tr>\n      <th>4</th>\n      <td>2</td>\n      <td>길동</td>\n      <td>21.0</td>\n      <td>수건</td>\n      <td>3</td>\n    </tr>\n    <tr>\n      <th>5</th>\n      <td>3</td>\n      <td>영수</td>\n      <td>30.0</td>\n      <td>생수</td>\n      <td>2</td>\n    </tr>\n    <tr>\n      <th>6</th>\n      <td>3</td>\n      <td>영수</td>\n      <td>30.0</td>\n      <td>수건</td>\n      <td>2</td>\n    </tr>\n    <tr>\n      <th>7</th>\n      <td>1</td>\n      <td>영희</td>\n      <td>20.0</td>\n      <td>치약</td>\n      <td>3</td>\n    </tr>\n    <tr>\n      <th>8</th>\n      <td>4</td>\n      <td>수민</td>\n      <td>31.0</td>\n      <td>생수</td>\n      <td>2</td>\n    </tr>\n    <tr>\n      <th>9</th>\n      <td>9</td>\n      <td>NaN</td>\n      <td>NaN</td>\n      <td>케이스</td>\n      <td>1</td>\n    </tr>\n  </tbody>\n</table>\n</div>"
     },
     "execution_count": 11,
     "metadata": {},
     "output_type": "execute_result"
    }
   ],
   "source": [
    "pd.merge(customers, orders, on='customer_id', how='right')"
   ],
   "metadata": {
    "collapsed": false
   }
  },
  {
   "cell_type": "code",
   "execution_count": 12,
   "outputs": [
    {
     "data": {
      "text/plain": "    customer_id name    나이 item  quantity\n0             0   철수  40.0  NaN       NaN\n1             1   영희  20.0   치약       1.0\n2             1   영희  20.0   칫솔       2.0\n3             1   영희  20.0   치약       3.0\n4             2   길동  21.0  이어폰       1.0\n5             2   길동  21.0  헤드셋       1.0\n6             2   길동  21.0   수건       3.0\n7             3   영수  30.0   생수       2.0\n8             3   영수  30.0   수건       2.0\n9             4   수민  31.0   생수       2.0\n10            5   동건  18.0  NaN       NaN\n11            9  NaN   NaN  케이스       1.0",
      "text/html": "<div>\n<style scoped>\n    .dataframe tbody tr th:only-of-type {\n        vertical-align: middle;\n    }\n\n    .dataframe tbody tr th {\n        vertical-align: top;\n    }\n\n    .dataframe thead th {\n        text-align: right;\n    }\n</style>\n<table border=\"1\" class=\"dataframe\">\n  <thead>\n    <tr style=\"text-align: right;\">\n      <th></th>\n      <th>customer_id</th>\n      <th>name</th>\n      <th>나이</th>\n      <th>item</th>\n      <th>quantity</th>\n    </tr>\n  </thead>\n  <tbody>\n    <tr>\n      <th>0</th>\n      <td>0</td>\n      <td>철수</td>\n      <td>40.0</td>\n      <td>NaN</td>\n      <td>NaN</td>\n    </tr>\n    <tr>\n      <th>1</th>\n      <td>1</td>\n      <td>영희</td>\n      <td>20.0</td>\n      <td>치약</td>\n      <td>1.0</td>\n    </tr>\n    <tr>\n      <th>2</th>\n      <td>1</td>\n      <td>영희</td>\n      <td>20.0</td>\n      <td>칫솔</td>\n      <td>2.0</td>\n    </tr>\n    <tr>\n      <th>3</th>\n      <td>1</td>\n      <td>영희</td>\n      <td>20.0</td>\n      <td>치약</td>\n      <td>3.0</td>\n    </tr>\n    <tr>\n      <th>4</th>\n      <td>2</td>\n      <td>길동</td>\n      <td>21.0</td>\n      <td>이어폰</td>\n      <td>1.0</td>\n    </tr>\n    <tr>\n      <th>5</th>\n      <td>2</td>\n      <td>길동</td>\n      <td>21.0</td>\n      <td>헤드셋</td>\n      <td>1.0</td>\n    </tr>\n    <tr>\n      <th>6</th>\n      <td>2</td>\n      <td>길동</td>\n      <td>21.0</td>\n      <td>수건</td>\n      <td>3.0</td>\n    </tr>\n    <tr>\n      <th>7</th>\n      <td>3</td>\n      <td>영수</td>\n      <td>30.0</td>\n      <td>생수</td>\n      <td>2.0</td>\n    </tr>\n    <tr>\n      <th>8</th>\n      <td>3</td>\n      <td>영수</td>\n      <td>30.0</td>\n      <td>수건</td>\n      <td>2.0</td>\n    </tr>\n    <tr>\n      <th>9</th>\n      <td>4</td>\n      <td>수민</td>\n      <td>31.0</td>\n      <td>생수</td>\n      <td>2.0</td>\n    </tr>\n    <tr>\n      <th>10</th>\n      <td>5</td>\n      <td>동건</td>\n      <td>18.0</td>\n      <td>NaN</td>\n      <td>NaN</td>\n    </tr>\n    <tr>\n      <th>11</th>\n      <td>9</td>\n      <td>NaN</td>\n      <td>NaN</td>\n      <td>케이스</td>\n      <td>1.0</td>\n    </tr>\n  </tbody>\n</table>\n</div>"
     },
     "execution_count": 12,
     "metadata": {},
     "output_type": "execute_result"
    }
   ],
   "source": [
    "pd.merge(customers, orders, on='customer_id', how='outer')"
   ],
   "metadata": {
    "collapsed": false
   }
  },
  {
   "cell_type": "markdown",
   "source": [
    "- index 기준으로 join하기"
   ],
   "metadata": {
    "collapsed": false
   }
  },
  {
   "cell_type": "code",
   "execution_count": 13,
   "outputs": [],
   "source": [
    "cust1 = customers.set_index('customer_id')\n",
    "order1 = orders.set_index('customer_id')"
   ],
   "metadata": {
    "collapsed": false
   }
  },
  {
   "cell_type": "code",
   "execution_count": 14,
   "outputs": [
    {
     "data": {
      "text/plain": "            name  나이\ncustomer_id         \n0             철수  40\n1             영희  20\n2             길동  21\n3             영수  30\n4             수민  31\n5             동건  18",
      "text/html": "<div>\n<style scoped>\n    .dataframe tbody tr th:only-of-type {\n        vertical-align: middle;\n    }\n\n    .dataframe tbody tr th {\n        vertical-align: top;\n    }\n\n    .dataframe thead th {\n        text-align: right;\n    }\n</style>\n<table border=\"1\" class=\"dataframe\">\n  <thead>\n    <tr style=\"text-align: right;\">\n      <th></th>\n      <th>name</th>\n      <th>나이</th>\n    </tr>\n    <tr>\n      <th>customer_id</th>\n      <th></th>\n      <th></th>\n    </tr>\n  </thead>\n  <tbody>\n    <tr>\n      <th>0</th>\n      <td>철수</td>\n      <td>40</td>\n    </tr>\n    <tr>\n      <th>1</th>\n      <td>영희</td>\n      <td>20</td>\n    </tr>\n    <tr>\n      <th>2</th>\n      <td>길동</td>\n      <td>21</td>\n    </tr>\n    <tr>\n      <th>3</th>\n      <td>영수</td>\n      <td>30</td>\n    </tr>\n    <tr>\n      <th>4</th>\n      <td>수민</td>\n      <td>31</td>\n    </tr>\n    <tr>\n      <th>5</th>\n      <td>동건</td>\n      <td>18</td>\n    </tr>\n  </tbody>\n</table>\n</div>"
     },
     "execution_count": 14,
     "metadata": {},
     "output_type": "execute_result"
    }
   ],
   "source": [
    "cust1"
   ],
   "metadata": {
    "collapsed": false
   }
  },
  {
   "cell_type": "code",
   "execution_count": 15,
   "outputs": [
    {
     "data": {
      "text/plain": "            item  quantity\ncustomer_id               \n1             치약         1\n1             칫솔         2\n2            이어폰         1\n2            헤드셋         1\n2             수건         3\n3             생수         2\n3             수건         2\n1             치약         3\n4             생수         2\n9            케이스         1",
      "text/html": "<div>\n<style scoped>\n    .dataframe tbody tr th:only-of-type {\n        vertical-align: middle;\n    }\n\n    .dataframe tbody tr th {\n        vertical-align: top;\n    }\n\n    .dataframe thead th {\n        text-align: right;\n    }\n</style>\n<table border=\"1\" class=\"dataframe\">\n  <thead>\n    <tr style=\"text-align: right;\">\n      <th></th>\n      <th>item</th>\n      <th>quantity</th>\n    </tr>\n    <tr>\n      <th>customer_id</th>\n      <th></th>\n      <th></th>\n    </tr>\n  </thead>\n  <tbody>\n    <tr>\n      <th>1</th>\n      <td>치약</td>\n      <td>1</td>\n    </tr>\n    <tr>\n      <th>1</th>\n      <td>칫솔</td>\n      <td>2</td>\n    </tr>\n    <tr>\n      <th>2</th>\n      <td>이어폰</td>\n      <td>1</td>\n    </tr>\n    <tr>\n      <th>2</th>\n      <td>헤드셋</td>\n      <td>1</td>\n    </tr>\n    <tr>\n      <th>2</th>\n      <td>수건</td>\n      <td>3</td>\n    </tr>\n    <tr>\n      <th>3</th>\n      <td>생수</td>\n      <td>2</td>\n    </tr>\n    <tr>\n      <th>3</th>\n      <td>수건</td>\n      <td>2</td>\n    </tr>\n    <tr>\n      <th>1</th>\n      <td>치약</td>\n      <td>3</td>\n    </tr>\n    <tr>\n      <th>4</th>\n      <td>생수</td>\n      <td>2</td>\n    </tr>\n    <tr>\n      <th>9</th>\n      <td>케이스</td>\n      <td>1</td>\n    </tr>\n  </tbody>\n</table>\n</div>"
     },
     "execution_count": 15,
     "metadata": {},
     "output_type": "execute_result"
    }
   ],
   "source": [
    "order1"
   ],
   "metadata": {
    "collapsed": false
   }
  },
  {
   "cell_type": "code",
   "execution_count": 16,
   "outputs": [
    {
     "data": {
      "text/plain": "            name  나이 item  quantity\ncustomer_id                        \n1             영희  20   치약         1\n1             영희  20   칫솔         2\n1             영희  20   치약         3\n2             길동  21  이어폰         1\n2             길동  21  헤드셋         1\n2             길동  21   수건         3\n3             영수  30   생수         2\n3             영수  30   수건         2\n4             수민  31   생수         2",
      "text/html": "<div>\n<style scoped>\n    .dataframe tbody tr th:only-of-type {\n        vertical-align: middle;\n    }\n\n    .dataframe tbody tr th {\n        vertical-align: top;\n    }\n\n    .dataframe thead th {\n        text-align: right;\n    }\n</style>\n<table border=\"1\" class=\"dataframe\">\n  <thead>\n    <tr style=\"text-align: right;\">\n      <th></th>\n      <th>name</th>\n      <th>나이</th>\n      <th>item</th>\n      <th>quantity</th>\n    </tr>\n    <tr>\n      <th>customer_id</th>\n      <th></th>\n      <th></th>\n      <th></th>\n      <th></th>\n    </tr>\n  </thead>\n  <tbody>\n    <tr>\n      <th>1</th>\n      <td>영희</td>\n      <td>20</td>\n      <td>치약</td>\n      <td>1</td>\n    </tr>\n    <tr>\n      <th>1</th>\n      <td>영희</td>\n      <td>20</td>\n      <td>칫솔</td>\n      <td>2</td>\n    </tr>\n    <tr>\n      <th>1</th>\n      <td>영희</td>\n      <td>20</td>\n      <td>치약</td>\n      <td>3</td>\n    </tr>\n    <tr>\n      <th>2</th>\n      <td>길동</td>\n      <td>21</td>\n      <td>이어폰</td>\n      <td>1</td>\n    </tr>\n    <tr>\n      <th>2</th>\n      <td>길동</td>\n      <td>21</td>\n      <td>헤드셋</td>\n      <td>1</td>\n    </tr>\n    <tr>\n      <th>2</th>\n      <td>길동</td>\n      <td>21</td>\n      <td>수건</td>\n      <td>3</td>\n    </tr>\n    <tr>\n      <th>3</th>\n      <td>영수</td>\n      <td>30</td>\n      <td>생수</td>\n      <td>2</td>\n    </tr>\n    <tr>\n      <th>3</th>\n      <td>영수</td>\n      <td>30</td>\n      <td>수건</td>\n      <td>2</td>\n    </tr>\n    <tr>\n      <th>4</th>\n      <td>수민</td>\n      <td>31</td>\n      <td>생수</td>\n      <td>2</td>\n    </tr>\n  </tbody>\n</table>\n</div>"
     },
     "execution_count": 16,
     "metadata": {},
     "output_type": "execute_result"
    }
   ],
   "source": [
    "pd.merge(cust1, order1, left_index=True, right_index=True)"
   ],
   "metadata": {
    "collapsed": false
   }
  },
  {
   "cell_type": "markdown",
   "source": [
    "### 연습문제\n",
    "1. 가장 많이 팔린 아이템은?\n",
    "2. 영희가 가장 많이 구매한 아이템은?"
   ],
   "metadata": {
    "collapsed": false
   }
  },
  {
   "cell_type": "code",
   "execution_count": 19,
   "outputs": [
    {
     "data": {
      "text/plain": "      customer_id  나이  quantity\nitem                           \n수건              5  51         5\n생수              7  61         4\n치약              2  40         4\n칫솔              1  20         2\n이어폰             2  21         1\n헤드셋             2  21         1",
      "text/html": "<div>\n<style scoped>\n    .dataframe tbody tr th:only-of-type {\n        vertical-align: middle;\n    }\n\n    .dataframe tbody tr th {\n        vertical-align: top;\n    }\n\n    .dataframe thead th {\n        text-align: right;\n    }\n</style>\n<table border=\"1\" class=\"dataframe\">\n  <thead>\n    <tr style=\"text-align: right;\">\n      <th></th>\n      <th>customer_id</th>\n      <th>나이</th>\n      <th>quantity</th>\n    </tr>\n    <tr>\n      <th>item</th>\n      <th></th>\n      <th></th>\n      <th></th>\n    </tr>\n  </thead>\n  <tbody>\n    <tr>\n      <th>수건</th>\n      <td>5</td>\n      <td>51</td>\n      <td>5</td>\n    </tr>\n    <tr>\n      <th>생수</th>\n      <td>7</td>\n      <td>61</td>\n      <td>4</td>\n    </tr>\n    <tr>\n      <th>치약</th>\n      <td>2</td>\n      <td>40</td>\n      <td>4</td>\n    </tr>\n    <tr>\n      <th>칫솔</th>\n      <td>1</td>\n      <td>20</td>\n      <td>2</td>\n    </tr>\n    <tr>\n      <th>이어폰</th>\n      <td>2</td>\n      <td>21</td>\n      <td>1</td>\n    </tr>\n    <tr>\n      <th>헤드셋</th>\n      <td>2</td>\n      <td>21</td>\n      <td>1</td>\n    </tr>\n  </tbody>\n</table>\n</div>"
     },
     "execution_count": 19,
     "metadata": {},
     "output_type": "execute_result"
    }
   ],
   "source": [
    "pd.merge(customers, orders, on='customer_id').groupby('item').sum().sort_values(by='quantity', ascending=False)"
   ],
   "metadata": {
    "collapsed": false
   }
  },
  {
   "cell_type": "code",
   "execution_count": 22,
   "outputs": [
    {
     "data": {
      "text/plain": "item\n치약    4\n칫솔    2\nName: quantity, dtype: int64"
     },
     "execution_count": 22,
     "metadata": {},
     "output_type": "execute_result"
    }
   ],
   "source": [
    "pd.merge(customers, orders, on='customer_id').groupby(['name','item']).sum().loc['영희', 'quantity']"
   ],
   "metadata": {
    "collapsed": false
   }
  },
  {
   "cell_type": "markdown",
   "source": [
    "### join 함수\n",
    "- 내부적으로 pandas.merge 함수 사용\n",
    "- 기본적으로 index를 사용하여 left join"
   ],
   "metadata": {
    "collapsed": false
   }
  },
  {
   "cell_type": "code",
   "execution_count": 23,
   "outputs": [
    {
     "data": {
      "text/plain": "            name  나이 item  quantity\ncustomer_id                        \n0             철수  40  NaN       NaN\n1             영희  20   치약       1.0\n1             영희  20   칫솔       2.0\n1             영희  20   치약       3.0\n2             길동  21  이어폰       1.0\n2             길동  21  헤드셋       1.0\n2             길동  21   수건       3.0\n3             영수  30   생수       2.0\n3             영수  30   수건       2.0\n4             수민  31   생수       2.0\n5             동건  18  NaN       NaN",
      "text/html": "<div>\n<style scoped>\n    .dataframe tbody tr th:only-of-type {\n        vertical-align: middle;\n    }\n\n    .dataframe tbody tr th {\n        vertical-align: top;\n    }\n\n    .dataframe thead th {\n        text-align: right;\n    }\n</style>\n<table border=\"1\" class=\"dataframe\">\n  <thead>\n    <tr style=\"text-align: right;\">\n      <th></th>\n      <th>name</th>\n      <th>나이</th>\n      <th>item</th>\n      <th>quantity</th>\n    </tr>\n    <tr>\n      <th>customer_id</th>\n      <th></th>\n      <th></th>\n      <th></th>\n      <th></th>\n    </tr>\n  </thead>\n  <tbody>\n    <tr>\n      <th>0</th>\n      <td>철수</td>\n      <td>40</td>\n      <td>NaN</td>\n      <td>NaN</td>\n    </tr>\n    <tr>\n      <th>1</th>\n      <td>영희</td>\n      <td>20</td>\n      <td>치약</td>\n      <td>1.0</td>\n    </tr>\n    <tr>\n      <th>1</th>\n      <td>영희</td>\n      <td>20</td>\n      <td>칫솔</td>\n      <td>2.0</td>\n    </tr>\n    <tr>\n      <th>1</th>\n      <td>영희</td>\n      <td>20</td>\n      <td>치약</td>\n      <td>3.0</td>\n    </tr>\n    <tr>\n      <th>2</th>\n      <td>길동</td>\n      <td>21</td>\n      <td>이어폰</td>\n      <td>1.0</td>\n    </tr>\n    <tr>\n      <th>2</th>\n      <td>길동</td>\n      <td>21</td>\n      <td>헤드셋</td>\n      <td>1.0</td>\n    </tr>\n    <tr>\n      <th>2</th>\n      <td>길동</td>\n      <td>21</td>\n      <td>수건</td>\n      <td>3.0</td>\n    </tr>\n    <tr>\n      <th>3</th>\n      <td>영수</td>\n      <td>30</td>\n      <td>생수</td>\n      <td>2.0</td>\n    </tr>\n    <tr>\n      <th>3</th>\n      <td>영수</td>\n      <td>30</td>\n      <td>수건</td>\n      <td>2.0</td>\n    </tr>\n    <tr>\n      <th>4</th>\n      <td>수민</td>\n      <td>31</td>\n      <td>생수</td>\n      <td>2.0</td>\n    </tr>\n    <tr>\n      <th>5</th>\n      <td>동건</td>\n      <td>18</td>\n      <td>NaN</td>\n      <td>NaN</td>\n    </tr>\n  </tbody>\n</table>\n</div>"
     },
     "execution_count": 23,
     "metadata": {},
     "output_type": "execute_result"
    }
   ],
   "source": [
    "cust1.join(order1)"
   ],
   "metadata": {
    "collapsed": false
   }
  },
  {
   "cell_type": "code",
   "execution_count": 24,
   "outputs": [
    {
     "data": {
      "text/plain": "            name  나이 item  quantity\ncustomer_id                        \n1             영희  20   치약         1\n1             영희  20   칫솔         2\n1             영희  20   치약         3\n2             길동  21  이어폰         1\n2             길동  21  헤드셋         1\n2             길동  21   수건         3\n3             영수  30   생수         2\n3             영수  30   수건         2\n4             수민  31   생수         2",
      "text/html": "<div>\n<style scoped>\n    .dataframe tbody tr th:only-of-type {\n        vertical-align: middle;\n    }\n\n    .dataframe tbody tr th {\n        vertical-align: top;\n    }\n\n    .dataframe thead th {\n        text-align: right;\n    }\n</style>\n<table border=\"1\" class=\"dataframe\">\n  <thead>\n    <tr style=\"text-align: right;\">\n      <th></th>\n      <th>name</th>\n      <th>나이</th>\n      <th>item</th>\n      <th>quantity</th>\n    </tr>\n    <tr>\n      <th>customer_id</th>\n      <th></th>\n      <th></th>\n      <th></th>\n      <th></th>\n    </tr>\n  </thead>\n  <tbody>\n    <tr>\n      <th>1</th>\n      <td>영희</td>\n      <td>20</td>\n      <td>치약</td>\n      <td>1</td>\n    </tr>\n    <tr>\n      <th>1</th>\n      <td>영희</td>\n      <td>20</td>\n      <td>칫솔</td>\n      <td>2</td>\n    </tr>\n    <tr>\n      <th>1</th>\n      <td>영희</td>\n      <td>20</td>\n      <td>치약</td>\n      <td>3</td>\n    </tr>\n    <tr>\n      <th>2</th>\n      <td>길동</td>\n      <td>21</td>\n      <td>이어폰</td>\n      <td>1</td>\n    </tr>\n    <tr>\n      <th>2</th>\n      <td>길동</td>\n      <td>21</td>\n      <td>헤드셋</td>\n      <td>1</td>\n    </tr>\n    <tr>\n      <th>2</th>\n      <td>길동</td>\n      <td>21</td>\n      <td>수건</td>\n      <td>3</td>\n    </tr>\n    <tr>\n      <th>3</th>\n      <td>영수</td>\n      <td>30</td>\n      <td>생수</td>\n      <td>2</td>\n    </tr>\n    <tr>\n      <th>3</th>\n      <td>영수</td>\n      <td>30</td>\n      <td>수건</td>\n      <td>2</td>\n    </tr>\n    <tr>\n      <th>4</th>\n      <td>수민</td>\n      <td>31</td>\n      <td>생수</td>\n      <td>2</td>\n    </tr>\n  </tbody>\n</table>\n</div>"
     },
     "execution_count": 24,
     "metadata": {},
     "output_type": "execute_result"
    }
   ],
   "source": [
    "cust1.join(order1, how='inner')"
   ],
   "metadata": {
    "collapsed": false
   }
  }
 ],
 "metadata": {
  "kernelspec": {
   "display_name": "Python 3",
   "language": "python",
   "name": "python3"
  },
  "language_info": {
   "codemirror_mode": {
    "name": "ipython",
    "version": 2
   },
   "file_extension": ".py",
   "mimetype": "text/x-python",
   "name": "python",
   "nbconvert_exporter": "python",
   "pygments_lexer": "ipython2",
   "version": "2.7.6"
  }
 },
 "nbformat": 4,
 "nbformat_minor": 0
}
