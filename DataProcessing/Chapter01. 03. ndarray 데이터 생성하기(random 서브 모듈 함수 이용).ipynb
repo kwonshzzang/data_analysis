{
 "cells": [
  {
   "cell_type": "markdown",
   "source": [
    "## 학습목표\n",
    "- random 서브모듈 함수를 통해 ndarray 데이터 생성하기"
   ],
   "metadata": {
    "collapsed": false,
    "pycharm": {
     "name": "#%% md\n"
    }
   }
  },
  {
   "cell_type": "code",
   "execution_count": 1,
   "outputs": [],
   "source": [
    "import numpy as np"
   ],
   "metadata": {
    "collapsed": false,
    "pycharm": {
     "name": "#%%\n"
    }
   }
  },
  {
   "cell_type": "markdown",
   "source": [
    "### random 서브모듈"
   ],
   "metadata": {
    "collapsed": false,
    "pycharm": {
     "name": "#%% md\n"
    }
   }
  },
  {
   "cell_type": "markdown",
   "source": [
    "### rand 함수\n",
    "- 0, 1 사이의 분포로 랜덤한 ndarray 생성"
   ],
   "metadata": {
    "collapsed": false,
    "pycharm": {
     "name": "#%% md\n"
    }
   }
  },
  {
   "cell_type": "code",
   "execution_count": 5,
   "outputs": [
    {
     "data": {
      "text/plain": "array([[0.66471002, 0.43714341, 0.39591394],\n       [0.42488992, 0.20500732, 0.41405635]])"
     },
     "execution_count": 5,
     "metadata": {},
     "output_type": "execute_result"
    }
   ],
   "source": [
    "np.random.rand(2, 3)"
   ],
   "metadata": {
    "collapsed": false,
    "pycharm": {
     "name": "#%%\n"
    }
   }
  },
  {
   "cell_type": "code",
   "execution_count": 6,
   "outputs": [
    {
     "data": {
      "text/plain": "array([0.60142075, 0.0263985 , 0.58326726, 0.63558369, 0.18375291,\n       0.17916861, 0.54477453, 0.74308782, 0.27698698, 0.17532282])"
     },
     "execution_count": 6,
     "metadata": {},
     "output_type": "execute_result"
    }
   ],
   "source": [
    "np.random.rand(10)"
   ],
   "metadata": {
    "collapsed": false,
    "pycharm": {
     "name": "#%%\n"
    }
   }
  },
  {
   "cell_type": "code",
   "execution_count": 7,
   "outputs": [
    {
     "data": {
      "text/plain": "array([[[0.89788151, 0.72719988, 0.48710221],\n        [0.95463829, 0.03858712, 0.96880217],\n        [0.71786989, 0.33430368, 0.77524323],\n        [0.42696513, 0.76371602, 0.14005718],\n        [0.64377892, 0.2537486 , 0.69614572]],\n\n       [[0.90965467, 0.97319116, 0.11200584],\n        [0.5805805 , 0.19163145, 0.50734789],\n        [0.7272826 , 0.69141208, 0.83221047],\n        [0.5071287 , 0.59706018, 0.27111489],\n        [0.03040171, 0.74042704, 0.85920253]],\n\n       [[0.64060723, 0.64433526, 0.34556946],\n        [0.38589956, 0.99539859, 0.58216364],\n        [0.60812417, 0.64991168, 0.75538668],\n        [0.06183486, 0.22776296, 0.19761058],\n        [0.11856255, 0.11468077, 0.62885933]],\n\n       [[0.46888655, 0.4618761 , 0.21237362],\n        [0.30562229, 0.66768116, 0.10408609],\n        [0.82040741, 0.00237972, 0.72759512],\n        [0.1179395 , 0.15919753, 0.73555468],\n        [0.95779435, 0.11659457, 0.22976941]]])"
     },
     "execution_count": 7,
     "metadata": {},
     "output_type": "execute_result"
    }
   ],
   "source": [
    "np.random.rand(4, 5, 3)"
   ],
   "metadata": {
    "collapsed": false,
    "pycharm": {
     "name": "#%%\n"
    }
   }
  },
  {
   "cell_type": "markdown",
   "source": [
    "### randn 함수\n",
    "- n: normal distribution(정규분포)\n",
    "- 정규분포로 샘플링된 랜덤 ndarray 생성"
   ],
   "metadata": {
    "collapsed": false,
    "pycharm": {
     "name": "#%% md\n"
    }
   }
  },
  {
   "cell_type": "code",
   "execution_count": 8,
   "outputs": [
    {
     "data": {
      "text/plain": "array([[-0.50850977,  0.57462582,  0.34640973, -2.75614583],\n       [ 0.88113936, -1.65021508,  0.99755985, -0.91465573],\n       [ 1.11265026,  1.24219285,  0.58325934,  0.642029  ]])"
     },
     "execution_count": 8,
     "metadata": {},
     "output_type": "execute_result"
    }
   ],
   "source": [
    "np.random.randn(3, 4)"
   ],
   "metadata": {
    "collapsed": false,
    "pycharm": {
     "name": "#%%\n"
    }
   }
  },
  {
   "cell_type": "code",
   "execution_count": 9,
   "outputs": [
    {
     "data": {
      "text/plain": "array([[[-0.75765869, -2.25853349],\n        [ 0.45911103,  1.78608736],\n        [-0.62457976,  0.85133816],\n        [ 0.61003598, -0.21529847]],\n\n       [[ 0.20885384,  0.59349241],\n        [-0.65241118,  1.34768953],\n        [ 0.3103336 , -0.54070881],\n        [-0.52654746, -0.46762131]],\n\n       [[-0.58556524, -0.05252787],\n        [ 0.99058717, -3.19452224],\n        [ 0.47305713,  0.05530116],\n        [ 2.14845451,  0.05379984]]])"
     },
     "execution_count": 9,
     "metadata": {},
     "output_type": "execute_result"
    }
   ],
   "source": [
    "np.random.randn(3, 4, 2)"
   ],
   "metadata": {
    "collapsed": false,
    "pycharm": {
     "name": "#%%\n"
    }
   }
  },
  {
   "cell_type": "code",
   "execution_count": 10,
   "outputs": [
    {
     "data": {
      "text/plain": "array([-0.58127186, -0.69204013, -0.0107088 , -0.03647937,  1.55526195])"
     },
     "execution_count": 10,
     "metadata": {},
     "output_type": "execute_result"
    }
   ],
   "source": [
    "np.random.randn(5)"
   ],
   "metadata": {
    "collapsed": false,
    "pycharm": {
     "name": "#%%\n"
    }
   }
  },
  {
   "cell_type": "markdown",
   "source": [
    "### randint 함수\n",
    "- 특정 정수 사이에서 랜덤하게 샘플링"
   ],
   "metadata": {
    "collapsed": false,
    "pycharm": {
     "name": "#%% md\n"
    }
   }
  },
  {
   "cell_type": "code",
   "execution_count": 11,
   "outputs": [
    {
     "data": {
      "text/plain": "array([[60, 58, 11, 13, 25],\n       [75, 27, 71, 29, 46],\n       [58, 85, 23, 94, 57]])"
     },
     "execution_count": 11,
     "metadata": {},
     "output_type": "execute_result"
    }
   ],
   "source": [
    "np.random.randint(1, 100, size=(3, 5))"
   ],
   "metadata": {
    "collapsed": false,
    "pycharm": {
     "name": "#%%\n"
    }
   }
  },
  {
   "cell_type": "code",
   "execution_count": 12,
   "outputs": [
    {
     "data": {
      "text/plain": "array([[[98, 69],\n        [17, 49],\n        [39, 26],\n        [56, 69],\n        [90, 49]],\n\n       [[36, 97],\n        [ 5, 44],\n        [99, 62],\n        [ 4, 74],\n        [71, 32]],\n\n       [[82, 74],\n        [24, 38],\n        [72, 49],\n        [34, 67],\n        [59, 75]]])"
     },
     "execution_count": 12,
     "metadata": {},
     "output_type": "execute_result"
    }
   ],
   "source": [
    "np.random.randint(1, 100, size=(3, 5, 2))"
   ],
   "metadata": {
    "collapsed": false,
    "pycharm": {
     "name": "#%%\n"
    }
   }
  },
  {
   "cell_type": "code",
   "execution_count": 13,
   "outputs": [
    {
     "data": {
      "text/plain": "array([43, 46, 76, 72, 54])"
     },
     "execution_count": 13,
     "metadata": {},
     "output_type": "execute_result"
    }
   ],
   "source": [
    "np.random.randint(1, 100, size=(5))"
   ],
   "metadata": {
    "collapsed": false,
    "pycharm": {
     "name": "#%%\n"
    }
   }
  },
  {
   "cell_type": "code",
   "execution_count": 15,
   "outputs": [
    {
     "data": {
      "text/plain": "array([[ 0.77833499, -0.04027537, -0.58033026,  0.51201514],\n       [ 0.42561015,  0.80858298,  0.40693397, -0.03519609],\n       [-0.89917413, -0.78557664, -0.64376427,  0.6039299 ]])"
     },
     "execution_count": 15,
     "metadata": {},
     "output_type": "execute_result"
    }
   ],
   "source": [
    "np.random.randn(3, 4)"
   ],
   "metadata": {
    "collapsed": false,
    "pycharm": {
     "name": "#%%\n"
    }
   }
  },
  {
   "cell_type": "markdown",
   "source": [
    "### seed 함수\n",
    "- 랜덤한 값을 동일하게 다시 생성하고자 할 때 사용"
   ],
   "metadata": {
    "collapsed": false,
    "pycharm": {
     "name": "#%% md\n"
    }
   }
  },
  {
   "cell_type": "code",
   "execution_count": 28,
   "outputs": [],
   "source": [
    "np.random.seed(100)"
   ],
   "metadata": {
    "collapsed": false,
    "pycharm": {
     "name": "#%%\n"
    }
   }
  },
  {
   "cell_type": "code",
   "execution_count": 29,
   "outputs": [
    {
     "data": {
      "text/plain": "array([[-1.74976547,  0.3426804 ,  1.1530358 , -0.25243604],\n       [ 0.98132079,  0.51421884,  0.22117967, -1.07004333],\n       [-0.18949583,  0.25500144, -0.45802699,  0.43516349]])"
     },
     "execution_count": 29,
     "metadata": {},
     "output_type": "execute_result"
    }
   ],
   "source": [
    "np.random.randn(3, 4)"
   ],
   "metadata": {
    "collapsed": false,
    "pycharm": {
     "name": "#%%\n"
    }
   }
  },
  {
   "cell_type": "markdown",
   "source": [
    "### choice\n",
    "- 주어진 1차원 ndarray로부터 랜덤으로 샘플링\n",
    "- 정수가 주어진 경우, np.arange(해당숫자)로 간주"
   ],
   "metadata": {
    "collapsed": false,
    "pycharm": {
     "name": "#%% md\n"
    }
   }
  },
  {
   "cell_type": "code",
   "execution_count": 30,
   "outputs": [
    {
     "data": {
      "text/plain": "array([[83,  4, 91, 59],\n       [67,  7, 49, 47],\n       [65, 61, 14, 55]])"
     },
     "execution_count": 30,
     "metadata": {},
     "output_type": "execute_result"
    }
   ],
   "source": [
    "np.random.choice(100, size=(3, 4))"
   ],
   "metadata": {
    "collapsed": false,
    "pycharm": {
     "name": "#%%\n"
    }
   }
  },
  {
   "cell_type": "code",
   "execution_count": 32,
   "outputs": [
    {
     "data": {
      "text/plain": "array([[2. , 1.5],\n       [3. , 4.9]])"
     },
     "execution_count": 32,
     "metadata": {},
     "output_type": "execute_result"
    }
   ],
   "source": [
    "x = np.array([1, 2, 3, 1.5, 2.6, 4.9])\n",
    "np.random.choice(x, size=(2, 2) )"
   ],
   "metadata": {
    "collapsed": false,
    "pycharm": {
     "name": "#%%\n"
    }
   }
  },
  {
   "cell_type": "code",
   "execution_count": 34,
   "outputs": [
    {
     "data": {
      "text/plain": "array([[2. , 1.5],\n       [4.9, 3. ]])"
     },
     "execution_count": 34,
     "metadata": {},
     "output_type": "execute_result"
    }
   ],
   "source": [
    "x = np.array([1, 2, 3, 1.5, 2.6, 4.9])\n",
    "np.random.choice(x, size=(2, 2), replace=False )"
   ],
   "metadata": {
    "collapsed": false,
    "pycharm": {
     "name": "#%%\n"
    }
   }
  },
  {
   "cell_type": "markdown",
   "source": [
    "### 확률분포에 따른 ndarray 생성\n",
    "- uniform\n",
    "- normal등등"
   ],
   "metadata": {
    "collapsed": false,
    "pycharm": {
     "name": "#%% md\n"
    }
   }
  },
  {
   "cell_type": "code",
   "execution_count": 35,
   "outputs": [
    {
     "data": {
      "text/plain": "array([[2.10191676, 1.76214681, 2.05853156, 2.9137538 , 1.35164262],\n       [1.23660567, 2.72589134, 1.14973376, 2.65018972, 2.67226363],\n       [1.15078982, 1.02280158, 1.09684114, 1.71424542, 2.33138675],\n       [1.02277922, 1.21583553, 2.8020262 , 2.58975752, 2.62292196]])"
     },
     "execution_count": 35,
     "metadata": {},
     "output_type": "execute_result"
    }
   ],
   "source": [
    "np.random.uniform(1.0, 3.0, size=(4, 5))"
   ],
   "metadata": {
    "collapsed": false,
    "pycharm": {
     "name": "#%%\n"
    }
   }
  },
  {
   "cell_type": "code",
   "execution_count": 36,
   "outputs": [
    {
     "data": {
      "text/plain": "array([[ 1.31557418,  1.4789783 ,  0.22142626, -1.11789416],\n       [-0.18499993, -0.43118745,  0.14253625, -1.49639345],\n       [ 0.30687456, -0.04634723,  0.41714428, -0.60377052]])"
     },
     "execution_count": 36,
     "metadata": {},
     "output_type": "execute_result"
    }
   ],
   "source": [
    "np.random.normal(size = (3, 4))"
   ],
   "metadata": {
    "collapsed": false,
    "pycharm": {
     "name": "#%%\n"
    }
   }
  }
 ],
 "metadata": {
  "kernelspec": {
   "display_name": "Python 3",
   "language": "python",
   "name": "python3"
  },
  "language_info": {
   "codemirror_mode": {
    "name": "ipython",
    "version": 2
   },
   "file_extension": ".py",
   "mimetype": "text/x-python",
   "name": "python",
   "nbconvert_exporter": "python",
   "pygments_lexer": "ipython2",
   "version": "2.7.6"
  }
 },
 "nbformat": 4,
 "nbformat_minor": 0
}