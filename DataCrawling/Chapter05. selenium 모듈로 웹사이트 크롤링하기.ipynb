{
 "cells": [
  {
   "cell_type": "markdown",
   "source": [
    "## 학습목표\n",
    "- selenium 모듈 사용법 알아보기"
   ],
   "metadata": {
    "collapsed": false,
    "pycharm": {
     "name": "#%% md\n"
    }
   }
  },
  {
   "cell_type": "code",
   "execution_count": 1,
   "outputs": [],
   "source": [
    "from selenium import webdriver\n",
    "from selenium.webdriver.common.keys import Keys\n",
    "from selenium.webdriver.support.ui import WebDriverWait\n",
    "from selenium.webdriver.support import expected_conditions as EC\n",
    "from selenium.webdriver.common.by import By\n",
    "\n",
    "from bs4 import BeautifulSoup\n",
    "import time"
   ],
   "metadata": {
    "collapsed": false,
    "pycharm": {
     "name": "#%%\n"
    }
   }
  },
  {
   "cell_type": "markdown",
   "source": [
    "### selenium\n",
    "- 웹페이지 테스트 자동화 모듈\n",
    "- 개발/테스트용 드라이버(웹브라우저)를 사용하여 실제 사용자가 사용하는 것처럼 동작\n",
    "- 실습전 확인 사항\n",
    "    - selenium 모듈 설치\n",
    "    - [크롬 드라이버 다운로드](https://chromedriver.chromium.org/downloads)"
   ],
   "metadata": {
    "collapsed": false,
    "pycharm": {
     "name": "#%% md\n"
    }
   }
  },
  {
   "cell_type": "markdown",
   "source": [
    "### selenium 예제\n",
    "- python.org로 이동하여 자동으로 검색해보기\n",
    "    1. python.org 사이트 오픈\n",
    "    2. input 필드를 검색하여 Key 이벤트 전달"
   ],
   "metadata": {
    "collapsed": false,
    "pycharm": {
     "name": "#%% md\n"
    }
   }
  },
  {
   "cell_type": "code",
   "execution_count": 5,
   "outputs": [
    {
     "name": "stderr",
     "output_type": "stream",
     "text": [
      "/var/folders/2p/5ztvmmzx1xzdnqqn7snr0gp00000gn/T/ipykernel_45517/1239590035.py:2: DeprecationWarning: executable_path has been deprecated, please pass in a Service object\n",
      "  driver = webdriver.Chrome(chrome_driver)\n"
     ]
    }
   ],
   "source": [
    "chrome_driver = '/Applications/chromedriver'\n",
    "driver = webdriver.Chrome(chrome_driver)\n",
    "\n",
    "driver.get('https://www.python.org')\n",
    "\n",
    "search = driver.find_element(By.ID, 'id-search-field')\n",
    "search.clear()\n",
    "time.sleep(3)\n",
    "\n",
    "search.send_keys('lambda')\n",
    "search.send_keys(Keys.RETURN)\n",
    "\n",
    "time.sleep(3)\n",
    "\n",
    "driver.close()\n"
   ],
   "metadata": {
    "collapsed": false,
    "pycharm": {
     "name": "#%%\n"
    }
   }
  },
  {
   "cell_type": "markdown",
   "source": [],
   "metadata": {
    "collapsed": false,
    "pycharm": {
     "name": "#%% md\n"
    }
   }
  },
  {
   "cell_type": "markdown",
   "source": [
    "### selenium을 이용한 다음 뉴스 웹사이트 크롤링\n",
    "-   driver 객체의 find_xxx_by 함수 활용"
   ],
   "metadata": {
    "collapsed": false,
    "pycharm": {
     "name": "#%% md\n"
    }
   }
  },
  {
   "cell_type": "code",
   "execution_count": 27,
   "outputs": [
    {
     "name": "stderr",
     "output_type": "stream",
     "text": [
      "/var/folders/2p/5ztvmmzx1xzdnqqn7snr0gp00000gn/T/ipykernel_45517/871142044.py:2: DeprecationWarning: executable_path has been deprecated, please pass in a Service object\n",
      "  driver = webdriver.Chrome(chrome_driver)\n"
     ]
    },
    {
     "ename": "TimeoutException",
     "evalue": "Message: \nStacktrace:\n0   chromedriver                        0x0000000100c12ae0 chromedriver + 3828448\n1   chromedriver                        0x0000000100ba7f1c chromedriver + 3391260\n2   chromedriver                        0x00000001008a0fcc chromedriver + 217036\n3   chromedriver                        0x00000001008d0b7c chromedriver + 412540\n4   chromedriver                        0x00000001008f9b2c chromedriver + 580396\n5   chromedriver                        0x00000001008c6010 chromedriver + 368656\n6   chromedriver                        0x0000000100be839c chromedriver + 3654556\n7   chromedriver                        0x0000000100bebc4c chromedriver + 3669068\n8   chromedriver                        0x0000000100bf014c chromedriver + 3686732\n9   chromedriver                        0x0000000100bec654 chromedriver + 3671636\n10  chromedriver                        0x0000000100bcab40 chromedriver + 3533632\n11  chromedriver                        0x0000000100c04414 chromedriver + 3769364\n12  chromedriver                        0x0000000100c04578 chromedriver + 3769720\n13  chromedriver                        0x0000000100c190f0 chromedriver + 3854576\n14  libsystem_pthread.dylib             0x00000001a91dc26c _pthread_start + 148\n15  libsystem_pthread.dylib             0x00000001a91d708c thread_start + 8\n",
     "output_type": "error",
     "traceback": [
      "\u001B[0;31m---------------------------------------------------------------------------\u001B[0m",
      "\u001B[0;31mTimeoutException\u001B[0m                          Traceback (most recent call last)",
      "Input \u001B[0;32mIn [27]\u001B[0m, in \u001B[0;36m<cell line: 7>\u001B[0;34m()\u001B[0m\n\u001B[1;32m      4\u001B[0m url \u001B[38;5;241m=\u001B[39m \u001B[38;5;124m'\u001B[39m\u001B[38;5;124mhttps://v.daum.net/v/20190728165812603\u001B[39m\u001B[38;5;124m'\u001B[39m\n\u001B[1;32m      5\u001B[0m driver\u001B[38;5;241m.\u001B[39mget(url)\n\u001B[0;32m----> 7\u001B[0m \u001B[43mWebDriverWait\u001B[49m\u001B[43m(\u001B[49m\u001B[43mdriver\u001B[49m\u001B[43m,\u001B[49m\u001B[43m \u001B[49m\u001B[38;5;241;43m20\u001B[39;49m\u001B[43m)\u001B[49m\u001B[38;5;241;43m.\u001B[39;49m\u001B[43muntil\u001B[49m\u001B[43m(\u001B[49m\u001B[43mEC\u001B[49m\u001B[38;5;241;43m.\u001B[39;49m\u001B[43mpresence_of_element_located\u001B[49m\u001B[43m(\u001B[49m\u001B[43m(\u001B[49m\u001B[43mBy\u001B[49m\u001B[38;5;241;43m.\u001B[39;49m\u001B[43mCSS_SELECTOR\u001B[49m\u001B[43m \u001B[49m\u001B[43m,\u001B[49m\u001B[43m \u001B[49m\u001B[38;5;124;43m'\u001B[39;49m\u001B[38;5;124;43mspan.num_cmt alex-count-area\u001B[39;49m\u001B[38;5;124;43m'\u001B[39;49m\u001B[43m)\u001B[49m\u001B[43m)\u001B[49m\u001B[43m)\u001B[49m\n\u001B[1;32m      8\u001B[0m src \u001B[38;5;241m=\u001B[39m driver\u001B[38;5;241m.\u001B[39mpage_source\n\u001B[1;32m      9\u001B[0m soup \u001B[38;5;241m=\u001B[39m BeautifulSoup(src)\n",
      "File \u001B[0;32m~/Dev/DataAnalysis/venv/lib/python3.9/site-packages/selenium/webdriver/support/wait.py:90\u001B[0m, in \u001B[0;36mWebDriverWait.until\u001B[0;34m(self, method, message)\u001B[0m\n\u001B[1;32m     88\u001B[0m     \u001B[38;5;28;01mif\u001B[39;00m time\u001B[38;5;241m.\u001B[39mmonotonic() \u001B[38;5;241m>\u001B[39m end_time:\n\u001B[1;32m     89\u001B[0m         \u001B[38;5;28;01mbreak\u001B[39;00m\n\u001B[0;32m---> 90\u001B[0m \u001B[38;5;28;01mraise\u001B[39;00m TimeoutException(message, screen, stacktrace)\n",
      "\u001B[0;31mTimeoutException\u001B[0m: Message: \nStacktrace:\n0   chromedriver                        0x0000000100c12ae0 chromedriver + 3828448\n1   chromedriver                        0x0000000100ba7f1c chromedriver + 3391260\n2   chromedriver                        0x00000001008a0fcc chromedriver + 217036\n3   chromedriver                        0x00000001008d0b7c chromedriver + 412540\n4   chromedriver                        0x00000001008f9b2c chromedriver + 580396\n5   chromedriver                        0x00000001008c6010 chromedriver + 368656\n6   chromedriver                        0x0000000100be839c chromedriver + 3654556\n7   chromedriver                        0x0000000100bebc4c chromedriver + 3669068\n8   chromedriver                        0x0000000100bf014c chromedriver + 3686732\n9   chromedriver                        0x0000000100bec654 chromedriver + 3671636\n10  chromedriver                        0x0000000100bcab40 chromedriver + 3533632\n11  chromedriver                        0x0000000100c04414 chromedriver + 3769364\n12  chromedriver                        0x0000000100c04578 chromedriver + 3769720\n13  chromedriver                        0x0000000100c190f0 chromedriver + 3854576\n14  libsystem_pthread.dylib             0x00000001a91dc26c _pthread_start + 148\n15  libsystem_pthread.dylib             0x00000001a91d708c thread_start + 8\n"
     ]
    }
   ],
   "source": [
    "chrome_driver = '/Applications/chromedriver'\n",
    "driver = webdriver.Chrome(chrome_driver)\n",
    "\n",
    "url = 'https://v.daum.net/v/20190728165812603'\n",
    "driver.get(url)\n",
    "\n",
    "WebDriverWait(driver, 20).until(EC.presence_of_element_located((By.CSS_SELECTOR , 'span.num_cmt alex-count-area')))\n",
    "\n",
    "src = driver.page_source\n",
    "soup = BeautifulSoup(src)\n",
    "driver.close()\n",
    "\n",
    "comment = soup.select_one('span.num_cmt alex-count-area')\n",
    "comment.get_text()"
   ],
   "metadata": {
    "collapsed": false,
    "pycharm": {
     "name": "#%%\n"
    }
   }
  },
  {
   "cell_type": "markdown",
   "source": [
    "### selenium을 활용하여 특정 element의 로딩대기\n",
    "- WebDriverWait 객체를 이용하여 해당 element가 로딩되는 것을 대기\n",
    "- 실제로 해당 기능을 활용하여 거의 모든 사이트의 크롤링이 가능\n",
    "- WebDirverWait(driver, 시간(초)), until(EC.presence_of_element_located((By.CSS_SELECTOR, 'CSS_RULE')))"
   ],
   "metadata": {
    "collapsed": false,
    "pycharm": {
     "name": "#%% md\n"
    }
   }
  },
  {
   "cell_type": "code",
   "execution_count": 24,
   "outputs": [
    {
     "name": "stderr",
     "output_type": "stream",
     "text": [
      "/var/folders/2p/5ztvmmzx1xzdnqqn7snr0gp00000gn/T/ipykernel_45517/3722004523.py:2: DeprecationWarning: executable_path has been deprecated, please pass in a Service object\n",
      "  driver = webdriver.Chrome(chrome_driver)\n"
     ]
    },
    {
     "data": {
      "text/plain": "'98'"
     },
     "execution_count": 24,
     "metadata": {},
     "output_type": "execute_result"
    }
   ],
   "source": [
    "chrome_driver = '/Applications/chromedriver'\n",
    "driver = webdriver.Chrome(chrome_driver)\n",
    "\n",
    "url = 'https://n.news.naver.com/article/028/0002604479?cds=news_media_pc&type=editn'\n",
    "driver.get(url)\n",
    "\n",
    "WebDriverWait(driver, 10).until(EC.presence_of_element_located((By.CSS_SELECTOR, 'span.u_cbox_count')))\n",
    "\n",
    "src = driver.page_source\n",
    "soup = BeautifulSoup(src)\n",
    "\n",
    "driver.close()\n",
    "\n",
    "comment = soup.select_one('span.u_cbox_count')\n",
    "\n",
    "comment.get_text()"
   ],
   "metadata": {
    "collapsed": false,
    "pycharm": {
     "name": "#%%\n"
    }
   }
  },
  {
   "cell_type": "code",
   "execution_count": null,
   "outputs": [],
   "source": [],
   "metadata": {
    "collapsed": false,
    "pycharm": {
     "name": "#%%\n"
    }
   }
  }
 ],
 "metadata": {
  "kernelspec": {
   "display_name": "Python 3",
   "language": "python",
   "name": "python3"
  },
  "language_info": {
   "codemirror_mode": {
    "name": "ipython",
    "version": 2
   },
   "file_extension": ".py",
   "mimetype": "text/x-python",
   "name": "python",
   "nbconvert_exporter": "python",
   "pygments_lexer": "ipython2",
   "version": "2.7.6"
  }
 },
 "nbformat": 4,
 "nbformat_minor": 0
}