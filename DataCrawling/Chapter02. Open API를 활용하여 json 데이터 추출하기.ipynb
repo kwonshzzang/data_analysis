{
 "cells": [
  {
   "cell_type": "markdown",
   "source": [
    "## 학습목표\n",
    "1. OPEN API 사용하여 데이터 획득하기"
   ],
   "metadata": {
    "collapsed": false,
    "pycharm": {
     "name": "#%% md\n"
    }
   }
  },
  {
   "cell_type": "markdown",
   "source": [
    "### 공공데이터 포털 OPEN API 사용하기\n",
    "1. 공공데이터 포털 회원가입/로그인(https://www.data.go.kr/)\n",
    "2. API 사용요청/ 키 발급\n",
    "3. API 문서(specification) 확인\n",
    "4. API 테스트 및 개발"
   ],
   "metadata": {
    "collapsed": false,
    "pycharm": {
     "name": "#%% md\n"
    }
   }
  },
  {
   "cell_type": "code",
   "execution_count": null,
   "outputs": [],
   "source": [
    "import requests"
   ],
   "metadata": {
    "collapsed": false,
    "pycharm": {
     "name": "#%%\n"
    }
   }
  },
  {
   "cell_type": "markdown",
   "source": [
    "### Endpoint 확인하기\n",
    "- API가 서비스되는 서버의 IP 혹은 domain 주소"
   ],
   "metadata": {
    "collapsed": false,
    "pycharm": {
     "name": "#%% md\n"
    }
   }
  },
  {
   "cell_type": "code",
   "execution_count": 21,
   "outputs": [
    {
     "name": "stdout",
     "output_type": "stream",
     "text": [
      "http://api.visitkorea.or.kr/openapi/service/rest/EngService/areaBasedList?serviceKey=6uAMfC1RDTLntHVOUFCdZDwYeVhaIxKrKIw%2BiOVyFaHTp9Tfs%2FRTi8Ia4o1K%2BScQ5fOZQFuqcxSD7dgRFinFNA%3D%3D&numOfRows=10&pageNo=1&MobileOS=ETC&MobileApp=AppTest&listYN=Y&arrange=A&areaCode=35&_type=json\n"
     ]
    }
   ],
   "source": [
    "endpoint = 'http://api.visitkorea.or.kr/openapi/service/rest/EngService/areaBasedList?serviceKey={}&numOfRows=10&pageNo=1&MobileOS=ETC&MobileApp=AppTest&listYN=Y&arrange=A&areaCode=35&_type=json'.format(serviceKey)\n",
    "\n",
    "print(endpoint)"
   ],
   "metadata": {
    "collapsed": false,
    "pycharm": {
     "name": "#%%\n"
    }
   }
  },
  {
   "cell_type": "markdown",
   "source": [
    "### key값 확인하기\n",
    "- 서비스 호출 트래킹할 목적이나 악의적인 사용을 금지할 목적으로 주로 사용\n",
    "- 새로 발급받은 키는 1시간 이후 사용 가능"
   ],
   "metadata": {
    "collapsed": false,
    "pycharm": {
     "name": "#%% md\n"
    }
   }
  },
  {
   "cell_type": "code",
   "execution_count": 22,
   "outputs": [],
   "source": [
    "serviceKey ='6uAMfC1RDTLntHVOUFCdZDwYeVhaIxKrKIw%2BiOVyFaHTp9Tfs%2FRTi8Ia4o1K%2BScQ5fOZQFuqcxSD7dgRFinFNA%3D%3D'"
   ],
   "metadata": {
    "collapsed": false,
    "pycharm": {
     "name": "#%%\n"
    }
   }
  },
  {
   "cell_type": "markdown",
   "source": [
    "### Parameter 확인하기\n",
    "- API 호출에 필요한 parameter값 확인 및 구성"
   ],
   "metadata": {
    "collapsed": false,
    "pycharm": {
     "name": "#%% md\n"
    }
   }
  },
  {
   "cell_type": "code",
   "execution_count": 23,
   "outputs": [
    {
     "name": "stdout",
     "output_type": "stream",
     "text": [
      "{'addr1': '141, Wonhyo-ro, Gyeongju-si, Gyeongsangbuk-do', 'addr2': '', 'areacode': '35', 'cat1': 'B02', 'cat2': 'B0201', 'cat3': 'B02010900', 'contentid': '2024006', 'contenttypeid': '80', 'createdtime': '20150818233926', 'firstimage': 'http://tong.visitkorea.or.kr/cms/resource/21/2577221_image2_1.jpg', 'firstimage2': 'http://tong.visitkorea.or.kr/cms/resource/21/2577221_image3_1.jpg', 'mapx': '129.2164088961', 'mapy': '35.8420930618', 'mlevel': '6', 'modifiedtime': '20200910224750', 'readcount': 4106, 'sigungucode': '2', 'tel': '+82-10-9031-1628', 'title': '141MINIHOTEL [Korea Quality] / 141미니호텔 [한국관광 품질인증]', 'zipcode': '38153'}\n"
     ]
    }
   ],
   "source": [
    "endpoint = 'http://api.visitkorea.or.kr/openapi/service/rest/EngService/areaBasedList?serviceKey={}&numOfRows=10&pageNo={}&MobileOS=ETC&MobileApp=AppTest&listYN=Y&arrange=A&areaCode=35&_type=json'.format(serviceKey,1)\n",
    "resp = requests.get(endpoint)\n",
    "\n",
    "# print(resp.status_code)\n",
    "# print(resp.text)\n",
    "\n",
    "data = resp.json()\n",
    "\n",
    "print(data['response']['body']['items']['item'][0])"
   ],
   "metadata": {
    "collapsed": false,
    "pycharm": {
     "name": "#%%\n"
    }
   }
  },
  {
   "cell_type": "markdown",
   "source": [
    "### 요청 및 Response 확인\n",
    "- requests 모듈을 활용하여 API 호출\n",
    "- response 확인하여 원하는 정보 추출\n",
    "- json 데이터의 경우, python dictionary로 변경하여 사용가능"
   ],
   "metadata": {
    "collapsed": false,
    "pycharm": {
     "name": "#%% md\n"
    }
   }
  }
 ],
 "metadata": {
  "kernelspec": {
   "display_name": "Python 3",
   "language": "python",
   "name": "python3"
  },
  "language_info": {
   "codemirror_mode": {
    "name": "ipython",
    "version": 2
   },
   "file_extension": ".py",
   "mimetype": "text/x-python",
   "name": "python",
   "nbconvert_exporter": "python",
   "pygments_lexer": "ipython2",
   "version": "2.7.6"
  }
 },
 "nbformat": 4,
 "nbformat_minor": 0
}