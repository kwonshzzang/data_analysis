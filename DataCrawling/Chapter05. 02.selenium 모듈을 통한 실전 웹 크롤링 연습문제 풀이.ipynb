{
 "cells": [
  {
   "cell_type": "markdown",
   "source": [
    "## 학습목표\n",
    "- 다음 뉴스와 그 뉴스의 댓글 크롤링하기"
   ],
   "metadata": {
    "collapsed": false,
    "pycharm": {
     "name": "#%% md\n"
    }
   }
  },
  {
   "cell_type": "code",
   "execution_count": null,
   "outputs": [],
   "source": [
    "import requests\n",
    "from bs4 import BeautifulSoup"
   ],
   "metadata": {
    "collapsed": false,
    "pycharm": {
     "name": "#%%\n"
    }
   }
  },
  {
   "cell_type": "markdown",
   "source": [
    "### 뉴스 제목 크롤링"
   ],
   "metadata": {
    "collapsed": false,
    "pycharm": {
     "name": "#%% md\n"
    }
   }
  },
  {
   "cell_type": "code",
   "execution_count": null,
   "outputs": [],
   "source": [
    "def get_daum_news_title(news_id):\n",
    "    url = 'https://v.daum.net/v/{}'.format(news_id)\n",
    "    resp = requests.get(url)\n",
    "    soup = BeautifulSoup(resp.text)\n",
    "    title = soup.select_one('h3.tit_view')\n",
    "    if title:\n",
    "        return title.get_text()\n",
    "    return \"\""
   ],
   "metadata": {
    "collapsed": false,
    "pycharm": {
     "name": "#%%\n"
    }
   }
  },
  {
   "cell_type": "code",
   "execution_count": null,
   "outputs": [],
   "source": [
    "get_daum_news_title(20190728165812603)"
   ],
   "metadata": {
    "collapsed": false,
    "pycharm": {
     "name": "#%%\n"
    }
   }
  },
  {
   "cell_type": "code",
   "execution_count": null,
   "outputs": [],
   "source": [
    "get_daum_news_title(20220831152605586)"
   ],
   "metadata": {
    "collapsed": false,
    "pycharm": {
     "name": "#%%\n"
    }
   }
  },
  {
   "cell_type": "markdown",
   "source": [
    "### 뉴스본문 크롤링"
   ],
   "metadata": {
    "collapsed": false,
    "pycharm": {
     "name": "#%% md\n"
    }
   }
  },
  {
   "cell_type": "code",
   "execution_count": null,
   "outputs": [],
   "source": [
    "def get_daum_news_content(news_id):\n",
    "     url = 'https://v.daum.net/v/{}'.format(news_id)\n",
    "     resp = requests.get(url)\n",
    "     soup = BeautifulSoup(resp.text)\n",
    "\n",
    "     content = ''\n",
    "     for p in soup.select('div.article_view p'):\n",
    "         content += p.get_text()\n",
    "\n",
    "     return content"
   ],
   "metadata": {
    "collapsed": false,
    "pycharm": {
     "name": "#%%\n"
    }
   }
  },
  {
   "cell_type": "code",
   "execution_count": null,
   "outputs": [],
   "source": [
    "get_daum_news_content(20190728165812603)"
   ],
   "metadata": {
    "collapsed": false,
    "pycharm": {
     "name": "#%%\n"
    }
   }
  },
  {
   "cell_type": "code",
   "execution_count": null,
   "outputs": [],
   "source": [
    "get_daum_news_content(20220831152605586)"
   ],
   "metadata": {
    "collapsed": false,
    "pycharm": {
     "name": "#%%\n"
    }
   }
  },
  {
   "cell_type": "markdown",
   "source": [
    "### 뉴스 댓글 크롤링"
   ],
   "metadata": {
    "collapsed": false,
    "pycharm": {
     "name": "#%% md\n"
    }
   }
  },
  {
   "cell_type": "code",
   "execution_count": null,
   "outputs": [],
   "source": [
    "url = 'https://comment.daum.net/apis/v1/posts/133493400/comments?parentId=0&offset=13&limit=10&sort=POPULAR&isInitial=false&hasNext=true&randomSeed=1661929608'\n",
    "\n",
    "resp = requests.get(url)\n",
    "resp.json()"
   ],
   "metadata": {
    "collapsed": false,
    "pycharm": {
     "name": "#%%\n"
    }
   }
  },
  {
   "cell_type": "code",
   "execution_count": null,
   "outputs": [],
   "source": [
    "def get_daum_news_comment(news_id):\n",
    "    url_template = 'https://comment.daum.net/apis/v1/posts/133493400/comments?parentId=0&offset={}&limit=10&sort=POPULAR&isInitial=false&hasNext=true&randomSeed=1661929608'\n",
    "    offset = 0\n",
    "    comments = []\n",
    "\n",
    "    while True:\n",
    "        url = url_template.format(offset)\n",
    "        resp = requests.get(url)\n",
    "        data = resp.json()\n",
    "\n",
    "        if not data:\n",
    "          break\n",
    "\n",
    "        comments.extend(data)\n",
    "        offset += 10\n",
    "\n",
    "    return comments"
   ],
   "metadata": {
    "collapsed": false,
    "pycharm": {
     "name": "#%%\n"
    }
   }
  },
  {
   "cell_type": "code",
   "execution_count": null,
   "outputs": [],
   "source": [
    "len(get_daum_news_comment(20190728165812603))"
   ],
   "metadata": {
    "collapsed": false,
    "pycharm": {
     "name": "#%%\n"
    }
   }
  }
 ],
 "metadata": {
  "kernelspec": {
   "display_name": "Python 3",
   "language": "python",
   "name": "python3"
  },
  "language_info": {
   "codemirror_mode": {
    "name": "ipython",
    "version": 2
   },
   "file_extension": ".py",
   "mimetype": "text/x-python",
   "name": "python",
   "nbconvert_exporter": "python",
   "pygments_lexer": "ipython2",
   "version": "2.7.6"
  }
 },
 "nbformat": 4,
 "nbformat_minor": 0
}